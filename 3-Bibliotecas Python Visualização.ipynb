{
 "cells": [
  {
   "cell_type": "markdown",
   "metadata": {},
   "source": [
    "## Introdução\n",
    "\n",
    "A visualização (de tendências) de dados é uma das tarefas mais importantes em ciência e análise de dados e em \"machine learning\". A escolha dos algoritmos  depende muito dos padrões identificados no conjunto de dados durante a fase de visualização. Neste notebook, veremos como podemos executar diferentes tipos de visualizações em Python.\n",
    "Existe uma enorme quantidade de opções para visualização com Python, presentes na forma de bibliotecas. Algumas bibliotecas como o Matplotlib são usadas para exploração básica inicial, mas não são tão úteis para mostrar associações complexas. Algumas funcionam bem com grandes conjuntos de dados, enquanto outras concentram-se principalmente nas renderizações em 3D. De facto, não existe uma única biblioteca de visualização que possa ser referida como a melhor. Existem certos recursos que são melhores numa que noutra e vice-versa. \n",
    "\n",
    "![alt text](imagens/vecosystem.png)"
   ]
  },
  {
   "cell_type": "markdown",
   "metadata": {},
   "source": [
    "## Matplotlib\n",
    "\n",
    "Matplotlib é uma biblioteca de visualização 2D Python usada para criar gráficos e visualizações 2D utilizando scripts na linguagem python. Possui um módulo chamado pyplot, que facilita a plotagem, fornecendo recursos para controlar estilos de linha, propriedades de fonte, eixos de formatação, etc. A biblioteca Matplotlib permite a construção de vários tipos de gráficos, como de linha, barras, dispersão, histograma, etc."
   ]
  },
  {
   "cell_type": "code",
   "execution_count": null,
   "metadata": {},
   "outputs": [],
   "source": [
    "#Instalação\n",
    "#pip install matplotlib"
   ]
  },
  {
   "cell_type": "markdown",
   "metadata": {},
   "source": [
    "### Importação\n",
    "\n",
    "A função \"pyplot\" permite interagir com um ambiente de visualização semelhante ao MATLAB. Também se importa aqui uma função \"de linhas\" que  permite adicionar linhas aos gráficos:"
   ]
  },
  {
   "cell_type": "code",
   "execution_count": null,
   "metadata": {},
   "outputs": [],
   "source": [
    "from matplotlib import pyplot as plt\n",
    "#ou\n",
    "import matplotlib.pyplot as plt \n",
    "%matplotlib inline\n",
    "\n",
    "#\"pyplot\" é o objeto principal que contém os métodos para criar todos os tipos de gráficos.\n",
    "\n",
    "#\"%matplotlib inline\" é um comando específico do notebook jupyter que permite visualizar\n",
    "#os gráficos no próprio notebook."
   ]
  },
  {
   "cell_type": "markdown",
   "metadata": {},
   "source": [
    "### Gráficos principais para a visualização de dados:\n",
    "    Linhas (Line Plot)\n",
    "    Barras (Bar Chart)\n",
    "    Histograma (Histogram Plot)\n",
    "    Dispersão (Scatter Plot)\n",
    "    Pilha (Stack Plot)\n",
    "    Queijo (Pie Chart)\n",
    "    Caixa ou Caixa e bigode (Box Plot ou box-and-whisker plot)"
   ]
  },
  {
   "cell_type": "markdown",
   "metadata": {},
   "source": [
    "### Gráfico de linhas (line plot)"
   ]
  },
  {
   "cell_type": "code",
   "execution_count": null,
   "metadata": {},
   "outputs": [],
   "source": [
    "plt.plot([1,2,3], [4,5,6])\n",
    "plt.show()"
   ]
  },
  {
   "cell_type": "markdown",
   "metadata": {},
   "source": [
    "No código acima, plot() é a função utilizada para plotar o gráfico de linhas, com variáveis para representar a linha.\n",
    "\n",
    "Quando se representa uma linha usando a função plot() o gráfico é plotado internamente. Para visualizar externamente, utiliza-se a função show().\n",
    "\n",
    "Mais um exemplo:"
   ]
  },
  {
   "cell_type": "code",
   "execution_count": null,
   "metadata": {},
   "outputs": [],
   "source": [
    "    import matplotlib.pyplot as plt\n",
    "    x = [1,2,3]\n",
    "    y = [4,5,6]\n",
    "    x2 = [2,3,4]\n",
    "    y2 = [6,7,8]\n",
    "    plt.plot(x, y, label = 'Primeira linha', color='red', linestyle='solid')\n",
    "    plt.plot(x2, y2, label = 'Segunda linha', color='g', linestyle='dashed')\n",
    "    plt.xlabel('eixo-x')\n",
    "    plt.ylabel('eeixo-y')\n",
    "    plt.title('Gráfico de linhas')\n",
    "    plt.legend()\n",
    "    plt.show()"
   ]
  },
  {
   "cell_type": "markdown",
   "metadata": {},
   "source": [
    "No código acima foram criadas duas linhas utilizando as variáveis x & y e x2 & y2. Também se poderia utilizar a biblioteca NumPy para criar as matrizes x e y, Pandas com um ficheiro csv ou através duma query a uma BD (ver os primeiros 2 notebooks disponibilizados na UC).\n",
    "\n",
    "A função plt.plot() recebe argumentos adicionais que podem ser usados para especificar condições diferentes.\n",
    "\n",
    "Utiliza-se (como no código acima) argumentos como:\n",
    "\n",
    " - label: para atribuir um rótulo a cada linha que usamos no programa.\n",
    " - cor: para atribuir cores diferentes às linhas. Podemos especificar essas cores de várias maneiras, como por nome, código de cores, código hexadecimal, etc.\n",
    " - estilo de linha: para ajustar o estilo da linha, como pontilhado, pontilhado, sólido e pontilhado. Também podemos usar códigos para especificar esses estilos de linha, como '-', ':', '-', '-.', respectivamente.\n",
    "\n",
    "Pode-se combinar as cores e o estilo de linha num único argumento que não seja de palavra-chave, como '-g', '-.r' etc.\n",
    "\n",
    "As funções plt.xlabel() e plt.ylabel() são utilizadas para atribuir nomes aos eixos x e y do gráfico, respectivamente.\n",
    "\n",
    "O método plt.title () é usado para atribuir um título ao gráfico e geralmente aparece na parte superior do gráfico.\n",
    "\n",
    "O método plt.legend () é usado quando várias linhas são mostradas num único eixo; pode ser útil criar uma legenda que rotule cada tipo de linha. A biblioteca Matplotlib possui uma maneira integrada de criar rapidamente uma legenda utilizando este método.\n",
    "\n",
    "A função plt.legend() controla o estilo e a cor da linha e combinaos com a etiqueta correspondente.\n",
    "\n",
    "Existem muitos outros métodos semelhantes, que poderá conferir no site oficial do Matplotlib."
   ]
  },
  {
   "cell_type": "code",
   "execution_count": null,
   "metadata": {},
   "outputs": [],
   "source": []
  },
  {
   "cell_type": "markdown",
   "metadata": {},
   "source": [
    "### Gráfico de barras (bar graph)\n",
    "\n",
    "Os gráficos de barras são normalmente utilizadps para comparar dados entre diferentes categorias. O gráfico de barras pode ser representado na horizontal ou na vertical."
   ]
  },
  {
   "cell_type": "code",
   "execution_count": null,
   "metadata": {},
   "outputs": [],
   "source": [
    "    x = [2,4,6, 8, 10]\n",
    "    y = [4,2,5,6,7]\n",
    "    x2 = [1, 3, 5, 7, 9]\n",
    "    y2 = [5,3,6,4,7]\n",
    "    plt.bar(x,y, label = 'Barra1', color = 'r')\n",
    "    plt.bar(x2,y2, label = 'Barra2', color= 'c')\n",
    "    plt.xlabel('eixo-x')\n",
    "    plt.ylabel('eixo-y')\n",
    "    plt.title('Gráfico de barras')\n",
    "    plt.legend()\n",
    "    plt.show()"
   ]
  },
  {
   "cell_type": "markdown",
   "metadata": {},
   "source": [
    "O gráfico de barras é representado usando o método bar().\n",
    "\n",
    "No código acima, as duas barras são denominadas como Barra1 e Barra2. \"Barra1\" é representada utilizando os dados de x & y e \"Barra2\" os dados de x2 & y2.\n",
    "\n",
    "A Barra1 é mostrada com o código de cores 'r', ou seja, com a cor vermelha e a Barra2 é mostrada com o código de cores 'c', ou seja, com a cor ciano.\n",
    "\n",
    "Também se podem usar parâmetros diferentes, como altura, largura, alinhamento, marcas de escala, etc.\n",
    "\n",
    "É possível também gerar um gráfico de barras horizontais. Para isso, usamos o método plt.barh() no lugar do método plt.bar(). Experimente."
   ]
  },
  {
   "cell_type": "markdown",
   "metadata": {},
   "source": [
    "### Histogramas\n",
    "\n",
    "Os histogramas são semelhantes ao gráfico de barras, no entanto, são mais usados para mostrar a distribuição. Isso é útil quando temos dados sob a forma de matrizes.\n",
    "\n",
    "Vejamos isso com um exemplo em que a idade da população é representada em relação ao \"bin\" (intervalo). \"Bin\" refere-se ao intervalo de valores que são divididos numa série com geralmente o mesmo tamanho de intervalos."
   ]
  },
  {
   "cell_type": "code",
   "execution_count": null,
   "metadata": {},
   "outputs": [],
   "source": [
    "    idade_popul = [22,4,32,54,21,37,76,36,86,46.35,99,36,76,7,15,38,100,105,43]\n",
    "    bins = [0,10,20,30,40,50,60,70,80,90,100,110]\n",
    "    plt.hist(idade_popul, bins, histtype = 'bar', rwidth= 0.5)\n",
    "    plt.xlabel('Grupo de idades')\n",
    "    plt.ylabel('Nº de pessoas')\n",
    "    plt.title('Histograma')\n",
    "    plt.show()"
   ]
  },
  {
   "cell_type": "markdown",
   "metadata": {},
   "source": [
    "No código acima a \"matrix idade_popul\" contém a idade de várias pessoas. A variável \"Bin\" contém o número de pessoas numa determinada faixa etária.\n",
    "No output podemos ver que as pessoas da faixa etária de 30 a 40 anos são mais numerosas.\n",
    "O método hist() é usado para plotar histogramas.\n",
    "A palavra-chave \"histtype\" mostra os vários tipos de histogramas que podem ser preenchidos em barra, com pilha de barras, etapa e etapa (step by step). \"rwidth\" informa a largura relativa das barras.\n",
    "Da mesma forma, também podemos usar outros parâmetros como e quando necessário. Experimente."
   ]
  },
  {
   "cell_type": "markdown",
   "metadata": {},
   "source": [
    "### Gráfico de dispersão (scatter plot)\n",
    "\n",
    "O Gráfico de Dispersão é muito semelhante ao gráfico de linhas, no qual, em vez de pontos serem unidos por segmentos de linha, os pontos são mostrados individualmente com um ponto, círculo ou qualquer outra forma.\n",
    "\n",
    "Pode-se visualizar gráficos de dispersão utilizando os métodos plt.plot() e plt.scatter().\n",
    "\n",
    "Primeiro um exemplo para criar um gráfico de dispersão utilizando o método plt.plot ():"
   ]
  },
  {
   "cell_type": "code",
   "execution_count": null,
   "metadata": {},
   "outputs": [],
   "source": [
    "import matplotlib.pyplot as plt\n",
    "import numpy as np\n",
    "\n",
    "x = np.linspace(0, 10, 30)\n",
    "y = np.sin(x)\n",
    "\n",
    "plt.plot(x, y, 'o', color='black')"
   ]
  },
  {
   "cell_type": "markdown",
   "metadata": {},
   "source": [
    "No código acima, criou-se 2 matrizes utilizando a biblioteca NumPy.\n",
    "\n",
    "Essas duas matrizes são representadas usando o método plt.plot(). O atributo 'o' é usado para exibir a forma da dispersão.\n",
    "\n",
    "Seguidamente um exemplo para criar um gráfico de dispersão usando o método plt.scatter()."
   ]
  },
  {
   "cell_type": "code",
   "execution_count": null,
   "metadata": {
    "scrolled": false
   },
   "outputs": [],
   "source": [
    "x = [1,2,3,4,5,6,7,8]\n",
    "y = [5,2,4,2,1,4,5,2]\n",
    "plt.scatter(x, y, label='Dados teste', marker='*', color = 'k', s = 30)\n",
    "\n",
    "plt.xlabel('eixo-x')\n",
    "plt.ylabel('eixo-y')\n",
    "plt.title('Scatter Graph')\n",
    "plt.legend()\n",
    "plt.show()"
   ]
  },
  {
   "cell_type": "markdown",
   "metadata": {},
   "source": [
    "No código acima as duas matrizes são plotadas usando o método plt.scatter().\n",
    "\n",
    "A palavra-chave \"marker\" é utilizada para exibir a forma na qual o gráfico de dispersão será representado e \"s\" refere-se ao tamanho da dispersão.\n",
    "\n",
    "Também podemos usar esses códigos de caracteres com códigos de linhas e cores para plotar pontos simultaneamente com uma linha que os liga. Repare no código abaixo:"
   ]
  },
  {
   "cell_type": "code",
   "execution_count": null,
   "metadata": {},
   "outputs": [],
   "source": [
    "x = np.linspace(0, 10, 30)\n",
    "y = np.sin(x)\n",
    "\n",
    "plt.plot(x, y, '-ok')"
   ]
  },
  {
   "cell_type": "markdown",
   "metadata": {},
   "source": [
    "No código acima, podemos ver que x y são passados como a variável da matriz, '-' é o tipo de linha, 'o' é o estilo do ponto e 'k' a cor.\n",
    "\n",
    "O método plt.plot() é diferente de plt.scatter(), pois não providencia a opção de alterar a cor e o tamanho do ponto dinamicamente.\n",
    "\n",
    "Verifique isso criando um gráfico de dispersão aleatório, com pontos de várias cores e tamanhos: (No código seguinte criam-se duas matrizes utilizando a biblioteca NumPy e a cor é mapeada para estar dentro do intervalo de 0-100; o tamanho é dado em pixels. \"cmap\" significa \"colormap\" - mapa de cores)"
   ]
  },
  {
   "cell_type": "code",
   "execution_count": null,
   "metadata": {},
   "outputs": [],
   "source": [
    "rng = np.random.RandomState(0)\n",
    "x = rng.randn(100)\n",
    "y = rng.randn(100)\n",
    "colors = rng.rand(100)\n",
    "sizes = 1000 * rng.rand(100)\n",
    "\n",
    "plt.scatter(x, y, c=colors, s=sizes, alpha=0.2, cmap='viridis')\n",
    "plt.colorbar();  # apresenta a escala de cores"
   ]
  },
  {
   "cell_type": "markdown",
   "metadata": {},
   "source": [
    "### Gráfico de pilha (stack plot)\n",
    "\n",
    "Um gráfico de pilha é um gráfico que mostra  o conjunto de dados com  visualização de como cada parte compõe o todo.\n",
    "\n",
    "Cada constituinte do gráfico de pilha é empilhado um sobre o outro.\n",
    "\n",
    "É parecido como um gráfico de queijo que mostra todos os vários constituintes de um conjunto de dados. No entanto  é diferente, pois os gráficos de pilha têm eixos, ao contrário dos gráficos de queijo. Os gráficos de queijo têm basicamente um conjunto de dados numéricos com rótulos."
   ]
  },
  {
   "cell_type": "code",
   "execution_count": null,
   "metadata": {},
   "outputs": [],
   "source": [
    "import matplotlib.pyplot as plt\n",
    "\n",
    "days = [1,2,3,4,5]\n",
    "\n",
    "sleeping = [7,8,6,11,7]\n",
    "eating =   [2,3,4,3,2]\n",
    "working =  [7,8,7,2,2]\n",
    "playing =  [8,5,7,8,13]\n",
    "\n",
    "plt.plot([],[],color='m', label='Dormir', linewidth=5)\n",
    "plt.plot([],[],color='c', label='Comer', linewidth=5)\n",
    "plt.plot([],[],color='r', label='Trabalhar', linewidth=5)\n",
    "plt.plot([],[],color='k', label='Divertimento', linewidth=5)\n",
    "\n",
    "plt.stackplot(days, sleeping,eating,working,playing, colors=['m','c','r','k'])\n",
    "\n",
    "plt.xlabel('x')\n",
    "plt.ylabel('y')\n",
    "plt.title('Stack Plot')\n",
    "plt.legend()\n",
    "plt.show()"
   ]
  },
  {
   "cell_type": "markdown",
   "metadata": {},
   "source": [
    "No código acima, considera-se uma uma colheita de dados de 5 dias (já que cada dia consiste em 24 horas) e é dividido em atividades que realizamos diariamente, ou seja, dormir, comer, trabalhar e divertir.\n",
    "\n",
    "Representa-se essas atividades com rótulos diferentes, fornecendo uma largura de linha de 5px para cada um."
   ]
  },
  {
   "cell_type": "markdown",
   "metadata": {},
   "source": [
    "### Gráfico de queijo (pie chart)\n",
    "\n",
    "Um gráfico de queijo é um diagrama estatístico circular. A área do gráfico inteiro representa o conjunto dos dados. As áreas do gráfico de queijo representam a percentagem de partes dos dados e são chamadas de fatias.\n",
    "\n",
    "Os gráficos de queijo podem ser desenhados usando a função pie() no módulo pyplot.\n",
    "\n",
    "Por padrão, o pyplot organiza as fatias no sentido anti-horário."
   ]
  },
  {
   "cell_type": "code",
   "execution_count": null,
   "metadata": {},
   "outputs": [],
   "source": [
    "import matplotlib.pyplot as plt\n",
    "\n",
    "day = [1,2,3,4,5]\n",
    "\n",
    "sleeping = [7, 8, 6, 11, 7]\n",
    "eating = [2, 3, 4, 3, 2]\n",
    "working = [7, 8, 7, 2, 2]\n",
    "playing = [8, 5, 7, 8, 13]\n",
    "\n",
    "slices = [7, 2, 2, 13]\n",
    "activities = ['dormir', 'comer', 'trabalhar', 'divertir']\n",
    "cols = ['c', 'b', 'r', 'k']\n",
    "\n",
    "plt.pie(slices, labels = activities, colors = cols, startangle = 90, shadow = True, explode = (0, 0.1, 0, 0))\n",
    "plt.show()"
   ]
  },
  {
   "cell_type": "markdown",
   "metadata": {},
   "source": [
    "No código acima, utilizando os dados exemplo anterior (no stack plot), representa-se agora num gráfico de queijo usando o método plt.pie().\n",
    "\n",
    "Neste método especifica-se as \"fatias\", que são os tamanhos relevantes para cada peça. Em seguida, define-se a lista de cores para as fatias correspondentes. Por último, opcionalmente, poder-se-à especificar o \"ângulo inicial\" para o gráfico. Isso permite que se inicie a linha onde se pretende. Neste caso escolheu-se um ângulo de 90 graus.\n",
    "\n",
    "Opcionalmente, poderá adicionar uma sombra ao gráfico e, em seguida, utilizar \"explode\" para \"extrair\" um pouco uma fatia."
   ]
  },
  {
   "cell_type": "markdown",
   "metadata": {},
   "source": [
    "### Gráfico de caixa ou de caixa e bigode (box plot)\n",
    "\n",
    "Um gráfico de caixa (ou gráfico de caixa e bigode) mostra a distribuição de dados quantitativos de uma forma que facilita as comparações entre variáveis ou entre os níveis de uma variável categórica. A caixa mostra os quartis do conjunto de dados enquanto os \"bigodes\" se estendem para mostrar o restante da distribuição, exceto os pontos que são determinados como \"outliers\", usando um método que é uma função da faixa inter-quartil.\n",
    "\n",
    "Também se pode avaliar se os dados são simétricos, com que grau de rigidez  são agrupados e se, e como os dados estão distribuidos."
   ]
  },
  {
   "cell_type": "code",
   "execution_count": null,
   "metadata": {},
   "outputs": [],
   "source": [
    "import numpy as np\n",
    "import matplotlib.pyplot as plt\n",
    "%matplotlib inline\n",
    "\n",
    "fig, ax = plt.subplots()\n",
    "\n",
    "# generate some random data\n",
    "data1 = np.random.normal(0, 5, 100)\n",
    "data2 = np.random.normal(0, 6, 100)\n",
    "data3 = np.random.normal(0, 7, 100)\n",
    "data4 = np.random.normal(0, 8, 100)\n",
    "data = list([data1, data2, data3, data4])\n",
    "\n",
    "# construir um gráfico de caixa\n",
    "ax.boxplot(data)\n",
    "ax.set_title('box plot')\n",
    "\n",
    "xticklabels=['categoria 1', 'categoria 2', 'categoria 3', 'categoria 4']\n",
    "ax.set_xticklabels(xticklabels)\n",
    "\n",
    "# show the plot\n",
    "plt.show()"
   ]
  },
  {
   "cell_type": "markdown",
   "metadata": {},
   "source": [
    "No código acima, criou-se um gráfico de caixa com quatro elementos. Para criar o gráfico de caixa utiliza-se o método plt.boxplot(). Os dados transmitidos para o método ax.boxplot() podem ser uma lista, um dataframe Pandas ou uma matriz NumPy.\n",
    "\n",
    "\"xticklabels\" (rótulos) definem os rótulos de escala do eixo x."
   ]
  },
  {
   "cell_type": "markdown",
   "metadata": {},
   "source": [
    "### Matplotlib 3D"
   ]
  },
  {
   "cell_type": "markdown",
   "metadata": {},
   "source": [
    "#### Introdução\n",
    "\n",
    "A biblioteca python foi inicialmente projetada apenas para plotagem bidimensional.\n",
    "\n",
    "O sub-módulo mpl_toolkits.mplot3d import axes3d incluído na biblioteca Matplotlib fornece os métodos necessários para criar gráficos de superfície 3D com Python.\n",
    "\n",
    "Irá seguidamente criar gráficos 3D de barras e de dispersão."
   ]
  },
  {
   "cell_type": "markdown",
   "metadata": {},
   "source": [
    "#### Gráfico de barras 3D com Matplotlib"
   ]
  },
  {
   "cell_type": "raw",
   "metadata": {},
   "source": [
    "A diferença entre o gráfico de barras 2D e 3D é que, com uma barra 3D, além de um ponto de partida, altura e largura da barra, também obtemos a profundidade da barra.\n",
    "\n",
    "Irá entender isto com a ajuda de um exemplo básico:"
   ]
  },
  {
   "cell_type": "code",
   "execution_count": null,
   "metadata": {},
   "outputs": [],
   "source": [
    "from mpl_toolkits.mplot3d import axes3d\n",
    "import matplotlib.pyplot as plt\n",
    "import numpy as np\n",
    "\n",
    "fig = plt.figure()\n",
    "ax1 = plt.axes(projection='3d')\n",
    "\n",
    "a = [4,2,5,7,8,2,9,3,7,8]\n",
    "b = [5,6,7,8,2,5,6,3,7,2]\n",
    "c = np.zeros(10)\n",
    "\n",
    "x = np.ones(10)\n",
    "y = np.ones(10)\n",
    "z = [5,3,7,4,8,2,4,8,9,1]\n",
    "\n",
    "ax1.bar3d(a, b, c, x, y, z, color = 'cyan')\n",
    "\n",
    "\n",
    "ax1.set_xlabel('eixo x')\n",
    "ax1.set_ylabel('eixo y')\n",
    "ax1.set_zlabel('eixo x')\n",
    "\n",
    "plt.show()"
   ]
  },
  {
   "cell_type": "markdown",
   "metadata": {},
   "source": [
    "No código acima, as representações tridimensionais são ativadas importando o kit de ferramentas mplot3d. Utiliza-se o método plt.figure() para criar a figura 3D.\n",
    "\n",
    "Depois de importado submódulo, os eixos tridimensionais podem ser criados passando a palavra-chave projection = '3d' para qualquer um dos eixos normais.\n",
    "\n",
    "De seguida, declaram-se diferentes variáveis (neste caso com list e NumPy) e, em seguida, plotamos essas variáveis usando o método bar3d(), com a cor \"Ciano\". "
   ]
  },
  {
   "cell_type": "markdown",
   "metadata": {},
   "source": [
    "#### Gráfico de dispersão 3D"
   ]
  },
  {
   "cell_type": "code",
   "execution_count": null,
   "metadata": {},
   "outputs": [],
   "source": [
    "    from mpl_toolkits.mplot3d import axes3d\n",
    "    import matplotlib.pyplot as plt\n",
    "    fig = plt.figure()\n",
    "    ax1 = plt.axes(projection='3d')\n",
    "    x = [4,2,5,7,8,2,9,3,7,8]\n",
    "    y = [5,6,7,8,2,5,6,3,7,2]\n",
    "    z = [1,2,6,3,2,7,3,3,7,2]\n",
    "    x2 = [-1,-2,-3,-4,-5,-6,-7,-8,-9,-10]\n",
    "    y2 = [-5,-6,-7,-8,-2,-5,-6,-3,-7,-2]\n",
    "    z2 = [1,2,6,3,2,7,3,3,7,2]\n",
    "    ax1.scatter(x, y, z, c='g', marker='o')\n",
    "    ax1.scatter(x2, y2, z2, c ='r', marker='o')\n",
    "    ax1.set_xlabel('eixo x')\n",
    "    ax1.set_ylabel('eixo y')\n",
    "    ax1.set_zlabel('eixo x')\n",
    "    plt.show()"
   ]
  },
  {
   "cell_type": "markdown",
   "metadata": {},
   "source": [
    "No código acima, utilizam-se dois conjuntos de variáveis e representa-se cada um com uma cor diferente, usando o método plt.scatter()."
   ]
  },
  {
   "cell_type": "markdown",
   "metadata": {},
   "source": [
    "## Seaborn"
   ]
  },
  {
   "cell_type": "markdown",
   "metadata": {},
   "source": [
    "Outro pacote complementar de visualização baseado na biblioteca Matplotlib é o Seaborn, que fornece uma interface de alto nível para desenhar gráficos estatísticos.\n",
    "\n",
    "A biblioteca Seaborn visa tornar a visualização uma parte central da exploração e compreensão dos dados. As  funções de representação orientada a conjuntos de dados operam em dataframes Pandas e matrizes NumPy e executam internamente o mapeamento e agregação estatística necessários para produzir gráficos.\n",
    "\n",
    "Internamente, a biblioteca seaborn utiliza Matplotlib para desenhar gráficos. "
   ]
  },
  {
   "cell_type": "markdown",
   "metadata": {},
   "source": [
    "### Histograma"
   ]
  },
  {
   "cell_type": "markdown",
   "metadata": {},
   "source": [
    "Já está familiarizados com o histograma e já existe uma função \"hist\" na biblioteca Matplotlib. Um histograma representa a distribuição dos dados, formando compartimentos e desenhando barras para mostrar o número de observações que caem em cada compartimento.\n",
    "\n",
    "Para ilustrar isso, veja o código seguinte:"
   ]
  },
  {
   "cell_type": "code",
   "execution_count": null,
   "metadata": {},
   "outputs": [],
   "source": [
    "import seaborn as sns\n",
    "import numpy as np\n",
    "x = np.random.normal(size=100)\n",
    "sns.distplot(x, kde=False, rug=True);"
   ]
  },
  {
   "cell_type": "markdown",
   "metadata": {},
   "source": [
    "No programa acima, criou-se uma matriz usando a biblioteca NumPy e representou-se o histograma usando o método displot().\n",
    "\n",
    "A palavra-chave \"kde\" passada representa a estimativa de densidade do kernel e é uma maneira não paramétrica de estimar a função de densidade de probabilidade de uma variável aleatória. Por padrão, o kde é True.\n",
    "\n",
    "A palavra-chave \"rug\" adiciona um gráfico que é usado para desenhar uma pequena linha vertical em cada observação."
   ]
  },
  {
   "cell_type": "markdown",
   "metadata": {},
   "source": [
    "A estimativa da densidade do kernel pode ser menos familiar, mas pode ser uma ferramenta útil para plotar o formato de uma distribuição. Como o histograma, os gráficos do KDE codificam a densidade de observações num eixo e a altura ao longo do outro eixo.\n",
    "\n",
    "Se usarmos a função kdeplot() do seaborn, obteremos a mesma curva. Veja um exemplo:"
   ]
  },
  {
   "cell_type": "code",
   "execution_count": null,
   "metadata": {},
   "outputs": [],
   "source": [
    "sns.kdeplot(x, shade=True);"
   ]
  },
  {
   "cell_type": "markdown",
   "metadata": {},
   "source": [
    "Até agora, utilizou distribuições univariadas, onde o termo univariada se refere a uma expressão, equação, função ou polinómio de apenas uma variável. Agora irá trabalhar com um exemplo de representação de distribuições bivariadas."
   ]
  },
  {
   "cell_type": "markdown",
   "metadata": {},
   "source": [
    "### Gráfico de dispersão\n",
    "\n",
    "A forma mais familiar de visualizar uma distribuição bivariada é um gráfico de dispersão, onde cada observação é mostrada com um ponto nos eixos x e y.\n",
    "\n",
    "Podemos desenhar um gráfico de dispersão com a função (do matplotlib) plt.scatter, quee também é o tipo de gráfico padrão mostrado pela função jointplot() do seaborn."
   ]
  },
  {
   "cell_type": "code",
   "execution_count": null,
   "metadata": {},
   "outputs": [],
   "source": [
    "import pandas as pd\n",
    "mean, cov = [0, 1], [(1, .5), (.5, 1)]\n",
    "data = np.random.multivariate_normal(mean, cov, 200)\n",
    "df = pd.DataFrame(data, columns=[\"x\", \"y\"])\n",
    "\n",
    "sns.jointplot(x=\"x\", y=\"y\", data=df);"
   ]
  },
  {
   "cell_type": "markdown",
   "metadata": {},
   "source": [
    "### Gráfico de caixa"
   ]
  },
  {
   "cell_type": "code",
   "execution_count": null,
   "metadata": {},
   "outputs": [],
   "source": [
    "    import seaborn as sns\n",
    "    sns.set_style(\"whitegrid\")\n",
    "    data = np.random.normal(size=(20, 6)) + np.arange(6) / 2\n",
    "    sns.boxplot(data=data)"
   ]
  },
  {
   "cell_type": "markdown",
   "metadata": {},
   "source": [
    "No exemplo acima, o método set_style é usado para definir o tema de fundo, com linhas brancas.\n",
    "\n",
    "Em seguida, criam-se 2 matrizes NumPy (a primeira com 20 matrizes de 6 elementos e a outra de 6 elementos) e soma-se as duas.\n",
    "\n",
    "Finalmente cria-se o gráfico de caixa utilizando o método boxplot() que passa os dados como argumento."
   ]
  },
  {
   "cell_type": "markdown",
   "metadata": {},
   "source": [
    "## Exemplo prático"
   ]
  },
  {
   "cell_type": "markdown",
   "metadata": {},
   "source": [
    "### Introdução\n",
    "\n",
    "Utilizará um conjunto de dados que consiste nas notas dos alunos em várias disciplinas (ficheiro studentsPerformance.csv)\n",
    "\n",
    "Lista de colunas:\n",
    "\n",
    " - género\n",
    " - raça / etnia\n",
    " - nível de escolaridade dos pais\n",
    " - curso de preparação para o teste\n",
    " - almoço\n",
    " - pontuação em matemática\n",
    " - pontuação em leitura\n",
    " - pontuação em escrita"
   ]
  },
  {
   "cell_type": "markdown",
   "metadata": {},
   "source": [
    "### Análise\n",
    "Primeiro, importe todas as bibliotecas necessárias e seguidamente o arquivo csv:"
   ]
  },
  {
   "cell_type": "code",
   "execution_count": 2,
   "metadata": {},
   "outputs": [],
   "source": [
    "import numpy as np\n",
    "import pandas as pd\n",
    "import seaborn as sns\n",
    "import matplotlib.pyplot as plt\n",
    "\n",
    "data=pd.read_csv('dados/StudentsPerformance.csv')\n",
    "#nota: altere o caminho para o ficheiro de acordo como gravou"
   ]
  },
  {
   "cell_type": "markdown",
   "metadata": {},
   "source": [
    "Agora analise os dados usando algumas funções da biblioteca Pandas:"
   ]
  },
  {
   "cell_type": "code",
   "execution_count": 3,
   "metadata": {},
   "outputs": [
    {
     "data": {
      "text/html": [
       "<div>\n",
       "<style scoped>\n",
       "    .dataframe tbody tr th:only-of-type {\n",
       "        vertical-align: middle;\n",
       "    }\n",
       "\n",
       "    .dataframe tbody tr th {\n",
       "        vertical-align: top;\n",
       "    }\n",
       "\n",
       "    .dataframe thead th {\n",
       "        text-align: right;\n",
       "    }\n",
       "</style>\n",
       "<table border=\"1\" class=\"dataframe\">\n",
       "  <thead>\n",
       "    <tr style=\"text-align: right;\">\n",
       "      <th></th>\n",
       "      <th>gender</th>\n",
       "      <th>race/ethnicity</th>\n",
       "      <th>parental level of education</th>\n",
       "      <th>lunch</th>\n",
       "      <th>test preparation course</th>\n",
       "      <th>math score</th>\n",
       "      <th>reading score</th>\n",
       "      <th>writing score</th>\n",
       "    </tr>\n",
       "  </thead>\n",
       "  <tbody>\n",
       "    <tr>\n",
       "      <th>0</th>\n",
       "      <td>female</td>\n",
       "      <td>group B</td>\n",
       "      <td>bachelor's degree</td>\n",
       "      <td>standard</td>\n",
       "      <td>none</td>\n",
       "      <td>72</td>\n",
       "      <td>72</td>\n",
       "      <td>74</td>\n",
       "    </tr>\n",
       "    <tr>\n",
       "      <th>1</th>\n",
       "      <td>female</td>\n",
       "      <td>group C</td>\n",
       "      <td>some college</td>\n",
       "      <td>standard</td>\n",
       "      <td>completed</td>\n",
       "      <td>69</td>\n",
       "      <td>90</td>\n",
       "      <td>88</td>\n",
       "    </tr>\n",
       "    <tr>\n",
       "      <th>2</th>\n",
       "      <td>female</td>\n",
       "      <td>group B</td>\n",
       "      <td>master's degree</td>\n",
       "      <td>standard</td>\n",
       "      <td>none</td>\n",
       "      <td>90</td>\n",
       "      <td>95</td>\n",
       "      <td>93</td>\n",
       "    </tr>\n",
       "    <tr>\n",
       "      <th>3</th>\n",
       "      <td>male</td>\n",
       "      <td>group A</td>\n",
       "      <td>associate's degree</td>\n",
       "      <td>free/reduced</td>\n",
       "      <td>none</td>\n",
       "      <td>47</td>\n",
       "      <td>57</td>\n",
       "      <td>44</td>\n",
       "    </tr>\n",
       "    <tr>\n",
       "      <th>4</th>\n",
       "      <td>male</td>\n",
       "      <td>group C</td>\n",
       "      <td>some college</td>\n",
       "      <td>standard</td>\n",
       "      <td>none</td>\n",
       "      <td>76</td>\n",
       "      <td>78</td>\n",
       "      <td>75</td>\n",
       "    </tr>\n",
       "  </tbody>\n",
       "</table>\n",
       "</div>"
      ],
      "text/plain": [
       "   gender race/ethnicity parental level of education         lunch  \\\n",
       "0  female        group B           bachelor's degree      standard   \n",
       "1  female        group C                some college      standard   \n",
       "2  female        group B             master's degree      standard   \n",
       "3    male        group A          associate's degree  free/reduced   \n",
       "4    male        group C                some college      standard   \n",
       "\n",
       "  test preparation course  math score  reading score  writing score  \n",
       "0                    none          72             72             74  \n",
       "1               completed          69             90             88  \n",
       "2                    none          90             95             93  \n",
       "3                    none          47             57             44  \n",
       "4                    none          76             78             75  "
      ]
     },
     "execution_count": 3,
     "metadata": {},
     "output_type": "execute_result"
    }
   ],
   "source": [
    "#as 1ªs 5 linhas.\n",
    "data.head()"
   ]
  },
  {
   "cell_type": "code",
   "execution_count": null,
   "metadata": {},
   "outputs": [],
   "source": [
    "#as últimas 5 linhas.\n",
    "data.tail()"
   ]
  },
  {
   "cell_type": "code",
   "execution_count": null,
   "metadata": {},
   "outputs": [],
   "source": [
    "#apresenta as propriedades do conjunto de dados e os números nos valores do registro.\n",
    "data.info()"
   ]
  },
  {
   "cell_type": "code",
   "execution_count": null,
   "metadata": {},
   "outputs": [],
   "source": [
    "#apresenta a análise (sumário) dos valores numéricos\n",
    "data.describe()"
   ]
  },
  {
   "cell_type": "code",
   "execution_count": null,
   "metadata": {},
   "outputs": [],
   "source": [
    "#apresenta o tipo de dados presentes no conjunto de dados\n",
    "data.dtypes"
   ]
  },
  {
   "cell_type": "code",
   "execution_count": null,
   "metadata": {},
   "outputs": [],
   "source": [
    "#Verificação de valores nulos\n",
    "data.isnull().sum()"
   ]
  },
  {
   "cell_type": "code",
   "execution_count": null,
   "metadata": {},
   "outputs": [],
   "source": [
    "#Contagem de valores por \"género\"\n",
    "data['gender'].value_counts()"
   ]
  },
  {
   "cell_type": "markdown",
   "metadata": {},
   "source": [
    "### Visualização"
   ]
  },
  {
   "cell_type": "code",
   "execution_count": null,
   "metadata": {},
   "outputs": [],
   "source": [
    "sns.barplot(x=data['gender'].value_counts().index,y=data['gender'].value_counts().values)\n",
    "plt.title('Distribuição por género')\n",
    "plt.ylabel('Contagem')\n",
    "#plt.legend(loc=0)\n",
    "plt.show()"
   ]
  },
  {
   "cell_type": "markdown",
   "metadata": {},
   "source": [
    " Contagem na coluna \"race/ethnicity\":"
   ]
  },
  {
   "cell_type": "code",
   "execution_count": null,
   "metadata": {},
   "outputs": [],
   "source": [
    "plt.figure(figsize=(7,7))\n",
    "sns.barplot(x=data['race/ethnicity'].value_counts().index,\n",
    "              y=data['race/ethnicity'].value_counts().values)\n",
    "plt.xlabel('Raça/Etnicidade')\n",
    "plt.ylabel('Frequência')\n",
    "plt.title('Gráfico de barras Raça/Etnicidade')\n",
    "plt.show()"
   ]
  },
  {
   "cell_type": "markdown",
   "metadata": {},
   "source": [
    "Gráficos mostrando a comparação entre 'pontuação da escrita', 'pontuação da leitura' e 'pontuação da matemática' para ambos os 'géneros' com base no 'nível de escolaridade dos pais', respectivamente:"
   ]
  },
  {
   "cell_type": "code",
   "execution_count": null,
   "metadata": {},
   "outputs": [],
   "source": [
    "plt.figure(figsize=(10,7))\n",
    "sns.barplot(x = \"parental level of education\", y = \"writing score\", hue = \"gender\", data = data)\n",
    "plt.xticks(rotation=45)\n",
    "plt.show()"
   ]
  },
  {
   "cell_type": "code",
   "execution_count": null,
   "metadata": {},
   "outputs": [],
   "source": [
    "    plt.figure(figsize=(10,7))\n",
    "    sns.barplot(x = \"parental level of education\", y = \"reading score\", hue = \"gender\", data = data)\n",
    "    plt.xticks(rotation=45)\n",
    "    plt.show()"
   ]
  },
  {
   "cell_type": "code",
   "execution_count": null,
   "metadata": {},
   "outputs": [],
   "source": [
    "    plt.figure(figsize=(10,7))\n",
    "    sns.barplot(x = \"parental level of education\", y = \"math score\", hue = \"gender\", data = data)\n",
    "    plt.xticks(rotation=45)\n",
    "    plt.show()"
   ]
  },
  {
   "cell_type": "markdown",
   "metadata": {},
   "source": [
    "Gráfico para ambos os sexos, comparando a pontuação a matemática para diferentes níveis de ensino:"
   ]
  },
  {
   "cell_type": "code",
   "execution_count": null,
   "metadata": {},
   "outputs": [],
   "source": [
    "    plt.figure(figsize=(12,7))\n",
    "    sns.catplot(y=\"gender\", x=\"math score\",\n",
    "                     hue=\"parental level of education\",\n",
    "                     data=data, kind=\"bar\")\n",
    "    plt.title('Pontuação a matemática por género e nível de escolaridade dos pais')\n",
    "    plt.show()"
   ]
  },
  {
   "cell_type": "markdown",
   "metadata": {},
   "source": [
    "Visualização de diferentes grupos com base na percentagem, com a ajuda de um gráfico de queijo:"
   ]
  },
  {
   "cell_type": "code",
   "execution_count": null,
   "metadata": {},
   "outputs": [],
   "source": [
    "labels=data['race/ethnicity'].value_counts().index\n",
    "colors=['cyan','pink','orange','lightgreen','yellow']\n",
    "explode=[0,0,0.1,0,0]\n",
    "values=data['race/ethnicity'].value_counts().values\n",
    "\n",
    "#visualization\n",
    "plt.figure(figsize=(7,7))\n",
    "plt.pie(values,explode=explode,labels=labels,colors=colors,autopct='%1.1f%%')\n",
    "plt.title('Análise Raça/Etnicidade',color='black',fontsize=10)\n",
    "plt.show()"
   ]
  },
  {
   "cell_type": "markdown",
   "metadata": {},
   "source": [
    "Gráfico de pontuação matemática versus pontuação de escrita para ambos os sexos, usando um gráfico de dispersão:"
   ]
  },
  {
   "cell_type": "code",
   "execution_count": null,
   "metadata": {},
   "outputs": [],
   "source": [
    "sns.lmplot(x='math score',y='writing score',hue='gender',data=data)\n",
    "plt.xlabel('Pontuação a matemática')\n",
    "plt.ylabel('Pontuação em escrita')\n",
    "plt.title('Pontuação a matemática versus Pontuação a escrita')\n",
    "plt.show()"
   ]
  },
  {
   "cell_type": "markdown",
   "metadata": {},
   "source": [
    "Visualização da frequência da pontuação matemática vs pontuação da escrita vs pontuação da leitura usando o gráfico kde:"
   ]
  },
  {
   "cell_type": "code",
   "execution_count": null,
   "metadata": {},
   "outputs": [],
   "source": [
    "sns.kdeplot(data['math score'], shade=True,color='c')\n",
    "sns.kdeplot(data['reading score'],shade=True,color='r')\n",
    "sns.kdeplot(data['writing score'],shade=True,color='b')\n",
    "plt.xlabel('Valores')\n",
    "plt.ylabel('Frequência')\n",
    "plt.title('Análise kde P. Matemática vs P. Leitura vs P. Escrita')\n",
    "plt.show()"
   ]
  },
  {
   "cell_type": "markdown",
   "metadata": {},
   "source": [
    "Visualização para pontuação a matemática, para ambos os sexos, utilizando um gráfico de caixa:"
   ]
  },
  {
   "cell_type": "code",
   "execution_count": null,
   "metadata": {},
   "outputs": [],
   "source": [
    "sns.boxplot(x=data['gender'],y=data['math score'])\n",
    "plt.show()"
   ]
  },
  {
   "cell_type": "markdown",
   "metadata": {},
   "source": [
    "Visualização utilizando Pairplot:"
   ]
  },
  {
   "cell_type": "code",
   "execution_count": null,
   "metadata": {},
   "outputs": [],
   "source": [
    "sns.pairplot(data)\n",
    "plt.show()"
   ]
  }
 ],
 "metadata": {
  "kernelspec": {
   "display_name": "visualizacao",
   "language": "python",
   "name": "visualizacao"
  },
  "language_info": {
   "codemirror_mode": {
    "name": "ipython",
    "version": 3
   },
   "file_extension": ".py",
   "mimetype": "text/x-python",
   "name": "python",
   "nbconvert_exporter": "python",
   "pygments_lexer": "ipython3",
   "version": "3.6.6"
  },
  "toc": {
   "base_numbering": 1,
   "nav_menu": {},
   "number_sections": true,
   "sideBar": true,
   "skip_h1_title": false,
   "title_cell": "Conteúdos",
   "title_sidebar": "Conteúdos",
   "toc_cell": false,
   "toc_position": {
    "height": "572px",
    "left": "644px",
    "top": "67.1333px",
    "width": "287.8px"
   },
   "toc_section_display": true,
   "toc_window_display": true
  }
 },
 "nbformat": 4,
 "nbformat_minor": 2
}
