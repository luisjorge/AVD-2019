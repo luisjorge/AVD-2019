{
 "cells": [
  {
   "cell_type": "markdown",
   "metadata": {},
   "source": [
    "<!--<img width=700px; src=\"../img/logoUPSayPlusCDS_990.png\"> -->\n",
    "\n",
    "<p style=\"margin-top: 3em; margin-bottom: 2em;\"><b><big><big><big><big>Introdução ao módulo  Pandas do Python</big></big></big></big></b></p>"
   ]
  },
  {
   "cell_type": "code",
   "execution_count": 36,
   "metadata": {},
   "outputs": [],
   "source": [
    "%matplotlib inline\n",
    "import numpy as np\n",
    "import pandas as pd\n",
    "import matplotlib.pyplot as plt\n",
    "#pd.options.display.max_rows = 8"
   ]
  },
  {
   "cell_type": "markdown",
   "metadata": {},
   "source": [
    "# 1. Aquecimento :)\n",
    "\n",
    "#### Caso 1: dados sobre os sobreviventes do Titanic"
   ]
  },
  {
   "cell_type": "code",
   "execution_count": 38,
   "metadata": {},
   "outputs": [],
   "source": [
    "df = pd.read_csv(\"dados/titanic.csv\")"
   ]
  },
  {
   "cell_type": "code",
   "execution_count": 39,
   "metadata": {},
   "outputs": [
    {
     "data": {
      "text/html": [
       "<div>\n",
       "<style scoped>\n",
       "    .dataframe tbody tr th:only-of-type {\n",
       "        vertical-align: middle;\n",
       "    }\n",
       "\n",
       "    .dataframe tbody tr th {\n",
       "        vertical-align: top;\n",
       "    }\n",
       "\n",
       "    .dataframe thead th {\n",
       "        text-align: right;\n",
       "    }\n",
       "</style>\n",
       "<table border=\"1\" class=\"dataframe\">\n",
       "  <thead>\n",
       "    <tr style=\"text-align: right;\">\n",
       "      <th></th>\n",
       "      <th>PassengeiroId</th>\n",
       "      <th>Sobrevivente</th>\n",
       "      <th>Classe</th>\n",
       "      <th>Nome</th>\n",
       "      <th>Sexo</th>\n",
       "      <th>Idade</th>\n",
       "      <th>Codigo</th>\n",
       "      <th>Documento</th>\n",
       "      <th>Bilhete</th>\n",
       "      <th>Custo</th>\n",
       "      <th>Cabina</th>\n",
       "      <th>Embarcamento</th>\n",
       "    </tr>\n",
       "  </thead>\n",
       "  <tbody>\n",
       "    <tr>\n",
       "      <th>0</th>\n",
       "      <td>1</td>\n",
       "      <td>0</td>\n",
       "      <td>3</td>\n",
       "      <td>Braund, Mr. Owen Harris</td>\n",
       "      <td>masculino</td>\n",
       "      <td>22.0</td>\n",
       "      <td>1</td>\n",
       "      <td>0</td>\n",
       "      <td>A/5 21171</td>\n",
       "      <td>7.2500</td>\n",
       "      <td>NaN</td>\n",
       "      <td>S</td>\n",
       "    </tr>\n",
       "    <tr>\n",
       "      <th>1</th>\n",
       "      <td>2</td>\n",
       "      <td>1</td>\n",
       "      <td>1</td>\n",
       "      <td>Cumings, Mrs. John Bradley (Florence Briggs Th...</td>\n",
       "      <td>feminino</td>\n",
       "      <td>38.0</td>\n",
       "      <td>1</td>\n",
       "      <td>0</td>\n",
       "      <td>PC 17599</td>\n",
       "      <td>71.2833</td>\n",
       "      <td>C85</td>\n",
       "      <td>C</td>\n",
       "    </tr>\n",
       "    <tr>\n",
       "      <th>2</th>\n",
       "      <td>3</td>\n",
       "      <td>1</td>\n",
       "      <td>3</td>\n",
       "      <td>Heikkinen, Miss. Laina</td>\n",
       "      <td>feminino</td>\n",
       "      <td>26.0</td>\n",
       "      <td>0</td>\n",
       "      <td>0</td>\n",
       "      <td>STON/O2. 3101282</td>\n",
       "      <td>7.9250</td>\n",
       "      <td>NaN</td>\n",
       "      <td>S</td>\n",
       "    </tr>\n",
       "    <tr>\n",
       "      <th>3</th>\n",
       "      <td>4</td>\n",
       "      <td>1</td>\n",
       "      <td>1</td>\n",
       "      <td>Futrelle, Mrs. Jacques Heath (Lily May Peel)</td>\n",
       "      <td>feminino</td>\n",
       "      <td>35.0</td>\n",
       "      <td>1</td>\n",
       "      <td>0</td>\n",
       "      <td>113803</td>\n",
       "      <td>53.1000</td>\n",
       "      <td>C123</td>\n",
       "      <td>S</td>\n",
       "    </tr>\n",
       "    <tr>\n",
       "      <th>4</th>\n",
       "      <td>5</td>\n",
       "      <td>0</td>\n",
       "      <td>3</td>\n",
       "      <td>Allen, Mr. William Henry</td>\n",
       "      <td>masculino</td>\n",
       "      <td>35.0</td>\n",
       "      <td>0</td>\n",
       "      <td>0</td>\n",
       "      <td>373450</td>\n",
       "      <td>8.0500</td>\n",
       "      <td>NaN</td>\n",
       "      <td>S</td>\n",
       "    </tr>\n",
       "  </tbody>\n",
       "</table>\n",
       "</div>"
      ],
      "text/plain": [
       "   PassengeiroId  Sobrevivente  Classe  \\\n",
       "0              1             0       3   \n",
       "1              2             1       1   \n",
       "2              3             1       3   \n",
       "3              4             1       1   \n",
       "4              5             0       3   \n",
       "\n",
       "                                                Nome       Sexo  Idade  \\\n",
       "0                            Braund, Mr. Owen Harris  masculino   22.0   \n",
       "1  Cumings, Mrs. John Bradley (Florence Briggs Th...   feminino   38.0   \n",
       "2                             Heikkinen, Miss. Laina   feminino   26.0   \n",
       "3       Futrelle, Mrs. Jacques Heath (Lily May Peel)   feminino   35.0   \n",
       "4                           Allen, Mr. William Henry  masculino   35.0   \n",
       "\n",
       "   Codigo  Documento           Bilhete    Custo Cabina Embarcamento  \n",
       "0       1          0         A/5 21171   7.2500    NaN            S  \n",
       "1       1          0          PC 17599  71.2833    C85            C  \n",
       "2       0          0  STON/O2. 3101282   7.9250    NaN            S  \n",
       "3       1          0            113803  53.1000   C123            S  \n",
       "4       0          0            373450   8.0500    NaN            S  "
      ]
     },
     "execution_count": 39,
     "metadata": {},
     "output_type": "execute_result"
    }
   ],
   "source": [
    "df.head()"
   ]
  },
  {
   "cell_type": "markdown",
   "metadata": {},
   "source": [
    "Algumas perguntas sobre estes dados nalgumas linhas de código:"
   ]
  },
  {
   "cell_type": "markdown",
   "metadata": {},
   "source": [
    "**Qual é a distibuição de idades dos passageiros?**"
   ]
  },
  {
   "cell_type": "code",
   "execution_count": 40,
   "metadata": {},
   "outputs": [
    {
     "data": {
      "text/plain": [
       "<matplotlib.axes._subplots.AxesSubplot at 0x11a057860>"
      ]
     },
     "execution_count": 40,
     "metadata": {},
     "output_type": "execute_result"
    },
    {
     "data": {
      "image/png": "[encoded data removed]",
      "text/plain": [
       "<Figure size 432x288 with 1 Axes>"
      ]
     },
     "metadata": {
      "needs_background": "light"
     },
     "output_type": "display_data"
    }
   ],
   "source": [
    "df['Idade'].hist()"
   ]
  },
  {
   "cell_type": "markdown",
   "metadata": {},
   "source": [
    "**Como varia a taxa de sobrevivência por sexo?**"
   ]
  },
  {
   "cell_type": "code",
   "execution_count": 42,
   "metadata": {},
   "outputs": [
    {
     "data": {
      "text/html": [
       "<div>\n",
       "<style scoped>\n",
       "    .dataframe tbody tr th:only-of-type {\n",
       "        vertical-align: middle;\n",
       "    }\n",
       "\n",
       "    .dataframe tbody tr th {\n",
       "        vertical-align: top;\n",
       "    }\n",
       "\n",
       "    .dataframe thead th {\n",
       "        text-align: right;\n",
       "    }\n",
       "</style>\n",
       "<table border=\"1\" class=\"dataframe\">\n",
       "  <thead>\n",
       "    <tr style=\"text-align: right;\">\n",
       "      <th></th>\n",
       "      <th>Sobrevivente</th>\n",
       "    </tr>\n",
       "    <tr>\n",
       "      <th>Sexo</th>\n",
       "      <th></th>\n",
       "    </tr>\n",
       "  </thead>\n",
       "  <tbody>\n",
       "    <tr>\n",
       "      <th>feminino</th>\n",
       "      <td>0.742038</td>\n",
       "    </tr>\n",
       "    <tr>\n",
       "      <th>masculino</th>\n",
       "      <td>0.188908</td>\n",
       "    </tr>\n",
       "  </tbody>\n",
       "</table>\n",
       "</div>"
      ],
      "text/plain": [
       "           Sobrevivente\n",
       "Sexo                   \n",
       "feminino       0.742038\n",
       "masculino      0.188908"
      ]
     },
     "execution_count": 42,
     "metadata": {},
     "output_type": "execute_result"
    }
   ],
   "source": [
    "df.groupby('Sexo')[['Sobrevivente']].aggregate(lambda x: x.sum() / len(x))"
   ]
  },
  {
   "cell_type": "markdown",
   "metadata": {},
   "source": [
    "**Ou, como difere entre as classes do navio?**"
   ]
  },
  {
   "cell_type": "code",
   "execution_count": 46,
   "metadata": {},
   "outputs": [
    {
     "data": {
      "text/plain": [
       "<matplotlib.axes._subplots.AxesSubplot at 0x11ceca6a0>"
      ]
     },
     "execution_count": 46,
     "metadata": {},
     "output_type": "execute_result"
    },
    {
     "data": {
      "image/png": "[encoded data removed]",
      "text/plain": [
       "<Figure size 432x288 with 1 Axes>"
      ]
     },
     "metadata": {
      "needs_background": "light"
     },
     "output_type": "display_data"
    }
   ],
   "source": [
    "df.groupby('Classe')['Sobrevivente'].aggregate(lambda x: x.sum() / len(x)).plot(kind='bar')"
   ]
  },
  {
   "cell_type": "markdown",
   "metadata": {},
   "source": [
    "Nota: o códigos destes pequenos exemplos serão explicados neste notebook mais adiante."
   ]
  },
  {
   "cell_type": "markdown",
   "metadata": {},
   "source": [
    "#### Caso 2: Série temporal da qualidade do ar"
   ]
  },
  {
   "cell_type": "markdown",
   "metadata": {
    "collapsed": true,
    "slideshow": {
     "slide_type": "subslide"
    }
   },
   "source": [
    "AirBase (The European Air quality dataBase): medições horárias de todas as estações europeias de monitorização da qualidade do ar\n",
    "\n",
    "Abrir o ficheiro com uma amostra para diferentes estações:"
   ]
  },
  {
   "cell_type": "code",
   "execution_count": 50,
   "metadata": {},
   "outputs": [],
   "source": [
    "dados = pd.read_csv('dados/20000101_20161231-NO2.csv', sep=';', skiprows=[1], na_values=['n/d'], index_col=0, parse_dates=True)"
   ]
  },
  {
   "cell_type": "code",
   "execution_count": 51,
   "metadata": {},
   "outputs": [
    {
     "data": {
      "text/html": [
       "<div>\n",
       "<style scoped>\n",
       "    .dataframe tbody tr th:only-of-type {\n",
       "        vertical-align: middle;\n",
       "    }\n",
       "\n",
       "    .dataframe tbody tr th {\n",
       "        vertical-align: top;\n",
       "    }\n",
       "\n",
       "    .dataframe thead th {\n",
       "        text-align: right;\n",
       "    }\n",
       "</style>\n",
       "<table border=\"1\" class=\"dataframe\">\n",
       "  <thead>\n",
       "    <tr style=\"text-align: right;\">\n",
       "      <th></th>\n",
       "      <th>BASCH</th>\n",
       "      <th>BONAP</th>\n",
       "      <th>PA18</th>\n",
       "      <th>VERS</th>\n",
       "    </tr>\n",
       "    <tr>\n",
       "      <th>timestamp</th>\n",
       "      <th></th>\n",
       "      <th></th>\n",
       "      <th></th>\n",
       "      <th></th>\n",
       "    </tr>\n",
       "  </thead>\n",
       "  <tbody>\n",
       "    <tr>\n",
       "      <th>2000-01-01 01:00:00</th>\n",
       "      <td>108.0</td>\n",
       "      <td>NaN</td>\n",
       "      <td>65.0</td>\n",
       "      <td>47.0</td>\n",
       "    </tr>\n",
       "    <tr>\n",
       "      <th>2000-01-01 02:00:00</th>\n",
       "      <td>104.0</td>\n",
       "      <td>60.0</td>\n",
       "      <td>77.0</td>\n",
       "      <td>42.0</td>\n",
       "    </tr>\n",
       "    <tr>\n",
       "      <th>2000-01-01 03:00:00</th>\n",
       "      <td>97.0</td>\n",
       "      <td>58.0</td>\n",
       "      <td>73.0</td>\n",
       "      <td>34.0</td>\n",
       "    </tr>\n",
       "    <tr>\n",
       "      <th>2000-01-01 04:00:00</th>\n",
       "      <td>77.0</td>\n",
       "      <td>52.0</td>\n",
       "      <td>57.0</td>\n",
       "      <td>29.0</td>\n",
       "    </tr>\n",
       "    <tr>\n",
       "      <th>2000-01-01 05:00:00</th>\n",
       "      <td>79.0</td>\n",
       "      <td>52.0</td>\n",
       "      <td>64.0</td>\n",
       "      <td>28.0</td>\n",
       "    </tr>\n",
       "  </tbody>\n",
       "</table>\n",
       "</div>"
      ],
      "text/plain": [
       "                     BASCH  BONAP  PA18  VERS\n",
       "timestamp                                    \n",
       "2000-01-01 01:00:00  108.0    NaN  65.0  47.0\n",
       "2000-01-01 02:00:00  104.0   60.0  77.0  42.0\n",
       "2000-01-01 03:00:00   97.0   58.0  73.0  34.0\n",
       "2000-01-01 04:00:00   77.0   52.0  57.0  29.0\n",
       "2000-01-01 05:00:00   79.0   52.0  64.0  28.0"
      ]
     },
     "execution_count": 51,
     "metadata": {},
     "output_type": "execute_result"
    }
   ],
   "source": [
    "dados.head()"
   ]
  },
  {
   "cell_type": "markdown",
   "metadata": {
    "slideshow": {
     "slide_type": "subslide"
    }
   },
   "source": [
    "**Existe uma tendência decrescente da qualidade do ar ao longo dos anos?**"
   ]
  },
  {
   "cell_type": "code",
   "execution_count": 52,
   "metadata": {},
   "outputs": [
    {
     "data": {
      "text/plain": [
       "<matplotlib.axes._subplots.AxesSubplot at 0x11d4a8198>"
      ]
     },
     "execution_count": 52,
     "metadata": {},
     "output_type": "execute_result"
    },
    {
     "data": {
      "image/png": "[encoded data removed]",
      "text/plain": [
       "<Figure size 432x288 with 1 Axes>"
      ]
     },
     "metadata": {
      "needs_background": "light"
     },
     "output_type": "display_data"
    }
   ],
   "source": [
    "dados['1999':].resample('M').mean().plot(ylim=[0,120])"
   ]
  },
  {
   "cell_type": "code",
   "execution_count": 58,
   "metadata": {},
   "outputs": [
    {
     "data": {
      "text/plain": [
       "<matplotlib.axes._subplots.AxesSubplot at 0x11d0969e8>"
      ]
     },
     "execution_count": 58,
     "metadata": {},
     "output_type": "execute_result"
    },
    {
     "data": {
      "image/png": "[encoded data removed]",
      "text/plain": [
       "<Figure size 432x288 with 1 Axes>"
      ]
     },
     "metadata": {
      "needs_background": "light"
     },
     "output_type": "display_data"
    }
   ],
   "source": [
    "dados['1999':].resample('A').mean().plot(ylim=[0,100])"
   ]
  },
  {
   "cell_type": "markdown",
   "metadata": {
    "slideshow": {
     "slide_type": "subslide"
    }
   },
   "source": [
    "**Qual é a diferença de perfil diurno entre dias da semana e fins de semana?**"
   ]
  },
  {
   "cell_type": "code",
   "execution_count": 55,
   "metadata": {},
   "outputs": [
    {
     "data": {
      "text/plain": [
       "<matplotlib.axes._subplots.AxesSubplot at 0x11d138eb8>"
      ]
     },
     "execution_count": 55,
     "metadata": {},
     "output_type": "execute_result"
    },
    {
     "data": {
      "image/png": "[encoded data removed]",
      "text/plain": [
       "<Figure size 432x288 with 1 Axes>"
      ]
     },
     "metadata": {
      "needs_background": "light"
     },
     "output_type": "display_data"
    }
   ],
   "source": [
    "data['semana'] = data.index.weekday\n",
    "data['fim de semana'] = data['semana'].isin([5, 6])\n",
    "data_weekend = data.groupby(['fim de semana', data.index.hour])['BASCH'].mean().unstack(level=0)\n",
    "data_weekend.plot()"
   ]
  },
  {
   "cell_type": "markdown",
   "metadata": {},
   "source": []
  },
  {
   "cell_type": "markdown",
   "metadata": {},
   "source": [
    "# 2. Pandas: análise de dados em python\n",
    "\n",
    "O módulo Python Pandas [Pandas](http://pandas.pydata.org) é fundamental para trabalhar com grandes volumes de dados estruturados.\n",
    "\n",
    "O que é o módulo 'pandas'?\n",
    "\n",
    "Pandas DataFrame é uma estrutura de dados tabular bidimensional, mutável em tamanho e potencialmente heterogénea, com eixos rotulados (linhas e colunas). Uma DataFrame é uma estrutura de dados bidimensional, isto é, os dados são alinhados de forma tabular em linhas e colunas. O Pandas DataFrame consiste em três componentes principais, os dados, linhas e colunas.\n",
    "\n",
    "* Pandas pode ser interpretado como *arrays NymPy com etiquetas* para linhas e colunas, com melhor suporte para tipos de dados heterógeneos; mas é muito, muito mais que isto\n",
    "* Também pode ser considerado o equivalente a  `data.frame` em 'R' .\n",
    "* Poderoso para trabalhar com dados em falta, séries temporais, ler e escrever dados, redimensionar, agrupar e associar dados, etc.\n",
    "\n",
    "Documentação: http://pandas.pydata.org/pandas-docs/stable/\n",
    "\n",
    "\n",
    "** Quando é necessário utilizar pandas? **\n",
    "\n",
    "Quando se trabalha com **dados tabulares ou estruturados** (como um dataframe R, uma tabela de um SGBDR, folha Excel...):\n",
    "\n",
    "- Importar dados\n",
    "- Limpar dados \n",
    "- Explorar dados, ganhar conhecimento sobre os dados\n",
    "- Processar e preparar os dados para análise\n",
    "- Analisar os dados (conjuntamente com scikit-learn, modelos estatísticos, ...)\n",
    "\n",
    "<div class=\"alert alert-warning\">\n",
    "<b>ATENÇÃO!</b>: <br><br>\n",
    "\n",
    "Pandas é ótimo para trabalhar com dados heterogéneos e tabulares (1D/2D) data, mas nem todos os dados se encaixam nestas estruturas!\n",
    "<ul>\n",
    "<li>Quando se trabalha com dados em array (p.ex. imagens, algoritmos numéricos: utilizar numpy</li>\n",
    "<li>Quando tiver dados multidimensionais com etiquetas (p.ex. dados climáticos): veja [xarray](http://xarray.pydata.org/en/stable/)</li>\n",
    "</ul>\n",
    "</div>"
   ]
  },
  {
   "cell_type": "markdown",
   "metadata": {},
   "source": [
    "# 2. As estruturas de dados pandas : `DataFrame` e `Series`\n",
    "\n",
    "A `DataFrame` is a **tablular data structure** (multi-dimensional object to hold labeled data) comprised of rows and columns, akin to a spreadsheet, database table, or R's data.frame object. You can think of it as multiple Series object which share the same index.\n",
    "\n",
    "Um `DataFrame` é uma ** estrutura de dados tabular ** (objeto multidimensional para armazenar dados rotulados) composta de linhas e colunas, semelhante a uma folha Excel, tabela de base de dados relacional ou data.frame de R. Pode interpretar como como vários objetos do tipo Series que compartilham o mesmo índice.\n",
    "\n",
    "<img align=\"left\" width=50% src=\"pandas-dataframe_series.png\">"
   ]
  },
  {
   "cell_type": "markdown",
   "metadata": {},
   "source": [
    "Vamos agora abrir um ficheiro com alguns dados sobre contratos públicos (extraídos do portal Base - http://www.base.gov.pt/Base/pt/Homepage).\n",
    "O docente explicará a metodologia na aula."
   ]
  },
  {
   "cell_type": "code",
   "execution_count": 77,
   "metadata": {},
   "outputs": [],
   "source": [
    "low_memory=False;\n",
    "contratos=pd.read_csv(\"dados/contratos.csv\")"
   ]
  },
  {
   "cell_type": "code",
   "execution_count": 78,
   "metadata": {
    "scrolled": false
   },
   "outputs": [
    {
     "data": {
      "text/html": [
       "<div>\n",
       "<style scoped>\n",
       "    .dataframe tbody tr th:only-of-type {\n",
       "        vertical-align: middle;\n",
       "    }\n",
       "\n",
       "    .dataframe tbody tr th {\n",
       "        vertical-align: top;\n",
       "    }\n",
       "\n",
       "    .dataframe thead th {\n",
       "        text-align: right;\n",
       "    }\n",
       "</style>\n",
       "<table border=\"1\" class=\"dataframe\">\n",
       "  <thead>\n",
       "    <tr style=\"text-align: right;\">\n",
       "      <th></th>\n",
       "      <th>concelho</th>\n",
       "      <th>contrato</th>\n",
       "      <th>entidade_adjudicante</th>\n",
       "      <th>entidade_adjudicataria</th>\n",
       "      <th>tipo_contrato</th>\n",
       "      <th>tipo_procedimento</th>\n",
       "      <th>cpv</th>\n",
       "      <th>data_publicacao</th>\n",
       "      <th>descricao</th>\n",
       "      <th>fundamentacao</th>\n",
       "      <th>fundamentacao_ajuste_direto</th>\n",
       "      <th>objeto_contrato</th>\n",
       "      <th>data_contrato</th>\n",
       "      <th>preco_contratual</th>\n",
       "      <th>prazo_execucao</th>\n",
       "      <th>anuncio</th>\n",
       "      <th>data_fecho_contrato</th>\n",
       "      <th>preco_total_efetivo</th>\n",
       "    </tr>\n",
       "  </thead>\n",
       "  <tbody>\n",
       "    <tr>\n",
       "      <th>0</th>\n",
       "      <td>Abrantes</td>\n",
       "      <td>1391442</td>\n",
       "      <td>503148776</td>\n",
       "      <td>680017542</td>\n",
       "      <td>Aquisição de serviços</td>\n",
       "      <td>Ajuste directo</td>\n",
       "      <td>Serviços de distribuição de água e serviços co...</td>\n",
       "      <td>2015-02-26</td>\n",
       "      <td>3400007076</td>\n",
       "      <td>Artigo 24.º, n.º 1, alínea e) do Código dos Co...</td>\n",
       "      <td>ausência de recursos próprios</td>\n",
       "      <td>FORNECIMENTO DE ÁGUA PARA O ACES MÉDIO TEJO - ...</td>\n",
       "      <td>2015-02-25</td>\n",
       "      <td>41380.85</td>\n",
       "      <td>365</td>\n",
       "      <td>NaN</td>\n",
       "      <td>NaN</td>\n",
       "      <td>NaN</td>\n",
       "    </tr>\n",
       "    <tr>\n",
       "      <th>1</th>\n",
       "      <td>Abrantes</td>\n",
       "      <td>129439</td>\n",
       "      <td>502661038</td>\n",
       "      <td>503123919</td>\n",
       "      <td>Aquisição de bens móveis</td>\n",
       "      <td>Ajuste directo</td>\n",
       "      <td>Cartuchos de tinta (toner)</td>\n",
       "      <td>2010-02-17</td>\n",
       "      <td>Aquisição de tinteiros para máquina XEROX8265</td>\n",
       "      <td>Artigo 20.º, n.º 1, alínea a) do Código dos Co...</td>\n",
       "      <td>Não aplicável</td>\n",
       "      <td>Aquisição de Tinteiros para máquina XEROX 8265</td>\n",
       "      <td>2010-02-17</td>\n",
       "      <td>5800.00</td>\n",
       "      <td>300</td>\n",
       "      <td>NaN</td>\n",
       "      <td>NaN</td>\n",
       "      <td>NaN</td>\n",
       "    </tr>\n",
       "    <tr>\n",
       "      <th>2</th>\n",
       "      <td>Abrantes</td>\n",
       "      <td>453967</td>\n",
       "      <td>680017542</td>\n",
       "      <td>508230772</td>\n",
       "      <td>Aquisição de bens móveis</td>\n",
       "      <td>Ajuste directo</td>\n",
       "      <td>Materiais para canalização</td>\n",
       "      <td>2012-02-08</td>\n",
       "      <td>Material diverso para armazém</td>\n",
       "      <td>Artigo 20.º, n.º 1, alínea a) do Código dos Co...</td>\n",
       "      <td>ausência de recursos próprios</td>\n",
       "      <td>Aquisição de material diverso para armazém</td>\n",
       "      <td>2012-02-02</td>\n",
       "      <td>50552.30</td>\n",
       "      <td>15</td>\n",
       "      <td>NaN</td>\n",
       "      <td>2012-04-13</td>\n",
       "      <td>50552.30</td>\n",
       "    </tr>\n",
       "    <tr>\n",
       "      <th>3</th>\n",
       "      <td>Abrantes</td>\n",
       "      <td>520079</td>\n",
       "      <td>502661038</td>\n",
       "      <td>247710911</td>\n",
       "      <td>Aquisição de serviços</td>\n",
       "      <td>Ajuste directo</td>\n",
       "      <td>Serviços recreativos, culturais e desportivos</td>\n",
       "      <td>2012-06-01</td>\n",
       "      <td>Contrato de Aquisição de serviços na área de a...</td>\n",
       "      <td>Artigo 20.º, n.º 1, alínea a) do Código dos Co...</td>\n",
       "      <td>ausência de recursos próprios</td>\n",
       "      <td>Aquisição de serviços na área de animaçao cult...</td>\n",
       "      <td>2012-05-31</td>\n",
       "      <td>13000.08</td>\n",
       "      <td>365</td>\n",
       "      <td>NaN</td>\n",
       "      <td>NaN</td>\n",
       "      <td>NaN</td>\n",
       "    </tr>\n",
       "    <tr>\n",
       "      <th>4</th>\n",
       "      <td>Abrantes</td>\n",
       "      <td>442129</td>\n",
       "      <td>502661038</td>\n",
       "      <td>502613475</td>\n",
       "      <td>Aquisição de bens móveis</td>\n",
       "      <td>Ajuste directo</td>\n",
       "      <td>Sinais</td>\n",
       "      <td>2012-01-06</td>\n",
       "      <td>Contrato de aquisiçao de sinalização vertical</td>\n",
       "      <td>Artigo 20.º, n.º 1, alínea a) do Código dos Co...</td>\n",
       "      <td>Não aplicável</td>\n",
       "      <td>Contrato de aquisiçao de sinalização vertical</td>\n",
       "      <td>2012-01-04</td>\n",
       "      <td>35757.21</td>\n",
       "      <td>1095</td>\n",
       "      <td>NaN</td>\n",
       "      <td>2013-01-21</td>\n",
       "      <td>24163.20</td>\n",
       "    </tr>\n",
       "    <tr>\n",
       "      <th>...</th>\n",
       "      <td>...</td>\n",
       "      <td>...</td>\n",
       "      <td>...</td>\n",
       "      <td>...</td>\n",
       "      <td>...</td>\n",
       "      <td>...</td>\n",
       "      <td>...</td>\n",
       "      <td>...</td>\n",
       "      <td>...</td>\n",
       "      <td>...</td>\n",
       "      <td>...</td>\n",
       "      <td>...</td>\n",
       "      <td>...</td>\n",
       "      <td>...</td>\n",
       "      <td>...</td>\n",
       "      <td>...</td>\n",
       "      <td>...</td>\n",
       "      <td>...</td>\n",
       "    </tr>\n",
       "    <tr>\n",
       "      <th>745107</th>\n",
       "      <td>Óbidos</td>\n",
       "      <td>1133092</td>\n",
       "      <td>506802698</td>\n",
       "      <td>503504564</td>\n",
       "      <td>Aquisição de serviços</td>\n",
       "      <td>Concurso público</td>\n",
       "      <td>Serviços de distribuição de electricidade e se...</td>\n",
       "      <td>2014-07-28</td>\n",
       "      <td>Contrato nº. 20/2014 - Fornecimento de Energia...</td>\n",
       "      <td>Artigo 20.º, n.º 1, alínea b) do Código dos Co...</td>\n",
       "      <td>Não aplicável</td>\n",
       "      <td>Fornecimento de Energia Elétrica para as Insta...</td>\n",
       "      <td>2014-06-17</td>\n",
       "      <td>192000.00</td>\n",
       "      <td>365</td>\n",
       "      <td>http://www.base.gov.pt/Base/pt/Pesquisa/Anunci...</td>\n",
       "      <td>NaN</td>\n",
       "      <td>NaN</td>\n",
       "    </tr>\n",
       "    <tr>\n",
       "      <th>745108</th>\n",
       "      <td>Óbidos</td>\n",
       "      <td>1133092</td>\n",
       "      <td>506802698</td>\n",
       "      <td>503504564</td>\n",
       "      <td>Aquisição de serviços</td>\n",
       "      <td>Concurso público</td>\n",
       "      <td>Serviços de distribuição de electricidade e se...</td>\n",
       "      <td>2014-07-28</td>\n",
       "      <td>Contrato nº. 20/2014 - Fornecimento de Energia...</td>\n",
       "      <td>Artigo 20.º, n.º 1, alínea b) do Código dos Co...</td>\n",
       "      <td>Não aplicável</td>\n",
       "      <td>Fornecimento de Energia Elétrica para as Insta...</td>\n",
       "      <td>2014-06-17</td>\n",
       "      <td>192000.00</td>\n",
       "      <td>365</td>\n",
       "      <td>http://www.base.gov.pt/Base/pt/Pesquisa/Anunci...</td>\n",
       "      <td>NaN</td>\n",
       "      <td>NaN</td>\n",
       "    </tr>\n",
       "    <tr>\n",
       "      <th>745109</th>\n",
       "      <td>Óbidos</td>\n",
       "      <td>155981</td>\n",
       "      <td>506802698</td>\n",
       "      <td>504083279</td>\n",
       "      <td>Aquisição de bens móveis</td>\n",
       "      <td>Ajuste directo</td>\n",
       "      <td>Máquinas, equipamento e material de escritório...</td>\n",
       "      <td>2010-05-20</td>\n",
       "      <td>Fornecimento em contínuo de Consumíveis de Inf...</td>\n",
       "      <td>Artigo 20.º, n.º 1, alínea a) do Código dos Co...</td>\n",
       "      <td>Não aplicável</td>\n",
       "      <td>Fornecimento em contínuo de Consumíveis de Inf...</td>\n",
       "      <td>2010-05-20</td>\n",
       "      <td>35000.00</td>\n",
       "      <td>365</td>\n",
       "      <td>NaN</td>\n",
       "      <td>2011-12-29</td>\n",
       "      <td>17203.05</td>\n",
       "    </tr>\n",
       "    <tr>\n",
       "      <th>745110</th>\n",
       "      <td>Óbidos</td>\n",
       "      <td>1645113</td>\n",
       "      <td>506802698</td>\n",
       "      <td>504758454</td>\n",
       "      <td>Aquisição de bens móveis</td>\n",
       "      <td>Ajuste directo</td>\n",
       "      <td>Equipamento e material informático</td>\n",
       "      <td>2015-10-07</td>\n",
       "      <td>RED 828_2015 -Fornecimento e Instalação de Har...</td>\n",
       "      <td>Artigo 20.º, n.º 1, alínea a) do Código dos Co...</td>\n",
       "      <td>ausência de recursos próprios</td>\n",
       "      <td>Fornecimento e Instalação de Hardware (Quiosqu...</td>\n",
       "      <td>2015-09-29</td>\n",
       "      <td>6639.00</td>\n",
       "      <td>15</td>\n",
       "      <td>NaN</td>\n",
       "      <td>2015-09-29</td>\n",
       "      <td>6639.00</td>\n",
       "    </tr>\n",
       "    <tr>\n",
       "      <th>745111</th>\n",
       "      <td>Óbidos</td>\n",
       "      <td>1645113</td>\n",
       "      <td>506802698</td>\n",
       "      <td>504758454</td>\n",
       "      <td>Aquisição de serviços</td>\n",
       "      <td>Ajuste directo</td>\n",
       "      <td>Equipamento e material informático</td>\n",
       "      <td>2015-10-07</td>\n",
       "      <td>RED 828_2015 -Fornecimento e Instalação de Har...</td>\n",
       "      <td>Artigo 20.º, n.º 1, alínea a) do Código dos Co...</td>\n",
       "      <td>ausência de recursos próprios</td>\n",
       "      <td>Fornecimento e Instalação de Hardware (Quiosqu...</td>\n",
       "      <td>2015-09-29</td>\n",
       "      <td>6639.00</td>\n",
       "      <td>15</td>\n",
       "      <td>NaN</td>\n",
       "      <td>2015-09-29</td>\n",
       "      <td>6639.00</td>\n",
       "    </tr>\n",
       "  </tbody>\n",
       "</table>\n",
       "<p>745112 rows × 18 columns</p>\n",
       "</div>"
      ],
      "text/plain": [
       "        concelho  contrato entidade_adjudicante entidade_adjudicataria  \\\n",
       "0       Abrantes   1391442            503148776              680017542   \n",
       "1       Abrantes    129439            502661038              503123919   \n",
       "2       Abrantes    453967            680017542              508230772   \n",
       "3       Abrantes    520079            502661038              247710911   \n",
       "4       Abrantes    442129            502661038              502613475   \n",
       "...          ...       ...                  ...                    ...   \n",
       "745107    Óbidos   1133092            506802698              503504564   \n",
       "745108    Óbidos   1133092            506802698              503504564   \n",
       "745109    Óbidos    155981            506802698              504083279   \n",
       "745110    Óbidos   1645113            506802698              504758454   \n",
       "745111    Óbidos   1645113            506802698              504758454   \n",
       "\n",
       "                   tipo_contrato tipo_procedimento  \\\n",
       "0          Aquisição de serviços    Ajuste directo   \n",
       "1       Aquisição de bens móveis    Ajuste directo   \n",
       "2       Aquisição de bens móveis    Ajuste directo   \n",
       "3          Aquisição de serviços    Ajuste directo   \n",
       "4       Aquisição de bens móveis    Ajuste directo   \n",
       "...                          ...               ...   \n",
       "745107     Aquisição de serviços  Concurso público   \n",
       "745108     Aquisição de serviços  Concurso público   \n",
       "745109  Aquisição de bens móveis    Ajuste directo   \n",
       "745110  Aquisição de bens móveis    Ajuste directo   \n",
       "745111     Aquisição de serviços    Ajuste directo   \n",
       "\n",
       "                                                      cpv data_publicacao  \\\n",
       "0       Serviços de distribuição de água e serviços co...      2015-02-26   \n",
       "1                              Cartuchos de tinta (toner)      2010-02-17   \n",
       "2                              Materiais para canalização      2012-02-08   \n",
       "3           Serviços recreativos, culturais e desportivos      2012-06-01   \n",
       "4                                                  Sinais      2012-01-06   \n",
       "...                                                   ...             ...   \n",
       "745107  Serviços de distribuição de electricidade e se...      2014-07-28   \n",
       "745108  Serviços de distribuição de electricidade e se...      2014-07-28   \n",
       "745109  Máquinas, equipamento e material de escritório...      2010-05-20   \n",
       "745110                 Equipamento e material informático      2015-10-07   \n",
       "745111                 Equipamento e material informático      2015-10-07   \n",
       "\n",
       "                                                descricao  \\\n",
       "0                                              3400007076   \n",
       "1           Aquisição de tinteiros para máquina XEROX8265   \n",
       "2                           Material diverso para armazém   \n",
       "3       Contrato de Aquisição de serviços na área de a...   \n",
       "4           Contrato de aquisiçao de sinalização vertical   \n",
       "...                                                   ...   \n",
       "745107  Contrato nº. 20/2014 - Fornecimento de Energia...   \n",
       "745108  Contrato nº. 20/2014 - Fornecimento de Energia...   \n",
       "745109  Fornecimento em contínuo de Consumíveis de Inf...   \n",
       "745110  RED 828_2015 -Fornecimento e Instalação de Har...   \n",
       "745111  RED 828_2015 -Fornecimento e Instalação de Har...   \n",
       "\n",
       "                                            fundamentacao  \\\n",
       "0       Artigo 24.º, n.º 1, alínea e) do Código dos Co...   \n",
       "1       Artigo 20.º, n.º 1, alínea a) do Código dos Co...   \n",
       "2       Artigo 20.º, n.º 1, alínea a) do Código dos Co...   \n",
       "3       Artigo 20.º, n.º 1, alínea a) do Código dos Co...   \n",
       "4       Artigo 20.º, n.º 1, alínea a) do Código dos Co...   \n",
       "...                                                   ...   \n",
       "745107  Artigo 20.º, n.º 1, alínea b) do Código dos Co...   \n",
       "745108  Artigo 20.º, n.º 1, alínea b) do Código dos Co...   \n",
       "745109  Artigo 20.º, n.º 1, alínea a) do Código dos Co...   \n",
       "745110  Artigo 20.º, n.º 1, alínea a) do Código dos Co...   \n",
       "745111  Artigo 20.º, n.º 1, alínea a) do Código dos Co...   \n",
       "\n",
       "          fundamentacao_ajuste_direto  \\\n",
       "0       ausência de recursos próprios   \n",
       "1                       Não aplicável   \n",
       "2       ausência de recursos próprios   \n",
       "3       ausência de recursos próprios   \n",
       "4                       Não aplicável   \n",
       "...                               ...   \n",
       "745107                  Não aplicável   \n",
       "745108                  Não aplicável   \n",
       "745109                  Não aplicável   \n",
       "745110  ausência de recursos próprios   \n",
       "745111  ausência de recursos próprios   \n",
       "\n",
       "                                          objeto_contrato data_contrato  \\\n",
       "0       FORNECIMENTO DE ÁGUA PARA O ACES MÉDIO TEJO - ...    2015-02-25   \n",
       "1          Aquisição de Tinteiros para máquina XEROX 8265    2010-02-17   \n",
       "2              Aquisição de material diverso para armazém    2012-02-02   \n",
       "3       Aquisição de serviços na área de animaçao cult...    2012-05-31   \n",
       "4           Contrato de aquisiçao de sinalização vertical    2012-01-04   \n",
       "...                                                   ...           ...   \n",
       "745107  Fornecimento de Energia Elétrica para as Insta...    2014-06-17   \n",
       "745108  Fornecimento de Energia Elétrica para as Insta...    2014-06-17   \n",
       "745109  Fornecimento em contínuo de Consumíveis de Inf...    2010-05-20   \n",
       "745110  Fornecimento e Instalação de Hardware (Quiosqu...    2015-09-29   \n",
       "745111  Fornecimento e Instalação de Hardware (Quiosqu...    2015-09-29   \n",
       "\n",
       "        preco_contratual  prazo_execucao  \\\n",
       "0               41380.85             365   \n",
       "1                5800.00             300   \n",
       "2               50552.30              15   \n",
       "3               13000.08             365   \n",
       "4               35757.21            1095   \n",
       "...                  ...             ...   \n",
       "745107         192000.00             365   \n",
       "745108         192000.00             365   \n",
       "745109          35000.00             365   \n",
       "745110           6639.00              15   \n",
       "745111           6639.00              15   \n",
       "\n",
       "                                                  anuncio data_fecho_contrato  \\\n",
       "0                                                     NaN                 NaN   \n",
       "1                                                     NaN                 NaN   \n",
       "2                                                     NaN          2012-04-13   \n",
       "3                                                     NaN                 NaN   \n",
       "4                                                     NaN          2013-01-21   \n",
       "...                                                   ...                 ...   \n",
       "745107  http://www.base.gov.pt/Base/pt/Pesquisa/Anunci...                 NaN   \n",
       "745108  http://www.base.gov.pt/Base/pt/Pesquisa/Anunci...                 NaN   \n",
       "745109                                                NaN          2011-12-29   \n",
       "745110                                                NaN          2015-09-29   \n",
       "745111                                                NaN          2015-09-29   \n",
       "\n",
       "        preco_total_efetivo  \n",
       "0                       NaN  \n",
       "1                       NaN  \n",
       "2                  50552.30  \n",
       "3                       NaN  \n",
       "4                  24163.20  \n",
       "...                     ...  \n",
       "745107                  NaN  \n",
       "745108                  NaN  \n",
       "745109             17203.05  \n",
       "745110              6639.00  \n",
       "745111              6639.00  \n",
       "\n",
       "[745112 rows x 18 columns]"
      ]
     },
     "execution_count": 78,
     "metadata": {},
     "output_type": "execute_result"
    }
   ],
   "source": [
    "contratos"
   ]
  },
  {
   "cell_type": "markdown",
   "metadata": {
    "slideshow": {
     "slide_type": "subslide"
    }
   },
   "source": [
    "### Atributos de um DataFrame\n",
    "\n",
    "Um dataframe, além do atributo `index`, tem um atributo `columns`:"
   ]
  },
  {
   "cell_type": "code",
   "execution_count": 79,
   "metadata": {},
   "outputs": [
    {
     "data": {
      "text/plain": [
       "RangeIndex(start=0, stop=745112, step=1)"
      ]
     },
     "execution_count": 79,
     "metadata": {},
     "output_type": "execute_result"
    }
   ],
   "source": [
    "contratos.index"
   ]
  },
  {
   "cell_type": "code",
   "execution_count": 82,
   "metadata": {},
   "outputs": [
    {
     "data": {
      "text/plain": [
       "Index(['concelho', 'contrato', 'entidade_adjudicante',\n",
       "       'entidade_adjudicataria', 'tipo_contrato', 'tipo_procedimento', 'cpv',\n",
       "       'data_publicacao', 'descricao', 'fundamentacao',\n",
       "       'fundamentacao_ajuste_direto', 'objeto_contrato', 'data_contrato',\n",
       "       'preco_contratual', 'prazo_execucao', 'anuncio', 'data_fecho_contrato',\n",
       "       'preco_total_efetivo'],\n",
       "      dtype='object')"
      ]
     },
     "execution_count": 82,
     "metadata": {},
     "output_type": "execute_result"
    }
   ],
   "source": [
    "contratos.columns"
   ]
  },
  {
   "cell_type": "markdown",
   "metadata": {
    "slideshow": {
     "slide_type": "subslide"
    }
   },
   "source": [
    "Para verificar os tipos de dados das colunas::"
   ]
  },
  {
   "cell_type": "code",
   "execution_count": 81,
   "metadata": {},
   "outputs": [
    {
     "data": {
      "text/plain": [
       "concelho                        object\n",
       "contrato                         int64\n",
       "entidade_adjudicante            object\n",
       "entidade_adjudicataria          object\n",
       "tipo_contrato                   object\n",
       "tipo_procedimento               object\n",
       "cpv                             object\n",
       "data_publicacao                 object\n",
       "descricao                       object\n",
       "fundamentacao                   object\n",
       "fundamentacao_ajuste_direto     object\n",
       "objeto_contrato                 object\n",
       "data_contrato                   object\n",
       "preco_contratual               float64\n",
       "prazo_execucao                   int64\n",
       "anuncio                         object\n",
       "data_fecho_contrato             object\n",
       "preco_total_efetivo            float64\n",
       "dtype: object"
      ]
     },
     "execution_count": 81,
     "metadata": {},
     "output_type": "execute_result"
    }
   ],
   "source": [
    "contratos.dtypes"
   ]
  },
  {
   "cell_type": "markdown",
   "metadata": {
    "slideshow": {
     "slide_type": "subslide"
    }
   },
   "source": [
    "Informação providenciada pelo método info():"
   ]
  },
  {
   "cell_type": "code",
   "execution_count": 84,
   "metadata": {},
   "outputs": [
    {
     "name": "stdout",
     "output_type": "stream",
     "text": [
      "<class 'pandas.core.frame.DataFrame'>\n",
      "RangeIndex: 745112 entries, 0 to 745111\n",
      "Data columns (total 18 columns):\n",
      "concelho                       745112 non-null object\n",
      "contrato                       745112 non-null int64\n",
      "entidade_adjudicante           745112 non-null object\n",
      "entidade_adjudicataria         745112 non-null object\n",
      "tipo_contrato                  745112 non-null object\n",
      "tipo_procedimento              745112 non-null object\n",
      "cpv                            745112 non-null object\n",
      "data_publicacao                745112 non-null object\n",
      "descricao                      738770 non-null object\n",
      "fundamentacao                  745112 non-null object\n",
      "fundamentacao_ajuste_direto    745102 non-null object\n",
      "objeto_contrato                745112 non-null object\n",
      "data_contrato                  745112 non-null object\n",
      "preco_contratual               745112 non-null float64\n",
      "prazo_execucao                 745112 non-null int64\n",
      "anuncio                        61512 non-null object\n",
      "data_fecho_contrato            269304 non-null object\n",
      "preco_total_efetivo            296142 non-null float64\n",
      "dtypes: float64(2), int64(2), object(14)\n",
      "memory usage: 102.3+ MB\n"
     ]
    }
   ],
   "source": [
    "contratos.info()"
   ]
  },
  {
   "cell_type": "markdown",
   "metadata": {
    "slideshow": {
     "slide_type": "subslide"
    }
   },
   "source": [
    "Além de importar os dados de uma fonte externa (arquivo de texto, excel, base de dados, etc.), uma das maneiras mais comuns de criar um dataframe é a partir de um dicionário de arrays ou listas.\n",
    "\n",
    "Observe que num notebook IPython, o dataframe será exibido numa \"vista\" HTML :"
   ]
  },
  {
   "cell_type": "code",
   "execution_count": 63,
   "metadata": {},
   "outputs": [
    {
     "data": {
      "text/html": [
       "<div>\n",
       "<style scoped>\n",
       "    .dataframe tbody tr th:only-of-type {\n",
       "        vertical-align: middle;\n",
       "    }\n",
       "\n",
       "    .dataframe tbody tr th {\n",
       "        vertical-align: top;\n",
       "    }\n",
       "\n",
       "    .dataframe thead th {\n",
       "        text-align: right;\n",
       "    }\n",
       "</style>\n",
       "<table border=\"1\" class=\"dataframe\">\n",
       "  <thead>\n",
       "    <tr style=\"text-align: right;\">\n",
       "      <th></th>\n",
       "      <th>pais</th>\n",
       "      <th>population</th>\n",
       "      <th>area</th>\n",
       "      <th>capital</th>\n",
       "    </tr>\n",
       "  </thead>\n",
       "  <tbody>\n",
       "    <tr>\n",
       "      <th>0</th>\n",
       "      <td>Bélgica</td>\n",
       "      <td>11.3</td>\n",
       "      <td>30510</td>\n",
       "      <td>Bruxelas</td>\n",
       "    </tr>\n",
       "    <tr>\n",
       "      <th>1</th>\n",
       "      <td>Françq</td>\n",
       "      <td>64.3</td>\n",
       "      <td>671308</td>\n",
       "      <td>Paris</td>\n",
       "    </tr>\n",
       "    <tr>\n",
       "      <th>2</th>\n",
       "      <td>Alemanha</td>\n",
       "      <td>81.3</td>\n",
       "      <td>357050</td>\n",
       "      <td>Berlim</td>\n",
       "    </tr>\n",
       "    <tr>\n",
       "      <th>3</th>\n",
       "      <td>Holanda</td>\n",
       "      <td>16.9</td>\n",
       "      <td>41526</td>\n",
       "      <td>Amesterdão</td>\n",
       "    </tr>\n",
       "    <tr>\n",
       "      <th>4</th>\n",
       "      <td>Inglaterra</td>\n",
       "      <td>64.9</td>\n",
       "      <td>244820</td>\n",
       "      <td>Londres</td>\n",
       "    </tr>\n",
       "  </tbody>\n",
       "</table>\n",
       "</div>"
      ],
      "text/plain": [
       "         pais  population    area     capital\n",
       "0     Bélgica        11.3   30510    Bruxelas\n",
       "1      Françq        64.3  671308       Paris\n",
       "2    Alemanha        81.3  357050      Berlim\n",
       "3     Holanda        16.9   41526  Amesterdão\n",
       "4  Inglaterra        64.9  244820     Londres"
      ]
     },
     "execution_count": 63,
     "metadata": {},
     "output_type": "execute_result"
    }
   ],
   "source": [
    "data = {'pais': ['Bélgica', 'Françq', 'Alemanha', 'Holanda', 'Inglaterra'],\n",
    "        'population': [11.3, 64.3, 81.3, 16.9, 64.9],\n",
    "        'area': [30510, 671308, 357050, 41526, 244820],\n",
    "        'capital': ['Bruxelas', 'Paris', 'Berlim', 'Amesterdão', 'Londres']}\n",
    "df_countries = pd.DataFrame(data)\n",
    "df_countries"
   ]
  },
  {
   "cell_type": "markdown",
   "metadata": {
    "slideshow": {
     "slide_type": "subslide"
    }
   },
   "source": [
    "### dados unidimensionais : `Series` (uma coluna de um DataFrame)"
   ]
  },
  {
   "cell_type": "code",
   "execution_count": 87,
   "metadata": {},
   "outputs": [
    {
     "data": {
      "text/plain": [
       "0         1391442\n",
       "1          129439\n",
       "2          453967\n",
       "3          520079\n",
       "4          442129\n",
       "           ...   \n",
       "745107    1133092\n",
       "745108    1133092\n",
       "745109     155981\n",
       "745110    1645113\n",
       "745111    1645113\n",
       "Name: contrato, Length: 745112, dtype: int64"
      ]
     },
     "execution_count": 87,
     "metadata": {},
     "output_type": "execute_result"
    }
   ],
   "source": [
    "contratos['contrato']"
   ]
  },
  {
   "cell_type": "code",
   "execution_count": 95,
   "metadata": {},
   "outputs": [
    {
     "data": {
      "text/plain": [
       "0         1391442\n",
       "1          129439\n",
       "2          453967\n",
       "3          520079\n",
       "4          442129\n",
       "           ...   \n",
       "745107    1133092\n",
       "745108    1133092\n",
       "745109     155981\n",
       "745110    1645113\n",
       "745111    1645113\n",
       "Name: contrato, Length: 745112, dtype: int64"
      ]
     },
     "execution_count": 95,
     "metadata": {},
     "output_type": "execute_result"
    }
   ],
   "source": [
    "num_contrato = contratos['contrato']\n",
    "num_contrato"
   ]
  },
  {
   "cell_type": "markdown",
   "metadata": {
    "slideshow": {
     "slide_type": "subslide"
    }
   },
   "source": [
    "### Atributos de Series: `index` e `values`\n",
    "\n",
    "Uma Series também tem os atributos `index` e `values`, mas não `columns`"
   ]
  },
  {
   "cell_type": "code",
   "execution_count": 97,
   "metadata": {},
   "outputs": [
    {
     "data": {
      "text/plain": [
       "RangeIndex(start=0, stop=745112, step=1)"
      ]
     },
     "execution_count": 97,
     "metadata": {},
     "output_type": "execute_result"
    }
   ],
   "source": [
    "num_contrato.index"
   ]
  },
  {
   "cell_type": "markdown",
   "metadata": {},
   "source": [
    "Pode aceder à representação do array numpy subjacente com o atributo`.values`:"
   ]
  },
  {
   "cell_type": "code",
   "execution_count": 99,
   "metadata": {
    "scrolled": false
   },
   "outputs": [
    {
     "data": {
      "text/plain": [
       "array([1391442,  129439,  453967,  520079,  442129,  107936,  107936,\n",
       "        122380,  515632,  117692,  107936,  646102, 1391442,  107936,\n",
       "        801859,  205619, 1099264,  899415,  325081,  783980, 2044745,\n",
       "       2181098,  783980,  912635,  880263,  783980,  783980,  783980,\n",
       "        228791, 1413968, 1286128,  121969,   66736, 2043613,  575492,\n",
       "        971745, 2147070,  221314, 1068659,  575492, 1063761, 1509971,\n",
       "       1126311, 2012541,  769456, 2163623, 1449566, 2049994,  883184,\n",
       "       1174963])"
      ]
     },
     "execution_count": 99,
     "metadata": {},
     "output_type": "execute_result"
    }
   ],
   "source": [
    "num_contrato.values[:50]"
   ]
  },
  {
   "cell_type": "markdown",
   "metadata": {
    "slideshow": {
     "slide_type": "subslide"
    }
   },
   "source": [
    "Pode aceder aos avores via índice, como nos aeeays NumPy:"
   ]
  },
  {
   "cell_type": "code",
   "execution_count": 100,
   "metadata": {},
   "outputs": [
    {
     "data": {
      "text/plain": [
       "129439"
      ]
     },
     "execution_count": 100,
     "metadata": {},
     "output_type": "execute_result"
    }
   ],
   "source": [
    "num_contrato[1]"
   ]
  },
  {
   "cell_type": "markdown",
   "metadata": {
    "slideshow": {
     "slide_type": "subslide"
    }
   },
   "source": [
    "Em Pandas, contrariamente a NumPy array, o índice pode ser outro tipo de dados que não inteiro:"
   ]
  },
  {
   "cell_type": "code",
   "execution_count": 101,
   "metadata": {},
   "outputs": [
    {
     "data": {
      "text/html": [
       "<div>\n",
       "<style scoped>\n",
       "    .dataframe tbody tr th:only-of-type {\n",
       "        vertical-align: middle;\n",
       "    }\n",
       "\n",
       "    .dataframe tbody tr th {\n",
       "        vertical-align: top;\n",
       "    }\n",
       "\n",
       "    .dataframe thead th {\n",
       "        text-align: right;\n",
       "    }\n",
       "</style>\n",
       "<table border=\"1\" class=\"dataframe\">\n",
       "  <thead>\n",
       "    <tr style=\"text-align: right;\">\n",
       "      <th></th>\n",
       "      <th>contrato</th>\n",
       "      <th>entidade_adjudicante</th>\n",
       "      <th>entidade_adjudicataria</th>\n",
       "      <th>tipo_contrato</th>\n",
       "      <th>tipo_procedimento</th>\n",
       "      <th>cpv</th>\n",
       "      <th>data_publicacao</th>\n",
       "      <th>descricao</th>\n",
       "      <th>fundamentacao</th>\n",
       "      <th>fundamentacao_ajuste_direto</th>\n",
       "      <th>objeto_contrato</th>\n",
       "      <th>data_contrato</th>\n",
       "      <th>preco_contratual</th>\n",
       "      <th>prazo_execucao</th>\n",
       "      <th>anuncio</th>\n",
       "      <th>data_fecho_contrato</th>\n",
       "      <th>preco_total_efetivo</th>\n",
       "    </tr>\n",
       "    <tr>\n",
       "      <th>concelho</th>\n",
       "      <th></th>\n",
       "      <th></th>\n",
       "      <th></th>\n",
       "      <th></th>\n",
       "      <th></th>\n",
       "      <th></th>\n",
       "      <th></th>\n",
       "      <th></th>\n",
       "      <th></th>\n",
       "      <th></th>\n",
       "      <th></th>\n",
       "      <th></th>\n",
       "      <th></th>\n",
       "      <th></th>\n",
       "      <th></th>\n",
       "      <th></th>\n",
       "      <th></th>\n",
       "    </tr>\n",
       "  </thead>\n",
       "  <tbody>\n",
       "    <tr>\n",
       "      <th>Abrantes</th>\n",
       "      <td>1391442</td>\n",
       "      <td>503148776</td>\n",
       "      <td>680017542</td>\n",
       "      <td>Aquisição de serviços</td>\n",
       "      <td>Ajuste directo</td>\n",
       "      <td>Serviços de distribuição de água e serviços co...</td>\n",
       "      <td>2015-02-26</td>\n",
       "      <td>3400007076</td>\n",
       "      <td>Artigo 24.º, n.º 1, alínea e) do Código dos Co...</td>\n",
       "      <td>ausência de recursos próprios</td>\n",
       "      <td>FORNECIMENTO DE ÁGUA PARA O ACES MÉDIO TEJO - ...</td>\n",
       "      <td>2015-02-25</td>\n",
       "      <td>41380.85</td>\n",
       "      <td>365</td>\n",
       "      <td>NaN</td>\n",
       "      <td>NaN</td>\n",
       "      <td>NaN</td>\n",
       "    </tr>\n",
       "    <tr>\n",
       "      <th>Abrantes</th>\n",
       "      <td>129439</td>\n",
       "      <td>502661038</td>\n",
       "      <td>503123919</td>\n",
       "      <td>Aquisição de bens móveis</td>\n",
       "      <td>Ajuste directo</td>\n",
       "      <td>Cartuchos de tinta (toner)</td>\n",
       "      <td>2010-02-17</td>\n",
       "      <td>Aquisição de tinteiros para máquina XEROX8265</td>\n",
       "      <td>Artigo 20.º, n.º 1, alínea a) do Código dos Co...</td>\n",
       "      <td>Não aplicável</td>\n",
       "      <td>Aquisição de Tinteiros para máquina XEROX 8265</td>\n",
       "      <td>2010-02-17</td>\n",
       "      <td>5800.00</td>\n",
       "      <td>300</td>\n",
       "      <td>NaN</td>\n",
       "      <td>NaN</td>\n",
       "      <td>NaN</td>\n",
       "    </tr>\n",
       "    <tr>\n",
       "      <th>Abrantes</th>\n",
       "      <td>453967</td>\n",
       "      <td>680017542</td>\n",
       "      <td>508230772</td>\n",
       "      <td>Aquisição de bens móveis</td>\n",
       "      <td>Ajuste directo</td>\n",
       "      <td>Materiais para canalização</td>\n",
       "      <td>2012-02-08</td>\n",
       "      <td>Material diverso para armazém</td>\n",
       "      <td>Artigo 20.º, n.º 1, alínea a) do Código dos Co...</td>\n",
       "      <td>ausência de recursos próprios</td>\n",
       "      <td>Aquisição de material diverso para armazém</td>\n",
       "      <td>2012-02-02</td>\n",
       "      <td>50552.30</td>\n",
       "      <td>15</td>\n",
       "      <td>NaN</td>\n",
       "      <td>2012-04-13</td>\n",
       "      <td>50552.30</td>\n",
       "    </tr>\n",
       "    <tr>\n",
       "      <th>Abrantes</th>\n",
       "      <td>520079</td>\n",
       "      <td>502661038</td>\n",
       "      <td>247710911</td>\n",
       "      <td>Aquisição de serviços</td>\n",
       "      <td>Ajuste directo</td>\n",
       "      <td>Serviços recreativos, culturais e desportivos</td>\n",
       "      <td>2012-06-01</td>\n",
       "      <td>Contrato de Aquisição de serviços na área de a...</td>\n",
       "      <td>Artigo 20.º, n.º 1, alínea a) do Código dos Co...</td>\n",
       "      <td>ausência de recursos próprios</td>\n",
       "      <td>Aquisição de serviços na área de animaçao cult...</td>\n",
       "      <td>2012-05-31</td>\n",
       "      <td>13000.08</td>\n",
       "      <td>365</td>\n",
       "      <td>NaN</td>\n",
       "      <td>NaN</td>\n",
       "      <td>NaN</td>\n",
       "    </tr>\n",
       "    <tr>\n",
       "      <th>Abrantes</th>\n",
       "      <td>442129</td>\n",
       "      <td>502661038</td>\n",
       "      <td>502613475</td>\n",
       "      <td>Aquisição de bens móveis</td>\n",
       "      <td>Ajuste directo</td>\n",
       "      <td>Sinais</td>\n",
       "      <td>2012-01-06</td>\n",
       "      <td>Contrato de aquisiçao de sinalização vertical</td>\n",
       "      <td>Artigo 20.º, n.º 1, alínea a) do Código dos Co...</td>\n",
       "      <td>Não aplicável</td>\n",
       "      <td>Contrato de aquisiçao de sinalização vertical</td>\n",
       "      <td>2012-01-04</td>\n",
       "      <td>35757.21</td>\n",
       "      <td>1095</td>\n",
       "      <td>NaN</td>\n",
       "      <td>2013-01-21</td>\n",
       "      <td>24163.20</td>\n",
       "    </tr>\n",
       "    <tr>\n",
       "      <th>...</th>\n",
       "      <td>...</td>\n",
       "      <td>...</td>\n",
       "      <td>...</td>\n",
       "      <td>...</td>\n",
       "      <td>...</td>\n",
       "      <td>...</td>\n",
       "      <td>...</td>\n",
       "      <td>...</td>\n",
       "      <td>...</td>\n",
       "      <td>...</td>\n",
       "      <td>...</td>\n",
       "      <td>...</td>\n",
       "      <td>...</td>\n",
       "      <td>...</td>\n",
       "      <td>...</td>\n",
       "      <td>...</td>\n",
       "      <td>...</td>\n",
       "    </tr>\n",
       "    <tr>\n",
       "      <th>Óbidos</th>\n",
       "      <td>1133092</td>\n",
       "      <td>506802698</td>\n",
       "      <td>503504564</td>\n",
       "      <td>Aquisição de serviços</td>\n",
       "      <td>Concurso público</td>\n",
       "      <td>Serviços de distribuição de electricidade e se...</td>\n",
       "      <td>2014-07-28</td>\n",
       "      <td>Contrato nº. 20/2014 - Fornecimento de Energia...</td>\n",
       "      <td>Artigo 20.º, n.º 1, alínea b) do Código dos Co...</td>\n",
       "      <td>Não aplicável</td>\n",
       "      <td>Fornecimento de Energia Elétrica para as Insta...</td>\n",
       "      <td>2014-06-17</td>\n",
       "      <td>192000.00</td>\n",
       "      <td>365</td>\n",
       "      <td>http://www.base.gov.pt/Base/pt/Pesquisa/Anunci...</td>\n",
       "      <td>NaN</td>\n",
       "      <td>NaN</td>\n",
       "    </tr>\n",
       "    <tr>\n",
       "      <th>Óbidos</th>\n",
       "      <td>1133092</td>\n",
       "      <td>506802698</td>\n",
       "      <td>503504564</td>\n",
       "      <td>Aquisição de serviços</td>\n",
       "      <td>Concurso público</td>\n",
       "      <td>Serviços de distribuição de electricidade e se...</td>\n",
       "      <td>2014-07-28</td>\n",
       "      <td>Contrato nº. 20/2014 - Fornecimento de Energia...</td>\n",
       "      <td>Artigo 20.º, n.º 1, alínea b) do Código dos Co...</td>\n",
       "      <td>Não aplicável</td>\n",
       "      <td>Fornecimento de Energia Elétrica para as Insta...</td>\n",
       "      <td>2014-06-17</td>\n",
       "      <td>192000.00</td>\n",
       "      <td>365</td>\n",
       "      <td>http://www.base.gov.pt/Base/pt/Pesquisa/Anunci...</td>\n",
       "      <td>NaN</td>\n",
       "      <td>NaN</td>\n",
       "    </tr>\n",
       "    <tr>\n",
       "      <th>Óbidos</th>\n",
       "      <td>155981</td>\n",
       "      <td>506802698</td>\n",
       "      <td>504083279</td>\n",
       "      <td>Aquisição de bens móveis</td>\n",
       "      <td>Ajuste directo</td>\n",
       "      <td>Máquinas, equipamento e material de escritório...</td>\n",
       "      <td>2010-05-20</td>\n",
       "      <td>Fornecimento em contínuo de Consumíveis de Inf...</td>\n",
       "      <td>Artigo 20.º, n.º 1, alínea a) do Código dos Co...</td>\n",
       "      <td>Não aplicável</td>\n",
       "      <td>Fornecimento em contínuo de Consumíveis de Inf...</td>\n",
       "      <td>2010-05-20</td>\n",
       "      <td>35000.00</td>\n",
       "      <td>365</td>\n",
       "      <td>NaN</td>\n",
       "      <td>2011-12-29</td>\n",
       "      <td>17203.05</td>\n",
       "    </tr>\n",
       "    <tr>\n",
       "      <th>Óbidos</th>\n",
       "      <td>1645113</td>\n",
       "      <td>506802698</td>\n",
       "      <td>504758454</td>\n",
       "      <td>Aquisição de bens móveis</td>\n",
       "      <td>Ajuste directo</td>\n",
       "      <td>Equipamento e material informático</td>\n",
       "      <td>2015-10-07</td>\n",
       "      <td>RED 828_2015 -Fornecimento e Instalação de Har...</td>\n",
       "      <td>Artigo 20.º, n.º 1, alínea a) do Código dos Co...</td>\n",
       "      <td>ausência de recursos próprios</td>\n",
       "      <td>Fornecimento e Instalação de Hardware (Quiosqu...</td>\n",
       "      <td>2015-09-29</td>\n",
       "      <td>6639.00</td>\n",
       "      <td>15</td>\n",
       "      <td>NaN</td>\n",
       "      <td>2015-09-29</td>\n",
       "      <td>6639.00</td>\n",
       "    </tr>\n",
       "    <tr>\n",
       "      <th>Óbidos</th>\n",
       "      <td>1645113</td>\n",
       "      <td>506802698</td>\n",
       "      <td>504758454</td>\n",
       "      <td>Aquisição de serviços</td>\n",
       "      <td>Ajuste directo</td>\n",
       "      <td>Equipamento e material informático</td>\n",
       "      <td>2015-10-07</td>\n",
       "      <td>RED 828_2015 -Fornecimento e Instalação de Har...</td>\n",
       "      <td>Artigo 20.º, n.º 1, alínea a) do Código dos Co...</td>\n",
       "      <td>ausência de recursos próprios</td>\n",
       "      <td>Fornecimento e Instalação de Hardware (Quiosqu...</td>\n",
       "      <td>2015-09-29</td>\n",
       "      <td>6639.00</td>\n",
       "      <td>15</td>\n",
       "      <td>NaN</td>\n",
       "      <td>2015-09-29</td>\n",
       "      <td>6639.00</td>\n",
       "    </tr>\n",
       "  </tbody>\n",
       "</table>\n",
       "<p>745112 rows × 17 columns</p>\n",
       "</div>"
      ],
      "text/plain": [
       "          contrato entidade_adjudicante entidade_adjudicataria  \\\n",
       "concelho                                                         \n",
       "Abrantes   1391442            503148776              680017542   \n",
       "Abrantes    129439            502661038              503123919   \n",
       "Abrantes    453967            680017542              508230772   \n",
       "Abrantes    520079            502661038              247710911   \n",
       "Abrantes    442129            502661038              502613475   \n",
       "...            ...                  ...                    ...   \n",
       "Óbidos     1133092            506802698              503504564   \n",
       "Óbidos     1133092            506802698              503504564   \n",
       "Óbidos      155981            506802698              504083279   \n",
       "Óbidos     1645113            506802698              504758454   \n",
       "Óbidos     1645113            506802698              504758454   \n",
       "\n",
       "                     tipo_contrato tipo_procedimento  \\\n",
       "concelho                                               \n",
       "Abrantes     Aquisição de serviços    Ajuste directo   \n",
       "Abrantes  Aquisição de bens móveis    Ajuste directo   \n",
       "Abrantes  Aquisição de bens móveis    Ajuste directo   \n",
       "Abrantes     Aquisição de serviços    Ajuste directo   \n",
       "Abrantes  Aquisição de bens móveis    Ajuste directo   \n",
       "...                            ...               ...   \n",
       "Óbidos       Aquisição de serviços  Concurso público   \n",
       "Óbidos       Aquisição de serviços  Concurso público   \n",
       "Óbidos    Aquisição de bens móveis    Ajuste directo   \n",
       "Óbidos    Aquisição de bens móveis    Ajuste directo   \n",
       "Óbidos       Aquisição de serviços    Ajuste directo   \n",
       "\n",
       "                                                        cpv data_publicacao  \\\n",
       "concelho                                                                      \n",
       "Abrantes  Serviços de distribuição de água e serviços co...      2015-02-26   \n",
       "Abrantes                         Cartuchos de tinta (toner)      2010-02-17   \n",
       "Abrantes                         Materiais para canalização      2012-02-08   \n",
       "Abrantes      Serviços recreativos, culturais e desportivos      2012-06-01   \n",
       "Abrantes                                             Sinais      2012-01-06   \n",
       "...                                                     ...             ...   \n",
       "Óbidos    Serviços de distribuição de electricidade e se...      2014-07-28   \n",
       "Óbidos    Serviços de distribuição de electricidade e se...      2014-07-28   \n",
       "Óbidos    Máquinas, equipamento e material de escritório...      2010-05-20   \n",
       "Óbidos                   Equipamento e material informático      2015-10-07   \n",
       "Óbidos                   Equipamento e material informático      2015-10-07   \n",
       "\n",
       "                                                  descricao  \\\n",
       "concelho                                                      \n",
       "Abrantes                                         3400007076   \n",
       "Abrantes      Aquisição de tinteiros para máquina XEROX8265   \n",
       "Abrantes                      Material diverso para armazém   \n",
       "Abrantes  Contrato de Aquisição de serviços na área de a...   \n",
       "Abrantes      Contrato de aquisiçao de sinalização vertical   \n",
       "...                                                     ...   \n",
       "Óbidos    Contrato nº. 20/2014 - Fornecimento de Energia...   \n",
       "Óbidos    Contrato nº. 20/2014 - Fornecimento de Energia...   \n",
       "Óbidos    Fornecimento em contínuo de Consumíveis de Inf...   \n",
       "Óbidos    RED 828_2015 -Fornecimento e Instalação de Har...   \n",
       "Óbidos    RED 828_2015 -Fornecimento e Instalação de Har...   \n",
       "\n",
       "                                              fundamentacao  \\\n",
       "concelho                                                      \n",
       "Abrantes  Artigo 24.º, n.º 1, alínea e) do Código dos Co...   \n",
       "Abrantes  Artigo 20.º, n.º 1, alínea a) do Código dos Co...   \n",
       "Abrantes  Artigo 20.º, n.º 1, alínea a) do Código dos Co...   \n",
       "Abrantes  Artigo 20.º, n.º 1, alínea a) do Código dos Co...   \n",
       "Abrantes  Artigo 20.º, n.º 1, alínea a) do Código dos Co...   \n",
       "...                                                     ...   \n",
       "Óbidos    Artigo 20.º, n.º 1, alínea b) do Código dos Co...   \n",
       "Óbidos    Artigo 20.º, n.º 1, alínea b) do Código dos Co...   \n",
       "Óbidos    Artigo 20.º, n.º 1, alínea a) do Código dos Co...   \n",
       "Óbidos    Artigo 20.º, n.º 1, alínea a) do Código dos Co...   \n",
       "Óbidos    Artigo 20.º, n.º 1, alínea a) do Código dos Co...   \n",
       "\n",
       "            fundamentacao_ajuste_direto  \\\n",
       "concelho                                  \n",
       "Abrantes  ausência de recursos próprios   \n",
       "Abrantes                  Não aplicável   \n",
       "Abrantes  ausência de recursos próprios   \n",
       "Abrantes  ausência de recursos próprios   \n",
       "Abrantes                  Não aplicável   \n",
       "...                                 ...   \n",
       "Óbidos                    Não aplicável   \n",
       "Óbidos                    Não aplicável   \n",
       "Óbidos                    Não aplicável   \n",
       "Óbidos    ausência de recursos próprios   \n",
       "Óbidos    ausência de recursos próprios   \n",
       "\n",
       "                                            objeto_contrato data_contrato  \\\n",
       "concelho                                                                    \n",
       "Abrantes  FORNECIMENTO DE ÁGUA PARA O ACES MÉDIO TEJO - ...    2015-02-25   \n",
       "Abrantes     Aquisição de Tinteiros para máquina XEROX 8265    2010-02-17   \n",
       "Abrantes         Aquisição de material diverso para armazém    2012-02-02   \n",
       "Abrantes  Aquisição de serviços na área de animaçao cult...    2012-05-31   \n",
       "Abrantes      Contrato de aquisiçao de sinalização vertical    2012-01-04   \n",
       "...                                                     ...           ...   \n",
       "Óbidos    Fornecimento de Energia Elétrica para as Insta...    2014-06-17   \n",
       "Óbidos    Fornecimento de Energia Elétrica para as Insta...    2014-06-17   \n",
       "Óbidos    Fornecimento em contínuo de Consumíveis de Inf...    2010-05-20   \n",
       "Óbidos    Fornecimento e Instalação de Hardware (Quiosqu...    2015-09-29   \n",
       "Óbidos    Fornecimento e Instalação de Hardware (Quiosqu...    2015-09-29   \n",
       "\n",
       "          preco_contratual  prazo_execucao  \\\n",
       "concelho                                     \n",
       "Abrantes          41380.85             365   \n",
       "Abrantes           5800.00             300   \n",
       "Abrantes          50552.30              15   \n",
       "Abrantes          13000.08             365   \n",
       "Abrantes          35757.21            1095   \n",
       "...                    ...             ...   \n",
       "Óbidos           192000.00             365   \n",
       "Óbidos           192000.00             365   \n",
       "Óbidos            35000.00             365   \n",
       "Óbidos             6639.00              15   \n",
       "Óbidos             6639.00              15   \n",
       "\n",
       "                                                    anuncio  \\\n",
       "concelho                                                      \n",
       "Abrantes                                                NaN   \n",
       "Abrantes                                                NaN   \n",
       "Abrantes                                                NaN   \n",
       "Abrantes                                                NaN   \n",
       "Abrantes                                                NaN   \n",
       "...                                                     ...   \n",
       "Óbidos    http://www.base.gov.pt/Base/pt/Pesquisa/Anunci...   \n",
       "Óbidos    http://www.base.gov.pt/Base/pt/Pesquisa/Anunci...   \n",
       "Óbidos                                                  NaN   \n",
       "Óbidos                                                  NaN   \n",
       "Óbidos                                                  NaN   \n",
       "\n",
       "         data_fecho_contrato  preco_total_efetivo  \n",
       "concelho                                           \n",
       "Abrantes                 NaN                  NaN  \n",
       "Abrantes                 NaN                  NaN  \n",
       "Abrantes          2012-04-13             50552.30  \n",
       "Abrantes                 NaN                  NaN  \n",
       "Abrantes          2013-01-21             24163.20  \n",
       "...                      ...                  ...  \n",
       "Óbidos                   NaN                  NaN  \n",
       "Óbidos                   NaN                  NaN  \n",
       "Óbidos            2011-12-29             17203.05  \n",
       "Óbidos            2015-09-29              6639.00  \n",
       "Óbidos            2015-09-29              6639.00  \n",
       "\n",
       "[745112 rows x 17 columns]"
      ]
     },
     "execution_count": 101,
     "metadata": {},
     "output_type": "execute_result"
    }
   ],
   "source": [
    "contratos = contratos.set_index('concelho')\n",
    "contratos"
   ]
  },
  {
   "cell_type": "code",
   "execution_count": 103,
   "metadata": {},
   "outputs": [
    {
     "data": {
      "text/plain": [
       "concelho\n",
       "Abrantes    503148776\n",
       "Abrantes    502661038\n",
       "Abrantes    680017542\n",
       "Abrantes    502661038\n",
       "Abrantes    502661038\n",
       "              ...    \n",
       "Óbidos      506802698\n",
       "Óbidos      506802698\n",
       "Óbidos      506802698\n",
       "Óbidos      506802698\n",
       "Óbidos      506802698\n",
       "Name: entidade_adjudicante, Length: 745112, dtype: object"
      ]
     },
     "execution_count": 103,
     "metadata": {},
     "output_type": "execute_result"
    }
   ],
   "source": [
    "entadce = contratos['entidade_adjudicante']\n",
    "entadce"
   ]
  },
  {
   "cell_type": "code",
   "execution_count": 109,
   "metadata": {},
   "outputs": [
    {
     "data": {
      "text/plain": [
       "concelho\n",
       "Abrantes     41380.85\n",
       "Abrantes      5800.00\n",
       "Abrantes     50552.30\n",
       "Abrantes     13000.08\n",
       "Abrantes     35757.21\n",
       "              ...    \n",
       "Óbidos      192000.00\n",
       "Óbidos      192000.00\n",
       "Óbidos       35000.00\n",
       "Óbidos        6639.00\n",
       "Óbidos        6639.00\n",
       "Name: preco_contratual, Length: 745112, dtype: float64"
      ]
     },
     "execution_count": 109,
     "metadata": {},
     "output_type": "execute_result"
    }
   ],
   "source": [
    "preco = contratos['preco_contratual']\n",
    "preco"
   ]
  },
  {
   "cell_type": "code",
   "execution_count": 110,
   "metadata": {},
   "outputs": [
    {
     "data": {
      "text/plain": [
       "concelho\n",
       "Abrantes     41380850.0\n",
       "Abrantes      5800000.0\n",
       "Abrantes     50552300.0\n",
       "Abrantes     13000080.0\n",
       "Abrantes     35757210.0\n",
       "               ...     \n",
       "Óbidos      192000000.0\n",
       "Óbidos      192000000.0\n",
       "Óbidos       35000000.0\n",
       "Óbidos        6639000.0\n",
       "Óbidos        6639000.0\n",
       "Name: preco_contratual, Length: 745112, dtype: float64"
      ]
     },
     "execution_count": 110,
     "metadata": {},
     "output_type": "execute_result"
    }
   ],
   "source": [
    "preco * 1000"
   ]
  },
  {
   "cell_type": "markdown",
   "metadata": {},
   "source": [
    "Uma grande gama de métodos:"
   ]
  },
  {
   "cell_type": "code",
   "execution_count": 111,
   "metadata": {},
   "outputs": [
    {
     "data": {
      "text/plain": [
       "97463.42194963981"
      ]
     },
     "execution_count": 111,
     "metadata": {},
     "output_type": "execute_result"
    }
   ],
   "source": [
    "preco.mean()"
   ]
  },
  {
   "cell_type": "code",
   "execution_count": 112,
   "metadata": {},
   "outputs": [
    {
     "data": {
      "text/plain": [
       "concelho\n",
       "Abrantes     41380.85\n",
       "Abrantes      5800.00\n",
       "Abrantes     50552.30\n",
       "Abrantes     13000.08\n",
       "Abrantes     35757.21\n",
       "              ...    \n",
       "Óbidos      192000.00\n",
       "Óbidos      192000.00\n",
       "Óbidos       35000.00\n",
       "Óbidos        6639.00\n",
       "Óbidos        6639.00\n",
       "Name: preco_contratual, Length: 520151, dtype: float64"
      ]
     },
     "execution_count": 112,
     "metadata": {},
     "output_type": "execute_result"
    }
   ],
   "source": [
    "preco[preco > 5000]"
   ]
  },
  {
   "cell_type": "markdown",
   "metadata": {},
   "source": [
    "But also a lot of pandas specific methods, e.g."
   ]
  },
  {
   "cell_type": "code",
   "execution_count": 113,
   "metadata": {},
   "outputs": [
    {
     "data": {
      "text/plain": [
       "508142156    19230\n",
       "503148776    16536\n",
       "501427511    16195\n",
       "510745997    16000\n",
       "600010686     8804\n",
       "             ...  \n",
       "506724530        1\n",
       "506764508        1\n",
       "512007357        1\n",
       "600084523        1\n",
       "505020408        1\n",
       "Name: entidade_adjudicante, Length: 7883, dtype: int64"
      ]
     },
     "execution_count": 113,
     "metadata": {},
     "output_type": "execute_result"
    }
   ],
   "source": [
    "contratos['entidade_adjudicante'].value_counts()"
   ]
  },
  {
   "cell_type": "markdown",
   "metadata": {},
   "source": [
    "<div class=\"alert alert-success\">\n",
    "\n",
    "<b>EXERCÍCIO</b>:\n",
    "\n",
    " <ul>\n",
    "  <li>Qual o valor do maior contrato? E a mediana?</li>\n",
    "</ul>\n",
    "</div>"
   ]
  },
  {
   "cell_type": "code",
   "execution_count": null,
   "metadata": {
    "clear_cell": true
   },
   "outputs": [],
   "source": []
  },
  {
   "cell_type": "markdown",
   "metadata": {},
   "source": [
    "# 3. Importar e exportar dados"
   ]
  },
  {
   "cell_type": "markdown",
   "metadata": {
    "slideshow": {
     "slide_type": "subslide"
    }
   },
   "source": [
    "Suporte nativo a uma gama muito variada de formatos (input/output):\n",
    "\n",
    "* CSV, text\n",
    "* basee de dados SQL\n",
    "* Excel\n",
    "* HDF5\n",
    "* json\n",
    "* html\n",
    "* pickle\n",
    "* sas, stata\n",
    "* (parquet)\n",
    "* ..."
   ]
  },
  {
   "cell_type": "code",
   "execution_count": null,
   "metadata": {
    "collapsed": true
   },
   "outputs": [],
   "source": [
    "#pd.read"
   ]
  },
  {
   "cell_type": "code",
   "execution_count": null,
   "metadata": {
    "collapsed": true
   },
   "outputs": [],
   "source": [
    "#df.to"
   ]
  },
  {
   "cell_type": "markdown",
   "metadata": {},
   "source": [
    "Leitor csv muito poderoso:"
   ]
  },
  {
   "cell_type": "code",
   "execution_count": 116,
   "metadata": {},
   "outputs": [],
   "source": [
    "pd.read_csv?"
   ]
  },
  {
   "cell_type": "markdown",
   "metadata": {},
   "source": [
    "Se o csv for bem formatado, não são necessários muitos desses argumentos...):"
   ]
  },
  {
   "cell_type": "code",
   "execution_count": 117,
   "metadata": {},
   "outputs": [],
   "source": [
    "df = pd.read_csv(\"dados/titanic.csv\")"
   ]
  },
  {
   "cell_type": "code",
   "execution_count": 119,
   "metadata": {},
   "outputs": [
    {
     "data": {
      "text/html": [
       "<div>\n",
       "<style scoped>\n",
       "    .dataframe tbody tr th:only-of-type {\n",
       "        vertical-align: middle;\n",
       "    }\n",
       "\n",
       "    .dataframe tbody tr th {\n",
       "        vertical-align: top;\n",
       "    }\n",
       "\n",
       "    .dataframe thead th {\n",
       "        text-align: right;\n",
       "    }\n",
       "</style>\n",
       "<table border=\"1\" class=\"dataframe\">\n",
       "  <thead>\n",
       "    <tr style=\"text-align: right;\">\n",
       "      <th></th>\n",
       "      <th>PassengeiroId</th>\n",
       "      <th>Sobrevivente</th>\n",
       "      <th>Classe</th>\n",
       "      <th>Nome</th>\n",
       "      <th>Sexo</th>\n",
       "      <th>Idade</th>\n",
       "      <th>Codigo</th>\n",
       "      <th>Documento</th>\n",
       "      <th>Bilhete</th>\n",
       "      <th>Custo</th>\n",
       "      <th>Cabina</th>\n",
       "      <th>Embarcamento</th>\n",
       "    </tr>\n",
       "  </thead>\n",
       "  <tbody>\n",
       "    <tr>\n",
       "      <th>0</th>\n",
       "      <td>1</td>\n",
       "      <td>0</td>\n",
       "      <td>3</td>\n",
       "      <td>Braund, Mr. Owen Harris</td>\n",
       "      <td>masculino</td>\n",
       "      <td>22.0</td>\n",
       "      <td>1</td>\n",
       "      <td>0</td>\n",
       "      <td>A/5 21171</td>\n",
       "      <td>7.2500</td>\n",
       "      <td>NaN</td>\n",
       "      <td>S</td>\n",
       "    </tr>\n",
       "    <tr>\n",
       "      <th>1</th>\n",
       "      <td>2</td>\n",
       "      <td>1</td>\n",
       "      <td>1</td>\n",
       "      <td>Cumings, Mrs. John Bradley (Florence Briggs Th...</td>\n",
       "      <td>feminino</td>\n",
       "      <td>38.0</td>\n",
       "      <td>1</td>\n",
       "      <td>0</td>\n",
       "      <td>PC 17599</td>\n",
       "      <td>71.2833</td>\n",
       "      <td>C85</td>\n",
       "      <td>C</td>\n",
       "    </tr>\n",
       "  </tbody>\n",
       "</table>\n",
       "</div>"
      ],
      "text/plain": [
       "   PassengeiroId  Sobrevivente  Classe  \\\n",
       "0              1             0       3   \n",
       "1              2             1       1   \n",
       "\n",
       "                                                Nome       Sexo  Idade  \\\n",
       "0                            Braund, Mr. Owen Harris  masculino   22.0   \n",
       "1  Cumings, Mrs. John Bradley (Florence Briggs Th...   feminino   38.0   \n",
       "\n",
       "   Codigo  Documento    Bilhete    Custo Cabina Embarcamento  \n",
       "0       1          0  A/5 21171   7.2500    NaN            S  \n",
       "1       1          0   PC 17599  71.2833    C85            C  "
      ]
     },
     "execution_count": 119,
     "metadata": {},
     "output_type": "execute_result"
    }
   ],
   "source": [
    "df.head(2)"
   ]
  },
  {
   "cell_type": "markdown",
   "metadata": {},
   "source": [
    "<div class=\"alert alert-success\">\n",
    "\n",
    "<b>EXERCÍCIO</b>: tente ler o ficheiro '20000101_20161231-NO2.csv' para uma DataFrame denominada 'no2'\n",
    "<br><br>\n",
    "Alguns considerandos sobre o ficheiro:\n",
    " <ul>\n",
    "  <li>Que separador é utilizado no ficheiro?</li>\n",
    "  <li>A segunda linha inclui informação sobre unidades e não deve ser incluída no carregamento (verifique o argumento 'skiprows')</li>\n",
    "  <li>os dados em falta (missing values) têm a notação'n/d'(verifique o argumento'na_values' )</li>\n",
    "  <li>Pretende fazer a transformação (parse) da coluna 'timestamp' para tipo de dados datetime (verifique o argumento 'parse_dates' )</li>\n",
    "</ul>\n",
    "</div>"
   ]
  },
  {
   "cell_type": "code",
   "execution_count": 120,
   "metadata": {
    "clear_cell": true
   },
   "outputs": [],
   "source": [
    "no2 = pd.read_csv('dados/20000101_20161231-NO2.csv', sep=';', skiprows=[1], na_values=['n/d'], index_col=0, parse_dates=True)"
   ]
  },
  {
   "cell_type": "code",
   "execution_count": 121,
   "metadata": {
    "clear_cell": false
   },
   "outputs": [
    {
     "data": {
      "text/html": [
       "<div>\n",
       "<style scoped>\n",
       "    .dataframe tbody tr th:only-of-type {\n",
       "        vertical-align: middle;\n",
       "    }\n",
       "\n",
       "    .dataframe tbody tr th {\n",
       "        vertical-align: top;\n",
       "    }\n",
       "\n",
       "    .dataframe thead th {\n",
       "        text-align: right;\n",
       "    }\n",
       "</style>\n",
       "<table border=\"1\" class=\"dataframe\">\n",
       "  <thead>\n",
       "    <tr style=\"text-align: right;\">\n",
       "      <th></th>\n",
       "      <th>BASCH</th>\n",
       "      <th>BONAP</th>\n",
       "      <th>PA18</th>\n",
       "      <th>VERS</th>\n",
       "    </tr>\n",
       "    <tr>\n",
       "      <th>timestamp</th>\n",
       "      <th></th>\n",
       "      <th></th>\n",
       "      <th></th>\n",
       "      <th></th>\n",
       "    </tr>\n",
       "  </thead>\n",
       "  <tbody>\n",
       "    <tr>\n",
       "      <th>2000-01-01 01:00:00</th>\n",
       "      <td>108.0</td>\n",
       "      <td>NaN</td>\n",
       "      <td>65.0</td>\n",
       "      <td>47.0</td>\n",
       "    </tr>\n",
       "    <tr>\n",
       "      <th>2000-01-01 02:00:00</th>\n",
       "      <td>104.0</td>\n",
       "      <td>60.0</td>\n",
       "      <td>77.0</td>\n",
       "      <td>42.0</td>\n",
       "    </tr>\n",
       "    <tr>\n",
       "      <th>2000-01-01 03:00:00</th>\n",
       "      <td>97.0</td>\n",
       "      <td>58.0</td>\n",
       "      <td>73.0</td>\n",
       "      <td>34.0</td>\n",
       "    </tr>\n",
       "    <tr>\n",
       "      <th>2000-01-01 04:00:00</th>\n",
       "      <td>77.0</td>\n",
       "      <td>52.0</td>\n",
       "      <td>57.0</td>\n",
       "      <td>29.0</td>\n",
       "    </tr>\n",
       "    <tr>\n",
       "      <th>2000-01-01 05:00:00</th>\n",
       "      <td>79.0</td>\n",
       "      <td>52.0</td>\n",
       "      <td>64.0</td>\n",
       "      <td>28.0</td>\n",
       "    </tr>\n",
       "    <tr>\n",
       "      <th>...</th>\n",
       "      <td>...</td>\n",
       "      <td>...</td>\n",
       "      <td>...</td>\n",
       "      <td>...</td>\n",
       "    </tr>\n",
       "    <tr>\n",
       "      <th>2016-12-31 19:00:00</th>\n",
       "      <td>77.0</td>\n",
       "      <td>49.0</td>\n",
       "      <td>52.0</td>\n",
       "      <td>23.0</td>\n",
       "    </tr>\n",
       "    <tr>\n",
       "      <th>2016-12-31 20:00:00</th>\n",
       "      <td>73.0</td>\n",
       "      <td>51.0</td>\n",
       "      <td>49.0</td>\n",
       "      <td>20.0</td>\n",
       "    </tr>\n",
       "    <tr>\n",
       "      <th>2016-12-31 21:00:00</th>\n",
       "      <td>61.0</td>\n",
       "      <td>51.0</td>\n",
       "      <td>48.0</td>\n",
       "      <td>16.0</td>\n",
       "    </tr>\n",
       "    <tr>\n",
       "      <th>2016-12-31 22:00:00</th>\n",
       "      <td>57.0</td>\n",
       "      <td>49.0</td>\n",
       "      <td>45.0</td>\n",
       "      <td>14.0</td>\n",
       "    </tr>\n",
       "    <tr>\n",
       "      <th>2016-12-31 23:00:00</th>\n",
       "      <td>51.0</td>\n",
       "      <td>47.0</td>\n",
       "      <td>45.0</td>\n",
       "      <td>12.0</td>\n",
       "    </tr>\n",
       "  </tbody>\n",
       "</table>\n",
       "<p>149039 rows × 4 columns</p>\n",
       "</div>"
      ],
      "text/plain": [
       "                     BASCH  BONAP  PA18  VERS\n",
       "timestamp                                    \n",
       "2000-01-01 01:00:00  108.0    NaN  65.0  47.0\n",
       "2000-01-01 02:00:00  104.0   60.0  77.0  42.0\n",
       "2000-01-01 03:00:00   97.0   58.0  73.0  34.0\n",
       "2000-01-01 04:00:00   77.0   52.0  57.0  29.0\n",
       "2000-01-01 05:00:00   79.0   52.0  64.0  28.0\n",
       "...                    ...    ...   ...   ...\n",
       "2016-12-31 19:00:00   77.0   49.0  52.0  23.0\n",
       "2016-12-31 20:00:00   73.0   51.0  49.0  20.0\n",
       "2016-12-31 21:00:00   61.0   51.0  48.0  16.0\n",
       "2016-12-31 22:00:00   57.0   49.0  45.0  14.0\n",
       "2016-12-31 23:00:00   51.0   47.0  45.0  12.0\n",
       "\n",
       "[149039 rows x 4 columns]"
      ]
     },
     "execution_count": 121,
     "metadata": {},
     "output_type": "execute_result"
    }
   ],
   "source": [
    "no2"
   ]
  },
  {
   "cell_type": "markdown",
   "metadata": {},
   "source": [
    "# 4. Exploração"
   ]
  },
  {
   "cell_type": "markdown",
   "metadata": {
    "slideshow": {
     "slide_type": "subslide"
    }
   },
   "source": [
    "Algums métodos úteis:\n",
    "\n",
    "`head` e `tail`"
   ]
  },
  {
   "cell_type": "code",
   "execution_count": 122,
   "metadata": {
    "slideshow": {
     "slide_type": "-"
    }
   },
   "outputs": [
    {
     "data": {
      "text/html": [
       "<div>\n",
       "<style scoped>\n",
       "    .dataframe tbody tr th:only-of-type {\n",
       "        vertical-align: middle;\n",
       "    }\n",
       "\n",
       "    .dataframe tbody tr th {\n",
       "        vertical-align: top;\n",
       "    }\n",
       "\n",
       "    .dataframe thead th {\n",
       "        text-align: right;\n",
       "    }\n",
       "</style>\n",
       "<table border=\"1\" class=\"dataframe\">\n",
       "  <thead>\n",
       "    <tr style=\"text-align: right;\">\n",
       "      <th></th>\n",
       "      <th>BASCH</th>\n",
       "      <th>BONAP</th>\n",
       "      <th>PA18</th>\n",
       "      <th>VERS</th>\n",
       "    </tr>\n",
       "    <tr>\n",
       "      <th>timestamp</th>\n",
       "      <th></th>\n",
       "      <th></th>\n",
       "      <th></th>\n",
       "      <th></th>\n",
       "    </tr>\n",
       "  </thead>\n",
       "  <tbody>\n",
       "    <tr>\n",
       "      <th>2000-01-01 01:00:00</th>\n",
       "      <td>108.0</td>\n",
       "      <td>NaN</td>\n",
       "      <td>65.0</td>\n",
       "      <td>47.0</td>\n",
       "    </tr>\n",
       "    <tr>\n",
       "      <th>2000-01-01 02:00:00</th>\n",
       "      <td>104.0</td>\n",
       "      <td>60.0</td>\n",
       "      <td>77.0</td>\n",
       "      <td>42.0</td>\n",
       "    </tr>\n",
       "    <tr>\n",
       "      <th>2000-01-01 03:00:00</th>\n",
       "      <td>97.0</td>\n",
       "      <td>58.0</td>\n",
       "      <td>73.0</td>\n",
       "      <td>34.0</td>\n",
       "    </tr>\n",
       "  </tbody>\n",
       "</table>\n",
       "</div>"
      ],
      "text/plain": [
       "                     BASCH  BONAP  PA18  VERS\n",
       "timestamp                                    \n",
       "2000-01-01 01:00:00  108.0    NaN  65.0  47.0\n",
       "2000-01-01 02:00:00  104.0   60.0  77.0  42.0\n",
       "2000-01-01 03:00:00   97.0   58.0  73.0  34.0"
      ]
     },
     "execution_count": 122,
     "metadata": {},
     "output_type": "execute_result"
    }
   ],
   "source": [
    "no2.head(3)"
   ]
  },
  {
   "cell_type": "code",
   "execution_count": 123,
   "metadata": {},
   "outputs": [
    {
     "data": {
      "text/html": [
       "<div>\n",
       "<style scoped>\n",
       "    .dataframe tbody tr th:only-of-type {\n",
       "        vertical-align: middle;\n",
       "    }\n",
       "\n",
       "    .dataframe tbody tr th {\n",
       "        vertical-align: top;\n",
       "    }\n",
       "\n",
       "    .dataframe thead th {\n",
       "        text-align: right;\n",
       "    }\n",
       "</style>\n",
       "<table border=\"1\" class=\"dataframe\">\n",
       "  <thead>\n",
       "    <tr style=\"text-align: right;\">\n",
       "      <th></th>\n",
       "      <th>BASCH</th>\n",
       "      <th>BONAP</th>\n",
       "      <th>PA18</th>\n",
       "      <th>VERS</th>\n",
       "    </tr>\n",
       "    <tr>\n",
       "      <th>timestamp</th>\n",
       "      <th></th>\n",
       "      <th></th>\n",
       "      <th></th>\n",
       "      <th></th>\n",
       "    </tr>\n",
       "  </thead>\n",
       "  <tbody>\n",
       "    <tr>\n",
       "      <th>2016-12-31 19:00:00</th>\n",
       "      <td>77.0</td>\n",
       "      <td>49.0</td>\n",
       "      <td>52.0</td>\n",
       "      <td>23.0</td>\n",
       "    </tr>\n",
       "    <tr>\n",
       "      <th>2016-12-31 20:00:00</th>\n",
       "      <td>73.0</td>\n",
       "      <td>51.0</td>\n",
       "      <td>49.0</td>\n",
       "      <td>20.0</td>\n",
       "    </tr>\n",
       "    <tr>\n",
       "      <th>2016-12-31 21:00:00</th>\n",
       "      <td>61.0</td>\n",
       "      <td>51.0</td>\n",
       "      <td>48.0</td>\n",
       "      <td>16.0</td>\n",
       "    </tr>\n",
       "    <tr>\n",
       "      <th>2016-12-31 22:00:00</th>\n",
       "      <td>57.0</td>\n",
       "      <td>49.0</td>\n",
       "      <td>45.0</td>\n",
       "      <td>14.0</td>\n",
       "    </tr>\n",
       "    <tr>\n",
       "      <th>2016-12-31 23:00:00</th>\n",
       "      <td>51.0</td>\n",
       "      <td>47.0</td>\n",
       "      <td>45.0</td>\n",
       "      <td>12.0</td>\n",
       "    </tr>\n",
       "  </tbody>\n",
       "</table>\n",
       "</div>"
      ],
      "text/plain": [
       "                     BASCH  BONAP  PA18  VERS\n",
       "timestamp                                    \n",
       "2016-12-31 19:00:00   77.0   49.0  52.0  23.0\n",
       "2016-12-31 20:00:00   73.0   51.0  49.0  20.0\n",
       "2016-12-31 21:00:00   61.0   51.0  48.0  16.0\n",
       "2016-12-31 22:00:00   57.0   49.0  45.0  14.0\n",
       "2016-12-31 23:00:00   51.0   47.0  45.0  12.0"
      ]
     },
     "execution_count": 123,
     "metadata": {},
     "output_type": "execute_result"
    }
   ],
   "source": [
    "no2.tail()"
   ]
  },
  {
   "cell_type": "markdown",
   "metadata": {
    "slideshow": {
     "slide_type": "subslide"
    }
   },
   "source": [
    "`info()`"
   ]
  },
  {
   "cell_type": "code",
   "execution_count": 124,
   "metadata": {},
   "outputs": [
    {
     "name": "stdout",
     "output_type": "stream",
     "text": [
      "<class 'pandas.core.frame.DataFrame'>\n",
      "DatetimeIndex: 149039 entries, 2000-01-01 01:00:00 to 2016-12-31 23:00:00\n",
      "Data columns (total 4 columns):\n",
      "BASCH    139949 non-null float64\n",
      "BONAP    136493 non-null float64\n",
      "PA18     142259 non-null float64\n",
      "VERS     143813 non-null float64\n",
      "dtypes: float64(4)\n",
      "memory usage: 5.7 MB\n"
     ]
    }
   ],
   "source": [
    "no2.info()"
   ]
  },
  {
   "cell_type": "markdown",
   "metadata": {
    "collapsed": true,
    "slideshow": {
     "slide_type": "subslide"
    }
   },
   "source": [
    "Obter um sumário básico das estatísticas com `describe`:"
   ]
  },
  {
   "cell_type": "code",
   "execution_count": 129,
   "metadata": {},
   "outputs": [
    {
     "data": {
      "text/html": [
       "<div>\n",
       "<style scoped>\n",
       "    .dataframe tbody tr th:only-of-type {\n",
       "        vertical-align: middle;\n",
       "    }\n",
       "\n",
       "    .dataframe tbody tr th {\n",
       "        vertical-align: top;\n",
       "    }\n",
       "\n",
       "    .dataframe thead th {\n",
       "        text-align: right;\n",
       "    }\n",
       "</style>\n",
       "<table border=\"1\" class=\"dataframe\">\n",
       "  <thead>\n",
       "    <tr style=\"text-align: right;\">\n",
       "      <th></th>\n",
       "      <th>BASCH</th>\n",
       "      <th>BONAP</th>\n",
       "      <th>PA18</th>\n",
       "      <th>VERS</th>\n",
       "    </tr>\n",
       "  </thead>\n",
       "  <tbody>\n",
       "    <tr>\n",
       "      <th>count</th>\n",
       "      <td>139949.000000</td>\n",
       "      <td>136493.000000</td>\n",
       "      <td>142259.000000</td>\n",
       "      <td>143813.000000</td>\n",
       "    </tr>\n",
       "    <tr>\n",
       "      <th>mean</th>\n",
       "      <td>89.270098</td>\n",
       "      <td>64.001714</td>\n",
       "      <td>45.104211</td>\n",
       "      <td>27.613227</td>\n",
       "    </tr>\n",
       "    <tr>\n",
       "      <th>std</th>\n",
       "      <td>36.772855</td>\n",
       "      <td>27.866767</td>\n",
       "      <td>23.212719</td>\n",
       "      <td>19.604953</td>\n",
       "    </tr>\n",
       "    <tr>\n",
       "      <th>min</th>\n",
       "      <td>4.000000</td>\n",
       "      <td>0.000000</td>\n",
       "      <td>2.000000</td>\n",
       "      <td>0.000000</td>\n",
       "    </tr>\n",
       "    <tr>\n",
       "      <th>25%</th>\n",
       "      <td>63.000000</td>\n",
       "      <td>44.000000</td>\n",
       "      <td>28.000000</td>\n",
       "      <td>13.000000</td>\n",
       "    </tr>\n",
       "    <tr>\n",
       "      <th>50%</th>\n",
       "      <td>87.000000</td>\n",
       "      <td>62.000000</td>\n",
       "      <td>42.000000</td>\n",
       "      <td>22.000000</td>\n",
       "    </tr>\n",
       "    <tr>\n",
       "      <th>75%</th>\n",
       "      <td>112.000000</td>\n",
       "      <td>81.000000</td>\n",
       "      <td>59.000000</td>\n",
       "      <td>38.000000</td>\n",
       "    </tr>\n",
       "    <tr>\n",
       "      <th>max</th>\n",
       "      <td>358.000000</td>\n",
       "      <td>345.000000</td>\n",
       "      <td>306.000000</td>\n",
       "      <td>197.000000</td>\n",
       "    </tr>\n",
       "  </tbody>\n",
       "</table>\n",
       "</div>"
      ],
      "text/plain": [
       "               BASCH          BONAP           PA18           VERS\n",
       "count  139949.000000  136493.000000  142259.000000  143813.000000\n",
       "mean       89.270098      64.001714      45.104211      27.613227\n",
       "std        36.772855      27.866767      23.212719      19.604953\n",
       "min         4.000000       0.000000       2.000000       0.000000\n",
       "25%        63.000000      44.000000      28.000000      13.000000\n",
       "50%        87.000000      62.000000      42.000000      22.000000\n",
       "75%       112.000000      81.000000      59.000000      38.000000\n",
       "max       358.000000     345.000000     306.000000     197.000000"
      ]
     },
     "execution_count": 129,
     "metadata": {},
     "output_type": "execute_result"
    }
   ],
   "source": [
    "no2.describe()"
   ]
  },
  {
   "cell_type": "markdown",
   "metadata": {
    "slideshow": {
     "slide_type": "subslide"
    }
   },
   "source": [
    "Visualização rápida dos dados:"
   ]
  },
  {
   "cell_type": "code",
   "execution_count": 126,
   "metadata": {
    "slideshow": {
     "slide_type": "-"
    }
   },
   "outputs": [
    {
     "data": {
      "text/plain": [
       "<matplotlib.axes._subplots.AxesSubplot at 0x11ddd4630>"
      ]
     },
     "execution_count": 126,
     "metadata": {},
     "output_type": "execute_result"
    },
    {
     "data": {
      "image/png": "[encoded data removed]",
      "text/plain": [
       "<Figure size 432x288 with 1 Axes>"
      ]
     },
     "metadata": {
      "needs_background": "light"
     },
     "output_type": "display_data"
    }
   ],
   "source": [
    "no2.plot(kind='box', ylim=[0,250])"
   ]
  },
  {
   "cell_type": "code",
   "execution_count": 127,
   "metadata": {
    "slideshow": {
     "slide_type": "subslide"
    }
   },
   "outputs": [
    {
     "data": {
      "text/plain": [
       "<matplotlib.axes._subplots.AxesSubplot at 0x121383518>"
      ]
     },
     "execution_count": 127,
     "metadata": {},
     "output_type": "execute_result"
    },
    {
     "data": {
      "image/png": "[encoded data removed]",
      "text/plain": [
       "<Figure size 432x288 with 1 Axes>"
      ]
     },
     "metadata": {
      "needs_background": "light"
     },
     "output_type": "display_data"
    }
   ],
   "source": [
    "no2['BASCH'].plot(kind='hist', bins=50)"
   ]
  },
  {
   "cell_type": "markdown",
   "metadata": {},
   "source": [
    "<div class=\"alert alert-success\">\n",
    "\n",
    "<b>EXERCÍCIO</b>: \n",
    "\n",
    " <ul>\n",
    "  <li>Apresente o histograma das idades dos passageiros do titanic</li>\n",
    "</ul>\n",
    "</div>"
   ]
  },
  {
   "cell_type": "code",
   "execution_count": null,
   "metadata": {
    "clear_cell": true
   },
   "outputs": [],
   "source": []
  },
  {
   "cell_type": "raw",
   "metadata": {},
   "source": [
    "O gráfico por defeito (quando não se especifica `kind`) é um gráfico de linhas de todas as colunas:"
   ]
  },
  {
   "cell_type": "code",
   "execution_count": 128,
   "metadata": {
    "slideshow": {
     "slide_type": "subslide"
    }
   },
   "outputs": [
    {
     "data": {
      "text/plain": [
       "<matplotlib.axes._subplots.AxesSubplot at 0x11863ce10>"
      ]
     },
     "execution_count": 128,
     "metadata": {},
     "output_type": "execute_result"
    },
    {
     "data": {
      "image/png": "[encoded data removed]",
      "text/plain": [
       "<Figure size 864x432 with 1 Axes>"
      ]
     },
     "metadata": {
      "needs_background": "light"
     },
     "output_type": "display_data"
    }
   ],
   "source": [
    "no2.plot(figsize=(12,6))"
   ]
  },
  {
   "cell_type": "markdown",
   "metadata": {},
   "source": [
    "Isto não diz muito..."
   ]
  },
  {
   "cell_type": "markdown",
   "metadata": {
    "slideshow": {
     "slide_type": "subslide"
    }
   },
   "source": [
    "Poderá selecionar parte dos dados (p.ex. os últimos 500 pontos):"
   ]
  },
  {
   "cell_type": "code",
   "execution_count": 132,
   "metadata": {},
   "outputs": [
    {
     "data": {
      "text/plain": [
       "<matplotlib.axes._subplots.AxesSubplot at 0x1201f17b8>"
      ]
     },
     "execution_count": 132,
     "metadata": {},
     "output_type": "execute_result"
    },
    {
     "data": {
      "image/png": "[encoded data removed]",
      "text/plain": [
       "<Figure size 864x432 with 1 Axes>"
      ]
     },
     "metadata": {
      "needs_background": "light"
     },
     "output_type": "display_data"
    }
   ],
   "source": [
    "no2[-500:].plot(figsize=(12,6))"
   ]
  },
  {
   "cell_type": "markdown",
   "metadata": {},
   "source": [
    "# 5. Selecionar e filtrar dados"
   ]
  },
  {
   "cell_type": "markdown",
   "metadata": {},
   "source": [
    "<div class=\"alert alert-warning\">\n",
    "<b>ATENÇÃO!</b>: <br><br>\n",
    "\n",
    "Uma das One of pandas' basic features is the labeling of rows and columns, but this makes indexing also a bit more complex compared to numpy. <br><br> We now have to distuinguish between:\n",
    "\n",
    " <ul>\n",
    "  <li>selection by **label**</li>\n",
    "  <li>selection by **position**</li>\n",
    "</ul>\n",
    "</div>"
   ]
  },
  {
   "cell_type": "code",
   "execution_count": 134,
   "metadata": {},
   "outputs": [],
   "source": [
    "df = pd.read_csv(\"titanic.csv\")"
   ]
  },
  {
   "cell_type": "markdown",
   "metadata": {},
   "source": [
    "### `df[]` providencia alguns atalhos convenientes "
   ]
  },
  {
   "cell_type": "markdown",
   "metadata": {
    "slideshow": {
     "slide_type": "subslide"
    }
   },
   "source": [
    "Para um DataFrame, basic indexação básica seleciona as colunas.\n",
    "\n",
    "Seleção de uma única coluna:"
   ]
  },
  {
   "cell_type": "code",
   "execution_count": 136,
   "metadata": {},
   "outputs": [
    {
     "data": {
      "text/plain": [
       "0      22.0\n",
       "1      38.0\n",
       "2      26.0\n",
       "3      35.0\n",
       "4      35.0\n",
       "       ... \n",
       "886    27.0\n",
       "887    19.0\n",
       "888     NaN\n",
       "889    26.0\n",
       "890    32.0\n",
       "Name: Idade, Length: 891, dtype: float64"
      ]
     },
     "execution_count": 136,
     "metadata": {},
     "output_type": "execute_result"
    }
   ],
   "source": [
    "df['Idade']"
   ]
  },
  {
   "cell_type": "markdown",
   "metadata": {
    "slideshow": {
     "slide_type": "subslide"
    }
   },
   "source": [
    "ou multiplas colunas:"
   ]
  },
  {
   "cell_type": "code",
   "execution_count": 139,
   "metadata": {},
   "outputs": [
    {
     "data": {
      "text/html": [
       "<div>\n",
       "<style scoped>\n",
       "    .dataframe tbody tr th:only-of-type {\n",
       "        vertical-align: middle;\n",
       "    }\n",
       "\n",
       "    .dataframe tbody tr th {\n",
       "        vertical-align: top;\n",
       "    }\n",
       "\n",
       "    .dataframe thead th {\n",
       "        text-align: right;\n",
       "    }\n",
       "</style>\n",
       "<table border=\"1\" class=\"dataframe\">\n",
       "  <thead>\n",
       "    <tr style=\"text-align: right;\">\n",
       "      <th></th>\n",
       "      <th>Idade</th>\n",
       "      <th>Custo</th>\n",
       "    </tr>\n",
       "  </thead>\n",
       "  <tbody>\n",
       "    <tr>\n",
       "      <th>0</th>\n",
       "      <td>22.0</td>\n",
       "      <td>7.2500</td>\n",
       "    </tr>\n",
       "    <tr>\n",
       "      <th>1</th>\n",
       "      <td>38.0</td>\n",
       "      <td>71.2833</td>\n",
       "    </tr>\n",
       "    <tr>\n",
       "      <th>2</th>\n",
       "      <td>26.0</td>\n",
       "      <td>7.9250</td>\n",
       "    </tr>\n",
       "    <tr>\n",
       "      <th>3</th>\n",
       "      <td>35.0</td>\n",
       "      <td>53.1000</td>\n",
       "    </tr>\n",
       "    <tr>\n",
       "      <th>4</th>\n",
       "      <td>35.0</td>\n",
       "      <td>8.0500</td>\n",
       "    </tr>\n",
       "    <tr>\n",
       "      <th>...</th>\n",
       "      <td>...</td>\n",
       "      <td>...</td>\n",
       "    </tr>\n",
       "    <tr>\n",
       "      <th>886</th>\n",
       "      <td>27.0</td>\n",
       "      <td>13.0000</td>\n",
       "    </tr>\n",
       "    <tr>\n",
       "      <th>887</th>\n",
       "      <td>19.0</td>\n",
       "      <td>30.0000</td>\n",
       "    </tr>\n",
       "    <tr>\n",
       "      <th>888</th>\n",
       "      <td>NaN</td>\n",
       "      <td>23.4500</td>\n",
       "    </tr>\n",
       "    <tr>\n",
       "      <th>889</th>\n",
       "      <td>26.0</td>\n",
       "      <td>30.0000</td>\n",
       "    </tr>\n",
       "    <tr>\n",
       "      <th>890</th>\n",
       "      <td>32.0</td>\n",
       "      <td>7.7500</td>\n",
       "    </tr>\n",
       "  </tbody>\n",
       "</table>\n",
       "<p>891 rows × 2 columns</p>\n",
       "</div>"
      ],
      "text/plain": [
       "     Idade    Custo\n",
       "0     22.0   7.2500\n",
       "1     38.0  71.2833\n",
       "2     26.0   7.9250\n",
       "3     35.0  53.1000\n",
       "4     35.0   8.0500\n",
       "..     ...      ...\n",
       "886   27.0  13.0000\n",
       "887   19.0  30.0000\n",
       "888    NaN  23.4500\n",
       "889   26.0  30.0000\n",
       "890   32.0   7.7500\n",
       "\n",
       "[891 rows x 2 columns]"
      ]
     },
     "execution_count": 139,
     "metadata": {},
     "output_type": "execute_result"
    }
   ],
   "source": [
    "df[['Idade', 'Custo']]"
   ]
  },
  {
   "cell_type": "markdown",
   "metadata": {
    "slideshow": {
     "slide_type": "subslide"
    }
   },
   "source": [
    "Mas, \"slicing\" acede às linhas:"
   ]
  },
  {
   "cell_type": "code",
   "execution_count": 140,
   "metadata": {},
   "outputs": [
    {
     "data": {
      "text/html": [
       "<div>\n",
       "<style scoped>\n",
       "    .dataframe tbody tr th:only-of-type {\n",
       "        vertical-align: middle;\n",
       "    }\n",
       "\n",
       "    .dataframe tbody tr th {\n",
       "        vertical-align: top;\n",
       "    }\n",
       "\n",
       "    .dataframe thead th {\n",
       "        text-align: right;\n",
       "    }\n",
       "</style>\n",
       "<table border=\"1\" class=\"dataframe\">\n",
       "  <thead>\n",
       "    <tr style=\"text-align: right;\">\n",
       "      <th></th>\n",
       "      <th>PassengeiroId</th>\n",
       "      <th>Sobrevivente</th>\n",
       "      <th>Classe</th>\n",
       "      <th>Nome</th>\n",
       "      <th>Sexo</th>\n",
       "      <th>Idade</th>\n",
       "      <th>Codigo</th>\n",
       "      <th>Documento</th>\n",
       "      <th>Bilhete</th>\n",
       "      <th>Custo</th>\n",
       "      <th>Cabina</th>\n",
       "      <th>Embarcamento</th>\n",
       "    </tr>\n",
       "  </thead>\n",
       "  <tbody>\n",
       "    <tr>\n",
       "      <th>10</th>\n",
       "      <td>11</td>\n",
       "      <td>1</td>\n",
       "      <td>3</td>\n",
       "      <td>Sandstrom, Miss. Marguerite Rut</td>\n",
       "      <td>feminino</td>\n",
       "      <td>4.0</td>\n",
       "      <td>1</td>\n",
       "      <td>1</td>\n",
       "      <td>PP 9549</td>\n",
       "      <td>16.7000</td>\n",
       "      <td>G6</td>\n",
       "      <td>S</td>\n",
       "    </tr>\n",
       "    <tr>\n",
       "      <th>11</th>\n",
       "      <td>12</td>\n",
       "      <td>1</td>\n",
       "      <td>1</td>\n",
       "      <td>Bonnell, Miss. Elizabeth</td>\n",
       "      <td>feminino</td>\n",
       "      <td>58.0</td>\n",
       "      <td>0</td>\n",
       "      <td>0</td>\n",
       "      <td>113783</td>\n",
       "      <td>26.5500</td>\n",
       "      <td>C103</td>\n",
       "      <td>S</td>\n",
       "    </tr>\n",
       "    <tr>\n",
       "      <th>12</th>\n",
       "      <td>13</td>\n",
       "      <td>0</td>\n",
       "      <td>3</td>\n",
       "      <td>Saundercock, Mr. William Henry</td>\n",
       "      <td>masculino</td>\n",
       "      <td>20.0</td>\n",
       "      <td>0</td>\n",
       "      <td>0</td>\n",
       "      <td>A/5. 2151</td>\n",
       "      <td>8.0500</td>\n",
       "      <td>NaN</td>\n",
       "      <td>S</td>\n",
       "    </tr>\n",
       "    <tr>\n",
       "      <th>13</th>\n",
       "      <td>14</td>\n",
       "      <td>0</td>\n",
       "      <td>3</td>\n",
       "      <td>Andersson, Mr. Anders Johan</td>\n",
       "      <td>masculino</td>\n",
       "      <td>39.0</td>\n",
       "      <td>1</td>\n",
       "      <td>5</td>\n",
       "      <td>347082</td>\n",
       "      <td>31.2750</td>\n",
       "      <td>NaN</td>\n",
       "      <td>S</td>\n",
       "    </tr>\n",
       "    <tr>\n",
       "      <th>14</th>\n",
       "      <td>15</td>\n",
       "      <td>0</td>\n",
       "      <td>3</td>\n",
       "      <td>Vestrom, Miss. Hulda Amanda Adolfina</td>\n",
       "      <td>feminino</td>\n",
       "      <td>14.0</td>\n",
       "      <td>0</td>\n",
       "      <td>0</td>\n",
       "      <td>350406</td>\n",
       "      <td>7.8542</td>\n",
       "      <td>NaN</td>\n",
       "      <td>S</td>\n",
       "    </tr>\n",
       "  </tbody>\n",
       "</table>\n",
       "</div>"
      ],
      "text/plain": [
       "    PassengeiroId  Sobrevivente  Classe                                  Nome  \\\n",
       "10             11             1       3       Sandstrom, Miss. Marguerite Rut   \n",
       "11             12             1       1              Bonnell, Miss. Elizabeth   \n",
       "12             13             0       3        Saundercock, Mr. William Henry   \n",
       "13             14             0       3           Andersson, Mr. Anders Johan   \n",
       "14             15             0       3  Vestrom, Miss. Hulda Amanda Adolfina   \n",
       "\n",
       "         Sexo  Idade  Codigo  Documento    Bilhete    Custo Cabina  \\\n",
       "10   feminino    4.0       1          1    PP 9549  16.7000     G6   \n",
       "11   feminino   58.0       0          0     113783  26.5500   C103   \n",
       "12  masculino   20.0       0          0  A/5. 2151   8.0500    NaN   \n",
       "13  masculino   39.0       1          5     347082  31.2750    NaN   \n",
       "14   feminino   14.0       0          0     350406   7.8542    NaN   \n",
       "\n",
       "   Embarcamento  \n",
       "10            S  \n",
       "11            S  \n",
       "12            S  \n",
       "13            S  \n",
       "14            S  "
      ]
     },
     "execution_count": 140,
     "metadata": {},
     "output_type": "execute_result"
    }
   ],
   "source": [
    "df[10:15]"
   ]
  },
  {
   "cell_type": "markdown",
   "metadata": {
    "slideshow": {
     "slide_type": "subslide"
    }
   },
   "source": [
    "### Indexação sistemática com  `loc` e `iloc`\n",
    "\n",
    "Quando se utiliza `[]` como acima só poderá selecionar a partir de um eixo de cada vez (linhas ou colunas, não ambas). Para indexação mais avançada, é necessário utilizae outros métodos:\n",
    "    \n",
    "* `loc`: seleção por etiqueta\n",
    "* `iloc`: seleção by posição"
   ]
  },
  {
   "cell_type": "code",
   "execution_count": 144,
   "metadata": {},
   "outputs": [],
   "source": [
    "df = df.set_index('Nome')"
   ]
  },
  {
   "cell_type": "code",
   "execution_count": 146,
   "metadata": {},
   "outputs": [
    {
     "data": {
      "text/plain": [
       "26.55"
      ]
     },
     "execution_count": 146,
     "metadata": {},
     "output_type": "execute_result"
    }
   ],
   "source": [
    "df.loc['Bonnell, Miss. Elizabeth', 'Custo']"
   ]
  },
  {
   "cell_type": "code",
   "execution_count": 147,
   "metadata": {
    "scrolled": true
   },
   "outputs": [
    {
     "data": {
      "text/html": [
       "<div>\n",
       "<style scoped>\n",
       "    .dataframe tbody tr th:only-of-type {\n",
       "        vertical-align: middle;\n",
       "    }\n",
       "\n",
       "    .dataframe tbody tr th {\n",
       "        vertical-align: top;\n",
       "    }\n",
       "\n",
       "    .dataframe thead th {\n",
       "        text-align: right;\n",
       "    }\n",
       "</style>\n",
       "<table border=\"1\" class=\"dataframe\">\n",
       "  <thead>\n",
       "    <tr style=\"text-align: right;\">\n",
       "      <th></th>\n",
       "      <th>PassengeiroId</th>\n",
       "      <th>Sobrevivente</th>\n",
       "      <th>Classe</th>\n",
       "      <th>Sexo</th>\n",
       "      <th>Idade</th>\n",
       "      <th>Codigo</th>\n",
       "      <th>Documento</th>\n",
       "      <th>Bilhete</th>\n",
       "      <th>Custo</th>\n",
       "      <th>Cabina</th>\n",
       "      <th>Embarcamento</th>\n",
       "    </tr>\n",
       "    <tr>\n",
       "      <th>Nome</th>\n",
       "      <th></th>\n",
       "      <th></th>\n",
       "      <th></th>\n",
       "      <th></th>\n",
       "      <th></th>\n",
       "      <th></th>\n",
       "      <th></th>\n",
       "      <th></th>\n",
       "      <th></th>\n",
       "      <th></th>\n",
       "      <th></th>\n",
       "    </tr>\n",
       "  </thead>\n",
       "  <tbody>\n",
       "    <tr>\n",
       "      <th>Bonnell, Miss. Elizabeth</th>\n",
       "      <td>12</td>\n",
       "      <td>1</td>\n",
       "      <td>1</td>\n",
       "      <td>feminino</td>\n",
       "      <td>58.0</td>\n",
       "      <td>0</td>\n",
       "      <td>0</td>\n",
       "      <td>113783</td>\n",
       "      <td>26.550</td>\n",
       "      <td>C103</td>\n",
       "      <td>S</td>\n",
       "    </tr>\n",
       "    <tr>\n",
       "      <th>Saundercock, Mr. William Henry</th>\n",
       "      <td>13</td>\n",
       "      <td>0</td>\n",
       "      <td>3</td>\n",
       "      <td>masculino</td>\n",
       "      <td>20.0</td>\n",
       "      <td>0</td>\n",
       "      <td>0</td>\n",
       "      <td>A/5. 2151</td>\n",
       "      <td>8.050</td>\n",
       "      <td>NaN</td>\n",
       "      <td>S</td>\n",
       "    </tr>\n",
       "    <tr>\n",
       "      <th>Andersson, Mr. Anders Johan</th>\n",
       "      <td>14</td>\n",
       "      <td>0</td>\n",
       "      <td>3</td>\n",
       "      <td>masculino</td>\n",
       "      <td>39.0</td>\n",
       "      <td>1</td>\n",
       "      <td>5</td>\n",
       "      <td>347082</td>\n",
       "      <td>31.275</td>\n",
       "      <td>NaN</td>\n",
       "      <td>S</td>\n",
       "    </tr>\n",
       "  </tbody>\n",
       "</table>\n",
       "</div>"
      ],
      "text/plain": [
       "                                PassengeiroId  Sobrevivente  Classe  \\\n",
       "Nome                                                                  \n",
       "Bonnell, Miss. Elizabeth                   12             1       1   \n",
       "Saundercock, Mr. William Henry             13             0       3   \n",
       "Andersson, Mr. Anders Johan                14             0       3   \n",
       "\n",
       "                                     Sexo  Idade  Codigo  Documento  \\\n",
       "Nome                                                                  \n",
       "Bonnell, Miss. Elizabeth         feminino   58.0       0          0   \n",
       "Saundercock, Mr. William Henry  masculino   20.0       0          0   \n",
       "Andersson, Mr. Anders Johan     masculino   39.0       1          5   \n",
       "\n",
       "                                  Bilhete   Custo Cabina Embarcamento  \n",
       "Nome                                                                   \n",
       "Bonnell, Miss. Elizabeth           113783  26.550   C103            S  \n",
       "Saundercock, Mr. William Henry  A/5. 2151   8.050    NaN            S  \n",
       "Andersson, Mr. Anders Johan        347082  31.275    NaN            S  "
      ]
     },
     "execution_count": 147,
     "metadata": {},
     "output_type": "execute_result"
    }
   ],
   "source": [
    "df.loc['Bonnell, Miss. Elizabeth':'Andersson, Mr. Anders Johan', :]"
   ]
  },
  {
   "cell_type": "markdown",
   "metadata": {
    "slideshow": {
     "slide_type": "subslide"
    }
   },
   "source": [
    "Selecionando por posição com  `iloc` funciona de forma similar à indexação em arrays numpy :"
   ]
  },
  {
   "cell_type": "code",
   "execution_count": 148,
   "metadata": {},
   "outputs": [
    {
     "data": {
      "text/html": [
       "<div>\n",
       "<style scoped>\n",
       "    .dataframe tbody tr th:only-of-type {\n",
       "        vertical-align: middle;\n",
       "    }\n",
       "\n",
       "    .dataframe tbody tr th {\n",
       "        vertical-align: top;\n",
       "    }\n",
       "\n",
       "    .dataframe thead th {\n",
       "        text-align: right;\n",
       "    }\n",
       "</style>\n",
       "<table border=\"1\" class=\"dataframe\">\n",
       "  <thead>\n",
       "    <tr style=\"text-align: right;\">\n",
       "      <th></th>\n",
       "      <th>Sobrevivente</th>\n",
       "      <th>Classe</th>\n",
       "    </tr>\n",
       "    <tr>\n",
       "      <th>Nome</th>\n",
       "      <th></th>\n",
       "      <th></th>\n",
       "    </tr>\n",
       "  </thead>\n",
       "  <tbody>\n",
       "    <tr>\n",
       "      <th>Braund, Mr. Owen Harris</th>\n",
       "      <td>0</td>\n",
       "      <td>3</td>\n",
       "    </tr>\n",
       "    <tr>\n",
       "      <th>Cumings, Mrs. John Bradley (Florence Briggs Thayer)</th>\n",
       "      <td>1</td>\n",
       "      <td>1</td>\n",
       "    </tr>\n",
       "  </tbody>\n",
       "</table>\n",
       "</div>"
      ],
      "text/plain": [
       "                                                    Sobrevivente  Classe\n",
       "Nome                                                                    \n",
       "Braund, Mr. Owen Harris                                        0       3\n",
       "Cumings, Mrs. John Bradley (Florence Briggs Tha...             1       1"
      ]
     },
     "execution_count": 148,
     "metadata": {},
     "output_type": "execute_result"
    }
   ],
   "source": [
    "df.iloc[0:2,1:3]"
   ]
  },
  {
   "cell_type": "markdown",
   "metadata": {
    "slideshow": {
     "slide_type": "subslide"
    }
   },
   "source": [
    "Estes métodos também podem ser utilizados para alterar/atribuir valores:"
   ]
  },
  {
   "cell_type": "code",
   "execution_count": 152,
   "metadata": {},
   "outputs": [],
   "source": [
    "df.loc['Braund, Mr. Owen Harris', 'Sobrevivente'] = 100"
   ]
  },
  {
   "cell_type": "code",
   "execution_count": 153,
   "metadata": {},
   "outputs": [
    {
     "data": {
      "text/html": [
       "<div>\n",
       "<style scoped>\n",
       "    .dataframe tbody tr th:only-of-type {\n",
       "        vertical-align: middle;\n",
       "    }\n",
       "\n",
       "    .dataframe tbody tr th {\n",
       "        vertical-align: top;\n",
       "    }\n",
       "\n",
       "    .dataframe thead th {\n",
       "        text-align: right;\n",
       "    }\n",
       "</style>\n",
       "<table border=\"1\" class=\"dataframe\">\n",
       "  <thead>\n",
       "    <tr style=\"text-align: right;\">\n",
       "      <th></th>\n",
       "      <th>PassengeiroId</th>\n",
       "      <th>Sobrevivente</th>\n",
       "      <th>Classe</th>\n",
       "      <th>Sexo</th>\n",
       "      <th>Idade</th>\n",
       "      <th>Codigo</th>\n",
       "      <th>Documento</th>\n",
       "      <th>Bilhete</th>\n",
       "      <th>Custo</th>\n",
       "      <th>Cabina</th>\n",
       "      <th>Embarcamento</th>\n",
       "      <th>Survived</th>\n",
       "    </tr>\n",
       "    <tr>\n",
       "      <th>Nome</th>\n",
       "      <th></th>\n",
       "      <th></th>\n",
       "      <th></th>\n",
       "      <th></th>\n",
       "      <th></th>\n",
       "      <th></th>\n",
       "      <th></th>\n",
       "      <th></th>\n",
       "      <th></th>\n",
       "      <th></th>\n",
       "      <th></th>\n",
       "      <th></th>\n",
       "    </tr>\n",
       "  </thead>\n",
       "  <tbody>\n",
       "    <tr>\n",
       "      <th>Braund, Mr. Owen Harris</th>\n",
       "      <td>1</td>\n",
       "      <td>100</td>\n",
       "      <td>3</td>\n",
       "      <td>masculino</td>\n",
       "      <td>22.0</td>\n",
       "      <td>1</td>\n",
       "      <td>0</td>\n",
       "      <td>A/5 21171</td>\n",
       "      <td>7.2500</td>\n",
       "      <td>NaN</td>\n",
       "      <td>S</td>\n",
       "      <td>100.0</td>\n",
       "    </tr>\n",
       "    <tr>\n",
       "      <th>Cumings, Mrs. John Bradley (Florence Briggs Thayer)</th>\n",
       "      <td>2</td>\n",
       "      <td>1</td>\n",
       "      <td>1</td>\n",
       "      <td>feminino</td>\n",
       "      <td>38.0</td>\n",
       "      <td>1</td>\n",
       "      <td>0</td>\n",
       "      <td>PC 17599</td>\n",
       "      <td>71.2833</td>\n",
       "      <td>C85</td>\n",
       "      <td>C</td>\n",
       "      <td>NaN</td>\n",
       "    </tr>\n",
       "    <tr>\n",
       "      <th>Heikkinen, Miss. Laina</th>\n",
       "      <td>3</td>\n",
       "      <td>1</td>\n",
       "      <td>3</td>\n",
       "      <td>feminino</td>\n",
       "      <td>26.0</td>\n",
       "      <td>0</td>\n",
       "      <td>0</td>\n",
       "      <td>STON/O2. 3101282</td>\n",
       "      <td>7.9250</td>\n",
       "      <td>NaN</td>\n",
       "      <td>S</td>\n",
       "      <td>NaN</td>\n",
       "    </tr>\n",
       "    <tr>\n",
       "      <th>Futrelle, Mrs. Jacques Heath (Lily May Peel)</th>\n",
       "      <td>4</td>\n",
       "      <td>1</td>\n",
       "      <td>1</td>\n",
       "      <td>feminino</td>\n",
       "      <td>35.0</td>\n",
       "      <td>1</td>\n",
       "      <td>0</td>\n",
       "      <td>113803</td>\n",
       "      <td>53.1000</td>\n",
       "      <td>C123</td>\n",
       "      <td>S</td>\n",
       "      <td>NaN</td>\n",
       "    </tr>\n",
       "    <tr>\n",
       "      <th>Allen, Mr. William Henry</th>\n",
       "      <td>5</td>\n",
       "      <td>0</td>\n",
       "      <td>3</td>\n",
       "      <td>masculino</td>\n",
       "      <td>35.0</td>\n",
       "      <td>0</td>\n",
       "      <td>0</td>\n",
       "      <td>373450</td>\n",
       "      <td>8.0500</td>\n",
       "      <td>NaN</td>\n",
       "      <td>S</td>\n",
       "      <td>NaN</td>\n",
       "    </tr>\n",
       "    <tr>\n",
       "      <th>...</th>\n",
       "      <td>...</td>\n",
       "      <td>...</td>\n",
       "      <td>...</td>\n",
       "      <td>...</td>\n",
       "      <td>...</td>\n",
       "      <td>...</td>\n",
       "      <td>...</td>\n",
       "      <td>...</td>\n",
       "      <td>...</td>\n",
       "      <td>...</td>\n",
       "      <td>...</td>\n",
       "      <td>...</td>\n",
       "    </tr>\n",
       "    <tr>\n",
       "      <th>Montvila, Rev. Juozas</th>\n",
       "      <td>887</td>\n",
       "      <td>0</td>\n",
       "      <td>2</td>\n",
       "      <td>masculino</td>\n",
       "      <td>27.0</td>\n",
       "      <td>0</td>\n",
       "      <td>0</td>\n",
       "      <td>211536</td>\n",
       "      <td>13.0000</td>\n",
       "      <td>NaN</td>\n",
       "      <td>S</td>\n",
       "      <td>NaN</td>\n",
       "    </tr>\n",
       "    <tr>\n",
       "      <th>Graham, Miss. Margaret Edith</th>\n",
       "      <td>888</td>\n",
       "      <td>1</td>\n",
       "      <td>1</td>\n",
       "      <td>feminino</td>\n",
       "      <td>19.0</td>\n",
       "      <td>0</td>\n",
       "      <td>0</td>\n",
       "      <td>112053</td>\n",
       "      <td>30.0000</td>\n",
       "      <td>B42</td>\n",
       "      <td>S</td>\n",
       "      <td>NaN</td>\n",
       "    </tr>\n",
       "    <tr>\n",
       "      <th>Johnston, Miss. Catherine Helen \"Carrie\"</th>\n",
       "      <td>889</td>\n",
       "      <td>0</td>\n",
       "      <td>3</td>\n",
       "      <td>feminino</td>\n",
       "      <td>NaN</td>\n",
       "      <td>1</td>\n",
       "      <td>2</td>\n",
       "      <td>W./C. 6607</td>\n",
       "      <td>23.4500</td>\n",
       "      <td>NaN</td>\n",
       "      <td>S</td>\n",
       "      <td>NaN</td>\n",
       "    </tr>\n",
       "    <tr>\n",
       "      <th>Behr, Mr. Karl Howell</th>\n",
       "      <td>890</td>\n",
       "      <td>1</td>\n",
       "      <td>1</td>\n",
       "      <td>masculino</td>\n",
       "      <td>26.0</td>\n",
       "      <td>0</td>\n",
       "      <td>0</td>\n",
       "      <td>111369</td>\n",
       "      <td>30.0000</td>\n",
       "      <td>C148</td>\n",
       "      <td>C</td>\n",
       "      <td>NaN</td>\n",
       "    </tr>\n",
       "    <tr>\n",
       "      <th>Dooley, Mr. Patrick</th>\n",
       "      <td>891</td>\n",
       "      <td>0</td>\n",
       "      <td>3</td>\n",
       "      <td>masculino</td>\n",
       "      <td>32.0</td>\n",
       "      <td>0</td>\n",
       "      <td>0</td>\n",
       "      <td>370376</td>\n",
       "      <td>7.7500</td>\n",
       "      <td>NaN</td>\n",
       "      <td>Q</td>\n",
       "      <td>NaN</td>\n",
       "    </tr>\n",
       "  </tbody>\n",
       "</table>\n",
       "<p>891 rows × 12 columns</p>\n",
       "</div>"
      ],
      "text/plain": [
       "                                                    PassengeiroId  \\\n",
       "Nome                                                                \n",
       "Braund, Mr. Owen Harris                                         1   \n",
       "Cumings, Mrs. John Bradley (Florence Briggs Tha...              2   \n",
       "Heikkinen, Miss. Laina                                          3   \n",
       "Futrelle, Mrs. Jacques Heath (Lily May Peel)                    4   \n",
       "Allen, Mr. William Henry                                        5   \n",
       "...                                                           ...   \n",
       "Montvila, Rev. Juozas                                         887   \n",
       "Graham, Miss. Margaret Edith                                  888   \n",
       "Johnston, Miss. Catherine Helen \"Carrie\"                      889   \n",
       "Behr, Mr. Karl Howell                                         890   \n",
       "Dooley, Mr. Patrick                                           891   \n",
       "\n",
       "                                                    Sobrevivente  Classe  \\\n",
       "Nome                                                                       \n",
       "Braund, Mr. Owen Harris                                      100       3   \n",
       "Cumings, Mrs. John Bradley (Florence Briggs Tha...             1       1   \n",
       "Heikkinen, Miss. Laina                                         1       3   \n",
       "Futrelle, Mrs. Jacques Heath (Lily May Peel)                   1       1   \n",
       "Allen, Mr. William Henry                                       0       3   \n",
       "...                                                          ...     ...   \n",
       "Montvila, Rev. Juozas                                          0       2   \n",
       "Graham, Miss. Margaret Edith                                   1       1   \n",
       "Johnston, Miss. Catherine Helen \"Carrie\"                       0       3   \n",
       "Behr, Mr. Karl Howell                                          1       1   \n",
       "Dooley, Mr. Patrick                                            0       3   \n",
       "\n",
       "                                                         Sexo  Idade  Codigo  \\\n",
       "Nome                                                                           \n",
       "Braund, Mr. Owen Harris                             masculino   22.0       1   \n",
       "Cumings, Mrs. John Bradley (Florence Briggs Tha...   feminino   38.0       1   \n",
       "Heikkinen, Miss. Laina                               feminino   26.0       0   \n",
       "Futrelle, Mrs. Jacques Heath (Lily May Peel)         feminino   35.0       1   \n",
       "Allen, Mr. William Henry                            masculino   35.0       0   \n",
       "...                                                       ...    ...     ...   \n",
       "Montvila, Rev. Juozas                               masculino   27.0       0   \n",
       "Graham, Miss. Margaret Edith                         feminino   19.0       0   \n",
       "Johnston, Miss. Catherine Helen \"Carrie\"             feminino    NaN       1   \n",
       "Behr, Mr. Karl Howell                               masculino   26.0       0   \n",
       "Dooley, Mr. Patrick                                 masculino   32.0       0   \n",
       "\n",
       "                                                    Documento  \\\n",
       "Nome                                                            \n",
       "Braund, Mr. Owen Harris                                     0   \n",
       "Cumings, Mrs. John Bradley (Florence Briggs Tha...          0   \n",
       "Heikkinen, Miss. Laina                                      0   \n",
       "Futrelle, Mrs. Jacques Heath (Lily May Peel)                0   \n",
       "Allen, Mr. William Henry                                    0   \n",
       "...                                                       ...   \n",
       "Montvila, Rev. Juozas                                       0   \n",
       "Graham, Miss. Margaret Edith                                0   \n",
       "Johnston, Miss. Catherine Helen \"Carrie\"                    2   \n",
       "Behr, Mr. Karl Howell                                       0   \n",
       "Dooley, Mr. Patrick                                         0   \n",
       "\n",
       "                                                             Bilhete    Custo  \\\n",
       "Nome                                                                            \n",
       "Braund, Mr. Owen Harris                                    A/5 21171   7.2500   \n",
       "Cumings, Mrs. John Bradley (Florence Briggs Tha...          PC 17599  71.2833   \n",
       "Heikkinen, Miss. Laina                              STON/O2. 3101282   7.9250   \n",
       "Futrelle, Mrs. Jacques Heath (Lily May Peel)                  113803  53.1000   \n",
       "Allen, Mr. William Henry                                      373450   8.0500   \n",
       "...                                                              ...      ...   \n",
       "Montvila, Rev. Juozas                                         211536  13.0000   \n",
       "Graham, Miss. Margaret Edith                                  112053  30.0000   \n",
       "Johnston, Miss. Catherine Helen \"Carrie\"                  W./C. 6607  23.4500   \n",
       "Behr, Mr. Karl Howell                                         111369  30.0000   \n",
       "Dooley, Mr. Patrick                                           370376   7.7500   \n",
       "\n",
       "                                                   Cabina Embarcamento  \\\n",
       "Nome                                                                     \n",
       "Braund, Mr. Owen Harris                               NaN            S   \n",
       "Cumings, Mrs. John Bradley (Florence Briggs Tha...    C85            C   \n",
       "Heikkinen, Miss. Laina                                NaN            S   \n",
       "Futrelle, Mrs. Jacques Heath (Lily May Peel)         C123            S   \n",
       "Allen, Mr. William Henry                              NaN            S   \n",
       "...                                                   ...          ...   \n",
       "Montvila, Rev. Juozas                                 NaN            S   \n",
       "Graham, Miss. Margaret Edith                          B42            S   \n",
       "Johnston, Miss. Catherine Helen \"Carrie\"              NaN            S   \n",
       "Behr, Mr. Karl Howell                                C148            C   \n",
       "Dooley, Mr. Patrick                                   NaN            Q   \n",
       "\n",
       "                                                    Survived  \n",
       "Nome                                                          \n",
       "Braund, Mr. Owen Harris                                100.0  \n",
       "Cumings, Mrs. John Bradley (Florence Briggs Tha...       NaN  \n",
       "Heikkinen, Miss. Laina                                   NaN  \n",
       "Futrelle, Mrs. Jacques Heath (Lily May Peel)             NaN  \n",
       "Allen, Mr. William Henry                                 NaN  \n",
       "...                                                      ...  \n",
       "Montvila, Rev. Juozas                                    NaN  \n",
       "Graham, Miss. Margaret Edith                             NaN  \n",
       "Johnston, Miss. Catherine Helen \"Carrie\"                 NaN  \n",
       "Behr, Mr. Karl Howell                                    NaN  \n",
       "Dooley, Mr. Patrick                                      NaN  \n",
       "\n",
       "[891 rows x 12 columns]"
      ]
     },
     "execution_count": 153,
     "metadata": {},
     "output_type": "execute_result"
    }
   ],
   "source": [
    "df"
   ]
  },
  {
   "cell_type": "markdown",
   "metadata": {},
   "source": [
    "### Indexação Booleana (filtragem)"
   ]
  },
  {
   "cell_type": "markdown",
   "metadata": {},
   "source": [
    "Frequentemente pretende-se selecionar linhas com base numa determinada condição. Isso pode ser feito com 'indexação booleana' (como uma cláusula WHERE na linguagem SQL) e comparável a numpy.\n",
    "\n",
    "O indexador (ou máscara booleana) deve ser unidimensional."
   ]
  },
  {
   "cell_type": "code",
   "execution_count": 142,
   "metadata": {
    "run_control": {
     "frozen": false,
     "read_only": false
    }
   },
   "outputs": [
    {
     "data": {
      "text/plain": [
       "0      False\n",
       "1       True\n",
       "2      False\n",
       "3       True\n",
       "4      False\n",
       "       ...  \n",
       "886    False\n",
       "887    False\n",
       "888    False\n",
       "889    False\n",
       "890    False\n",
       "Name: Custo, Length: 891, dtype: bool"
      ]
     },
     "execution_count": 142,
     "metadata": {},
     "output_type": "execute_result"
    }
   ],
   "source": [
    "df['Custo'] > 50"
   ]
  },
  {
   "cell_type": "code",
   "execution_count": 143,
   "metadata": {
    "run_control": {
     "frozen": false,
     "read_only": false
    },
    "scrolled": false
   },
   "outputs": [
    {
     "data": {
      "text/html": [
       "<div>\n",
       "<style scoped>\n",
       "    .dataframe tbody tr th:only-of-type {\n",
       "        vertical-align: middle;\n",
       "    }\n",
       "\n",
       "    .dataframe tbody tr th {\n",
       "        vertical-align: top;\n",
       "    }\n",
       "\n",
       "    .dataframe thead th {\n",
       "        text-align: right;\n",
       "    }\n",
       "</style>\n",
       "<table border=\"1\" class=\"dataframe\">\n",
       "  <thead>\n",
       "    <tr style=\"text-align: right;\">\n",
       "      <th></th>\n",
       "      <th>PassengeiroId</th>\n",
       "      <th>Sobrevivente</th>\n",
       "      <th>Classe</th>\n",
       "      <th>Nome</th>\n",
       "      <th>Sexo</th>\n",
       "      <th>Idade</th>\n",
       "      <th>Codigo</th>\n",
       "      <th>Documento</th>\n",
       "      <th>Bilhete</th>\n",
       "      <th>Custo</th>\n",
       "      <th>Cabina</th>\n",
       "      <th>Embarcamento</th>\n",
       "    </tr>\n",
       "  </thead>\n",
       "  <tbody>\n",
       "    <tr>\n",
       "      <th>1</th>\n",
       "      <td>2</td>\n",
       "      <td>1</td>\n",
       "      <td>1</td>\n",
       "      <td>Cumings, Mrs. John Bradley (Florence Briggs Th...</td>\n",
       "      <td>feminino</td>\n",
       "      <td>38.0</td>\n",
       "      <td>1</td>\n",
       "      <td>0</td>\n",
       "      <td>PC 17599</td>\n",
       "      <td>71.2833</td>\n",
       "      <td>C85</td>\n",
       "      <td>C</td>\n",
       "    </tr>\n",
       "    <tr>\n",
       "      <th>3</th>\n",
       "      <td>4</td>\n",
       "      <td>1</td>\n",
       "      <td>1</td>\n",
       "      <td>Futrelle, Mrs. Jacques Heath (Lily May Peel)</td>\n",
       "      <td>feminino</td>\n",
       "      <td>35.0</td>\n",
       "      <td>1</td>\n",
       "      <td>0</td>\n",
       "      <td>113803</td>\n",
       "      <td>53.1000</td>\n",
       "      <td>C123</td>\n",
       "      <td>S</td>\n",
       "    </tr>\n",
       "    <tr>\n",
       "      <th>6</th>\n",
       "      <td>7</td>\n",
       "      <td>0</td>\n",
       "      <td>1</td>\n",
       "      <td>McCarthy, Mr. Timothy J</td>\n",
       "      <td>masculino</td>\n",
       "      <td>54.0</td>\n",
       "      <td>0</td>\n",
       "      <td>0</td>\n",
       "      <td>17463</td>\n",
       "      <td>51.8625</td>\n",
       "      <td>E46</td>\n",
       "      <td>S</td>\n",
       "    </tr>\n",
       "    <tr>\n",
       "      <th>27</th>\n",
       "      <td>28</td>\n",
       "      <td>0</td>\n",
       "      <td>1</td>\n",
       "      <td>Fortune, Mr. Charles Alexander</td>\n",
       "      <td>masculino</td>\n",
       "      <td>19.0</td>\n",
       "      <td>3</td>\n",
       "      <td>2</td>\n",
       "      <td>19950</td>\n",
       "      <td>263.0000</td>\n",
       "      <td>C23 C25 C27</td>\n",
       "      <td>S</td>\n",
       "    </tr>\n",
       "    <tr>\n",
       "      <th>31</th>\n",
       "      <td>32</td>\n",
       "      <td>1</td>\n",
       "      <td>1</td>\n",
       "      <td>Spencer, Mrs. William Augustus (Marie Eugenie)</td>\n",
       "      <td>feminino</td>\n",
       "      <td>NaN</td>\n",
       "      <td>1</td>\n",
       "      <td>0</td>\n",
       "      <td>PC 17569</td>\n",
       "      <td>146.5208</td>\n",
       "      <td>B78</td>\n",
       "      <td>C</td>\n",
       "    </tr>\n",
       "    <tr>\n",
       "      <th>...</th>\n",
       "      <td>...</td>\n",
       "      <td>...</td>\n",
       "      <td>...</td>\n",
       "      <td>...</td>\n",
       "      <td>...</td>\n",
       "      <td>...</td>\n",
       "      <td>...</td>\n",
       "      <td>...</td>\n",
       "      <td>...</td>\n",
       "      <td>...</td>\n",
       "      <td>...</td>\n",
       "      <td>...</td>\n",
       "    </tr>\n",
       "    <tr>\n",
       "      <th>856</th>\n",
       "      <td>857</td>\n",
       "      <td>1</td>\n",
       "      <td>1</td>\n",
       "      <td>Wick, Mrs. George Dennick (Mary Hitchcock)</td>\n",
       "      <td>feminino</td>\n",
       "      <td>45.0</td>\n",
       "      <td>1</td>\n",
       "      <td>1</td>\n",
       "      <td>36928</td>\n",
       "      <td>164.8667</td>\n",
       "      <td>NaN</td>\n",
       "      <td>S</td>\n",
       "    </tr>\n",
       "    <tr>\n",
       "      <th>863</th>\n",
       "      <td>864</td>\n",
       "      <td>0</td>\n",
       "      <td>3</td>\n",
       "      <td>Sage, Miss. Dorothy Edith \"Dolly\"</td>\n",
       "      <td>feminino</td>\n",
       "      <td>NaN</td>\n",
       "      <td>8</td>\n",
       "      <td>2</td>\n",
       "      <td>CA. 2343</td>\n",
       "      <td>69.5500</td>\n",
       "      <td>NaN</td>\n",
       "      <td>S</td>\n",
       "    </tr>\n",
       "    <tr>\n",
       "      <th>867</th>\n",
       "      <td>868</td>\n",
       "      <td>0</td>\n",
       "      <td>1</td>\n",
       "      <td>Roebling, Mr. Washington Augustus II</td>\n",
       "      <td>masculino</td>\n",
       "      <td>31.0</td>\n",
       "      <td>0</td>\n",
       "      <td>0</td>\n",
       "      <td>PC 17590</td>\n",
       "      <td>50.4958</td>\n",
       "      <td>A24</td>\n",
       "      <td>S</td>\n",
       "    </tr>\n",
       "    <tr>\n",
       "      <th>871</th>\n",
       "      <td>872</td>\n",
       "      <td>1</td>\n",
       "      <td>1</td>\n",
       "      <td>Beckwith, Mrs. Richard Leonard (Sallie Monypeny)</td>\n",
       "      <td>feminino</td>\n",
       "      <td>47.0</td>\n",
       "      <td>1</td>\n",
       "      <td>1</td>\n",
       "      <td>11751</td>\n",
       "      <td>52.5542</td>\n",
       "      <td>D35</td>\n",
       "      <td>S</td>\n",
       "    </tr>\n",
       "    <tr>\n",
       "      <th>879</th>\n",
       "      <td>880</td>\n",
       "      <td>1</td>\n",
       "      <td>1</td>\n",
       "      <td>Potter, Mrs. Thomas Jr (Lily Alexenia Wilson)</td>\n",
       "      <td>feminino</td>\n",
       "      <td>56.0</td>\n",
       "      <td>0</td>\n",
       "      <td>1</td>\n",
       "      <td>11767</td>\n",
       "      <td>83.1583</td>\n",
       "      <td>C50</td>\n",
       "      <td>C</td>\n",
       "    </tr>\n",
       "  </tbody>\n",
       "</table>\n",
       "<p>160 rows × 12 columns</p>\n",
       "</div>"
      ],
      "text/plain": [
       "     PassengeiroId  Sobrevivente  Classe  \\\n",
       "1                2             1       1   \n",
       "3                4             1       1   \n",
       "6                7             0       1   \n",
       "27              28             0       1   \n",
       "31              32             1       1   \n",
       "..             ...           ...     ...   \n",
       "856            857             1       1   \n",
       "863            864             0       3   \n",
       "867            868             0       1   \n",
       "871            872             1       1   \n",
       "879            880             1       1   \n",
       "\n",
       "                                                  Nome       Sexo  Idade  \\\n",
       "1    Cumings, Mrs. John Bradley (Florence Briggs Th...   feminino   38.0   \n",
       "3         Futrelle, Mrs. Jacques Heath (Lily May Peel)   feminino   35.0   \n",
       "6                              McCarthy, Mr. Timothy J  masculino   54.0   \n",
       "27                      Fortune, Mr. Charles Alexander  masculino   19.0   \n",
       "31      Spencer, Mrs. William Augustus (Marie Eugenie)   feminino    NaN   \n",
       "..                                                 ...        ...    ...   \n",
       "856         Wick, Mrs. George Dennick (Mary Hitchcock)   feminino   45.0   \n",
       "863                  Sage, Miss. Dorothy Edith \"Dolly\"   feminino    NaN   \n",
       "867               Roebling, Mr. Washington Augustus II  masculino   31.0   \n",
       "871   Beckwith, Mrs. Richard Leonard (Sallie Monypeny)   feminino   47.0   \n",
       "879      Potter, Mrs. Thomas Jr (Lily Alexenia Wilson)   feminino   56.0   \n",
       "\n",
       "     Codigo  Documento   Bilhete     Custo       Cabina Embarcamento  \n",
       "1         1          0  PC 17599   71.2833          C85            C  \n",
       "3         1          0    113803   53.1000         C123            S  \n",
       "6         0          0     17463   51.8625          E46            S  \n",
       "27        3          2     19950  263.0000  C23 C25 C27            S  \n",
       "31        1          0  PC 17569  146.5208          B78            C  \n",
       "..      ...        ...       ...       ...          ...          ...  \n",
       "856       1          1     36928  164.8667          NaN            S  \n",
       "863       8          2  CA. 2343   69.5500          NaN            S  \n",
       "867       0          0  PC 17590   50.4958          A24            S  \n",
       "871       1          1     11751   52.5542          D35            S  \n",
       "879       0          1     11767   83.1583          C50            C  \n",
       "\n",
       "[160 rows x 12 columns]"
      ]
     },
     "execution_count": 143,
     "metadata": {},
     "output_type": "execute_result"
    }
   ],
   "source": [
    "df[df['Custo'] > 50]"
   ]
  },
  {
   "cell_type": "markdown",
   "metadata": {},
   "source": [
    "<div class=\"alert alert-success\">\n",
    "\n",
    "<b>EXERCÍCIO</b>:\n",
    "\n",
    " <ul>\n",
    "  <li>Seleciome todos os registos relativos aos passageiros femininos e calcule a média de idade dos mesmos. Faça o msemo para os passageiros masculinos.</li>\n",
    "</ul>\n",
    "</div>"
   ]
  },
  {
   "cell_type": "code",
   "execution_count": 162,
   "metadata": {},
   "outputs": [],
   "source": [
    "#df = pd.read_csv(\"titanic.csv\")"
   ]
  },
  {
   "cell_type": "code",
   "execution_count": null,
   "metadata": {
    "clear_cell": true
   },
   "outputs": [],
   "source": []
  },
  {
   "cell_type": "code",
   "execution_count": null,
   "metadata": {
    "clear_cell": true
   },
   "outputs": [],
   "source": []
  },
  {
   "cell_type": "markdown",
   "metadata": {},
   "source": [
    "<div class=\"alert alert-success\">\n",
    "\n",
    "<b>EXERCÍCIO</b>:\n",
    "\n",
    " <ul>\n",
    "  <li>Com base nos dados do titanic, quantos passageiros com mais de 70 anos estavam no navio?</li>\n",
    "</ul>\n",
    "</div>"
   ]
  },
  {
   "cell_type": "code",
   "execution_count": null,
   "metadata": {
    "clear_cell": true
   },
   "outputs": [],
   "source": []
  },
  {
   "cell_type": "code",
   "execution_count": null,
   "metadata": {
    "clear_cell": true
   },
   "outputs": [],
   "source": []
  },
  {
   "cell_type": "markdown",
   "metadata": {},
   "source": [
    "# 6. A operação groupby "
   ]
  },
  {
   "cell_type": "markdown",
   "metadata": {},
   "source": [
    "### Alguma 'teoria': a operação groupby  (dividir-aplicar-combinar)"
   ]
  },
  {
   "cell_type": "code",
   "execution_count": 168,
   "metadata": {
    "run_control": {
     "frozen": false,
     "read_only": false
    }
   },
   "outputs": [
    {
     "data": {
      "text/html": [
       "<div>\n",
       "<style scoped>\n",
       "    .dataframe tbody tr th:only-of-type {\n",
       "        vertical-align: middle;\n",
       "    }\n",
       "\n",
       "    .dataframe tbody tr th {\n",
       "        vertical-align: top;\n",
       "    }\n",
       "\n",
       "    .dataframe thead th {\n",
       "        text-align: right;\n",
       "    }\n",
       "</style>\n",
       "<table border=\"1\" class=\"dataframe\">\n",
       "  <thead>\n",
       "    <tr style=\"text-align: right;\">\n",
       "      <th></th>\n",
       "      <th>key</th>\n",
       "      <th>data</th>\n",
       "    </tr>\n",
       "  </thead>\n",
       "  <tbody>\n",
       "    <tr>\n",
       "      <th>0</th>\n",
       "      <td>A</td>\n",
       "      <td>0</td>\n",
       "    </tr>\n",
       "    <tr>\n",
       "      <th>1</th>\n",
       "      <td>B</td>\n",
       "      <td>5</td>\n",
       "    </tr>\n",
       "    <tr>\n",
       "      <th>2</th>\n",
       "      <td>C</td>\n",
       "      <td>10</td>\n",
       "    </tr>\n",
       "    <tr>\n",
       "      <th>3</th>\n",
       "      <td>A</td>\n",
       "      <td>5</td>\n",
       "    </tr>\n",
       "    <tr>\n",
       "      <th>4</th>\n",
       "      <td>B</td>\n",
       "      <td>10</td>\n",
       "    </tr>\n",
       "    <tr>\n",
       "      <th>5</th>\n",
       "      <td>C</td>\n",
       "      <td>15</td>\n",
       "    </tr>\n",
       "    <tr>\n",
       "      <th>6</th>\n",
       "      <td>A</td>\n",
       "      <td>10</td>\n",
       "    </tr>\n",
       "    <tr>\n",
       "      <th>7</th>\n",
       "      <td>B</td>\n",
       "      <td>15</td>\n",
       "    </tr>\n",
       "    <tr>\n",
       "      <th>8</th>\n",
       "      <td>C</td>\n",
       "      <td>20</td>\n",
       "    </tr>\n",
       "  </tbody>\n",
       "</table>\n",
       "</div>"
      ],
      "text/plain": [
       "  key  data\n",
       "0   A     0\n",
       "1   B     5\n",
       "2   C    10\n",
       "3   A     5\n",
       "4   B    10\n",
       "5   C    15\n",
       "6   A    10\n",
       "7   B    15\n",
       "8   C    20"
      ]
     },
     "execution_count": 168,
     "metadata": {},
     "output_type": "execute_result"
    }
   ],
   "source": [
    "df = pd.DataFrame({'key':['A','B','C','A','B','C','A','B','C'],\n",
    "                   'data': [0, 5, 10, 5, 10, 15, 10, 15, 20]})\n",
    "df"
   ]
  },
  {
   "cell_type": "markdown",
   "metadata": {},
   "source": [
    "### Recapitulação: funções de agregação"
   ]
  },
  {
   "cell_type": "markdown",
   "metadata": {},
   "source": [
    "When analyzing data, you often calculate summary statistics (aggregations like the mean, max, ...). As we have seen before, we can easily calculate such a statistic for a Series or column using one of the many available methods. For example:\n",
    "\n",
    "Ao analisar dados, geralmente calcula-se estatísticas resumidas (agregações como média, máximo, ...). Como vimos anteriormente, podemos calcular facilmente essas estatísticas para uma série ou coluna utilizando um dos muitos métodos disponíveis. Por exemplo:"
   ]
  },
  {
   "cell_type": "code",
   "execution_count": 169,
   "metadata": {
    "run_control": {
     "frozen": false,
     "read_only": false
    }
   },
   "outputs": [
    {
     "data": {
      "text/plain": [
       "90"
      ]
     },
     "execution_count": 169,
     "metadata": {},
     "output_type": "execute_result"
    }
   ],
   "source": [
    "df['data'].sum()"
   ]
  },
  {
   "cell_type": "markdown",
   "metadata": {},
   "source": [
    "No entanto, em muitos casos, os dados contêm determinados grupos e, nesse caso, convém calcular essa estatística para cada um dos grupos.\n",
    "\n",
    "Por exemplo, no df do quadro de dados acima, existe uma coluna 'key' que possui três valores possíveis: 'A', 'B' e 'C'. Quando queremos calcular a soma de cada um desses grupos, podemos fazer o seguinte:"
   ]
  },
  {
   "cell_type": "code",
   "execution_count": 170,
   "metadata": {
    "run_control": {
     "frozen": false,
     "read_only": false
    }
   },
   "outputs": [
    {
     "name": "stdout",
     "output_type": "stream",
     "text": [
      "A 15\n",
      "B 30\n",
      "C 45\n"
     ]
    }
   ],
   "source": [
    "for key in ['A', 'B', 'C']:\n",
    "    print(key, df[df['key'] == key]['data'].sum())"
   ]
  },
  {
   "cell_type": "markdown",
   "metadata": {},
   "source": [
    "This becomes very verbose when having multiple groups. You could make the above a bit easier by looping over the different values, but still, it is not very convenient to work with.\n",
    "\n",
    "What we did above, applying a function on different groups, is a \"groupby operation\", and pandas provides some convenient functionality for this.\n",
    "\n",
    "Isto torna-se complicado quando se têm vários grupos. Poderá facilitar um pouco as opções acima repetindo os diferentes valores, mas ainda assim, não é muito conveniente trabalhar assim.\n",
    "\n",
    "O que fizemos acima, aplicando uma função a diferentes grupos, é uma \"operação de agrupamento\", e o Pandas providencia algumas funcionalidades convenientes para esta tarefa."
   ]
  },
  {
   "cell_type": "markdown",
   "metadata": {},
   "source": [
    "### Groupby: aplicação de funções por grupo"
   ]
  },
  {
   "cell_type": "markdown",
   "metadata": {
    "slideshow": {
     "slide_type": "subslide"
    }
   },
   "source": [
    "The \"group by\" concept: we want to **apply the same function on subsets of your dataframe, based on some key to split the dataframe in subsets**\n",
    "\n",
    "This operation is also referred to as the \"split-apply-combine\" operation, involving the following steps:\n",
    "\n",
    "O conceito \"agrupar por\": quer-se **aplicar a mesma função em subconjuntos do dataframe, com base em alguma chave para dividir o quadro em subconjuntos**\n",
    "\n",
    "Essa operação também é chamada de operação \"dividir-aplicar-combinar\", envolvendo as seguintes etapas:\n",
    "\n",
    "* **Dividir** os dados em grupos baseado em algum critério\n",
    "* **Aplicar** uma função a cada grupo de forma independente\n",
    "* **Combinar** os resultados numa estrutura de dados\n",
    "\n",
    "Similar à funcionalidade `GROUP BY` em SQL"
   ]
  },
  {
   "cell_type": "markdown",
   "metadata": {},
   "source": [
    "Em vez de realizar uma filtragem manual como acima\n",
    "\n",
    "\n",
    "    df[df['key'] == \"A\"].sum()\n",
    "    df[df['key'] == \"B\"].sum()\n",
    "    ...\n",
    "\n",
    "pandas providencia o método `groupby` para realizar a operação:"
   ]
  },
  {
   "cell_type": "code",
   "execution_count": 172,
   "metadata": {
    "run_control": {
     "frozen": false,
     "read_only": false
    }
   },
   "outputs": [
    {
     "data": {
      "text/html": [
       "<div>\n",
       "<style scoped>\n",
       "    .dataframe tbody tr th:only-of-type {\n",
       "        vertical-align: middle;\n",
       "    }\n",
       "\n",
       "    .dataframe tbody tr th {\n",
       "        vertical-align: top;\n",
       "    }\n",
       "\n",
       "    .dataframe thead th {\n",
       "        text-align: right;\n",
       "    }\n",
       "</style>\n",
       "<table border=\"1\" class=\"dataframe\">\n",
       "  <thead>\n",
       "    <tr style=\"text-align: right;\">\n",
       "      <th></th>\n",
       "      <th>data</th>\n",
       "    </tr>\n",
       "    <tr>\n",
       "      <th>key</th>\n",
       "      <th></th>\n",
       "    </tr>\n",
       "  </thead>\n",
       "  <tbody>\n",
       "    <tr>\n",
       "      <th>A</th>\n",
       "      <td>15</td>\n",
       "    </tr>\n",
       "    <tr>\n",
       "      <th>B</th>\n",
       "      <td>30</td>\n",
       "    </tr>\n",
       "    <tr>\n",
       "      <th>C</th>\n",
       "      <td>45</td>\n",
       "    </tr>\n",
       "  </tbody>\n",
       "</table>\n",
       "</div>"
      ],
      "text/plain": [
       "     data\n",
       "key      \n",
       "A      15\n",
       "B      30\n",
       "C      45"
      ]
     },
     "execution_count": 172,
     "metadata": {},
     "output_type": "execute_result"
    }
   ],
   "source": [
    "df.groupby('key').sum()"
   ]
  },
  {
   "cell_type": "markdown",
   "metadata": {},
   "source": [
    "And many more methods are available. "
   ]
  },
  {
   "cell_type": "code",
   "execution_count": null,
   "metadata": {
    "run_control": {
     "frozen": false,
     "read_only": false
    }
   },
   "outputs": [],
   "source": [
    "df.groupby('key')['data'].sum()"
   ]
  },
  {
   "cell_type": "markdown",
   "metadata": {
    "slideshow": {
     "slide_type": "subslide"
    }
   },
   "source": [
    "### Aplicação do conceito groupby aos dados do titanic"
   ]
  },
  {
   "cell_type": "code",
   "execution_count": 174,
   "metadata": {
    "run_control": {
     "frozen": false,
     "read_only": false
    }
   },
   "outputs": [],
   "source": [
    "df = pd.read_csv(\"dados/titanic.csv\")"
   ]
  },
  {
   "cell_type": "code",
   "execution_count": 175,
   "metadata": {
    "run_control": {
     "frozen": false,
     "read_only": false
    }
   },
   "outputs": [
    {
     "data": {
      "text/html": [
       "<div>\n",
       "<style scoped>\n",
       "    .dataframe tbody tr th:only-of-type {\n",
       "        vertical-align: middle;\n",
       "    }\n",
       "\n",
       "    .dataframe tbody tr th {\n",
       "        vertical-align: top;\n",
       "    }\n",
       "\n",
       "    .dataframe thead th {\n",
       "        text-align: right;\n",
       "    }\n",
       "</style>\n",
       "<table border=\"1\" class=\"dataframe\">\n",
       "  <thead>\n",
       "    <tr style=\"text-align: right;\">\n",
       "      <th></th>\n",
       "      <th>PassengeiroId</th>\n",
       "      <th>Sobrevivente</th>\n",
       "      <th>Classe</th>\n",
       "      <th>Nome</th>\n",
       "      <th>Sexo</th>\n",
       "      <th>Idade</th>\n",
       "      <th>Codigo</th>\n",
       "      <th>Documento</th>\n",
       "      <th>Bilhete</th>\n",
       "      <th>Custo</th>\n",
       "      <th>Cabina</th>\n",
       "      <th>Embarcamento</th>\n",
       "    </tr>\n",
       "  </thead>\n",
       "  <tbody>\n",
       "    <tr>\n",
       "      <th>0</th>\n",
       "      <td>1</td>\n",
       "      <td>0</td>\n",
       "      <td>3</td>\n",
       "      <td>Braund, Mr. Owen Harris</td>\n",
       "      <td>masculino</td>\n",
       "      <td>22.0</td>\n",
       "      <td>1</td>\n",
       "      <td>0</td>\n",
       "      <td>A/5 21171</td>\n",
       "      <td>7.2500</td>\n",
       "      <td>NaN</td>\n",
       "      <td>S</td>\n",
       "    </tr>\n",
       "    <tr>\n",
       "      <th>1</th>\n",
       "      <td>2</td>\n",
       "      <td>1</td>\n",
       "      <td>1</td>\n",
       "      <td>Cumings, Mrs. John Bradley (Florence Briggs Th...</td>\n",
       "      <td>feminino</td>\n",
       "      <td>38.0</td>\n",
       "      <td>1</td>\n",
       "      <td>0</td>\n",
       "      <td>PC 17599</td>\n",
       "      <td>71.2833</td>\n",
       "      <td>C85</td>\n",
       "      <td>C</td>\n",
       "    </tr>\n",
       "    <tr>\n",
       "      <th>2</th>\n",
       "      <td>3</td>\n",
       "      <td>1</td>\n",
       "      <td>3</td>\n",
       "      <td>Heikkinen, Miss. Laina</td>\n",
       "      <td>feminino</td>\n",
       "      <td>26.0</td>\n",
       "      <td>0</td>\n",
       "      <td>0</td>\n",
       "      <td>STON/O2. 3101282</td>\n",
       "      <td>7.9250</td>\n",
       "      <td>NaN</td>\n",
       "      <td>S</td>\n",
       "    </tr>\n",
       "    <tr>\n",
       "      <th>3</th>\n",
       "      <td>4</td>\n",
       "      <td>1</td>\n",
       "      <td>1</td>\n",
       "      <td>Futrelle, Mrs. Jacques Heath (Lily May Peel)</td>\n",
       "      <td>feminino</td>\n",
       "      <td>35.0</td>\n",
       "      <td>1</td>\n",
       "      <td>0</td>\n",
       "      <td>113803</td>\n",
       "      <td>53.1000</td>\n",
       "      <td>C123</td>\n",
       "      <td>S</td>\n",
       "    </tr>\n",
       "    <tr>\n",
       "      <th>4</th>\n",
       "      <td>5</td>\n",
       "      <td>0</td>\n",
       "      <td>3</td>\n",
       "      <td>Allen, Mr. William Henry</td>\n",
       "      <td>masculino</td>\n",
       "      <td>35.0</td>\n",
       "      <td>0</td>\n",
       "      <td>0</td>\n",
       "      <td>373450</td>\n",
       "      <td>8.0500</td>\n",
       "      <td>NaN</td>\n",
       "      <td>S</td>\n",
       "    </tr>\n",
       "  </tbody>\n",
       "</table>\n",
       "</div>"
      ],
      "text/plain": [
       "   PassengeiroId  Sobrevivente  Classe  \\\n",
       "0              1             0       3   \n",
       "1              2             1       1   \n",
       "2              3             1       3   \n",
       "3              4             1       1   \n",
       "4              5             0       3   \n",
       "\n",
       "                                                Nome       Sexo  Idade  \\\n",
       "0                            Braund, Mr. Owen Harris  masculino   22.0   \n",
       "1  Cumings, Mrs. John Bradley (Florence Briggs Th...   feminino   38.0   \n",
       "2                             Heikkinen, Miss. Laina   feminino   26.0   \n",
       "3       Futrelle, Mrs. Jacques Heath (Lily May Peel)   feminino   35.0   \n",
       "4                           Allen, Mr. William Henry  masculino   35.0   \n",
       "\n",
       "   Codigo  Documento           Bilhete    Custo Cabina Embarcamento  \n",
       "0       1          0         A/5 21171   7.2500    NaN            S  \n",
       "1       1          0          PC 17599  71.2833    C85            C  \n",
       "2       0          0  STON/O2. 3101282   7.9250    NaN            S  \n",
       "3       1          0            113803  53.1000   C123            S  \n",
       "4       0          0            373450   8.0500    NaN            S  "
      ]
     },
     "execution_count": 175,
     "metadata": {},
     "output_type": "execute_result"
    }
   ],
   "source": [
    "df.head()"
   ]
  },
  {
   "cell_type": "markdown",
   "metadata": {},
   "source": [
    "<div class=\"alert alert-success\">\n",
    "\n",
    "<b>EXERCÍCIO</b>:\n",
    "\n",
    " <ul>\n",
    "  <li>Calcule a media de dados para cada um dos sexos novamente, mas desta vez utilizando o método groupby.</li>\n",
    "</ul>\n",
    "</div>"
   ]
  },
  {
   "cell_type": "code",
   "execution_count": 178,
   "metadata": {
    "clear_cell": true,
    "run_control": {
     "frozen": false,
     "read_only": false
    }
   },
   "outputs": [
    {
     "data": {
      "text/plain": [
       "Sexo\n",
       "feminino     27.915709\n",
       "masculino    30.726645\n",
       "Name: Idade, dtype: float64"
      ]
     },
     "execution_count": 178,
     "metadata": {},
     "output_type": "execute_result"
    }
   ],
   "source": [
    "df.groupby('Sexo')['Idade'].mean()"
   ]
  },
  {
   "cell_type": "markdown",
   "metadata": {},
   "source": [
    "# 9. O que falta... vamos ver na(s) próxima(s) aula(s)"
   ]
  },
  {
   "cell_type": "markdown",
   "metadata": {},
   "source": [
    "- Séries temporais\n",
    "- Concatenação de dados data: `pd.concat`\n",
    "- Ligar e associar dados: `pd.merge`\n",
    "- Reformular dados: `pivot_table`, `melt`, `stack`, `unstack`\n",
    "- 'missing data': `isnull`, `dropna`, `interpolate`, ...\n",
    "- ..."
   ]
  }
 ],
 "metadata": {
  "celltoolbar": "Nbtutor - export exercises",
  "kernelspec": {
   "display_name": "Python 3",
   "language": "python",
   "name": "python3"
  },
  "language_info": {
   "codemirror_mode": {
    "name": "ipython",
    "version": 3
   },
   "file_extension": ".py",
   "mimetype": "text/x-python",
   "name": "python",
   "nbconvert_exporter": "python",
   "pygments_lexer": "ipython3",
   "version": "3.6.6"
  },
  "nav_menu": {},
  "toc": {
   "base_numbering": 1,
   "nav_menu": {},
   "number_sections": false,
   "sideBar": true,
   "skip_h1_title": false,
   "title_cell": "Table of Contents",
   "title_sidebar": "Conteúdo",
   "toc_cell": false,
   "toc_position": {},
   "toc_section_display": "block",
   "toc_window_display": true
  }
 },
 "nbformat": 4,
 "nbformat_minor": 2
}
