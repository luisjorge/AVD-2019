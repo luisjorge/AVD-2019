{
 "cells": [
  {
   "cell_type": "markdown",
   "metadata": {},
   "source": [
    "# Configuração do ambiente de desenvolvimento Python"
   ]
  },
  {
   "cell_type": "markdown",
   "metadata": {},
   "source": [
    "Trabalhar com Python envolve a instalação e utilização de módulos e de notebooks Jupyter, que não devem entrar em conflito com dependências com a instalação do Python do sistema ou de outros ambientes virtuais. Um utilitário que facilita a gestão de ambientes virtuais (de vários existentes) é o virtualenvwrapper (https://virtualenvwrapper.readthedocs.io/en/latest/) que isola os ambientes de projeto. Esta documento pretende fundamentalmente explicar como começar a trabalhar com um ambiente Python \"limpo\" para notebooks Jupyter, com kernels separados para cada ambiente, incluindo a instalação de extensões fundamentais, como a jupyter_contrib_nbextensions, que adiciona recursos desenvolvidos pela comunidade. No entanto, a primeira parte também serve para explicar como criar um ambiente de desenvolvimento Python isolado."
   ]
  },
  {
   "cell_type": "markdown",
   "metadata": {},
   "source": [
    "## Setup inicial"
   ]
  },
  {
   "cell_type": "markdown",
   "metadata": {},
   "source": [
    "Isto só precisa ser feito uma vez na sua conta de utilizador, a fim de obter o esqueleto para criar uma quantidade indefinida de ambientes virtuais para o Python. Primeiro, se ainda não tem,deverá instalar uma cópia adequada de Python 3 no seu computador, já que o Python 2 chegará ao fim de suporte em 2020. (Também deverá, se ainda não o tiver, instalar o gerenciador de pacotes python \"pip\" no seu computador - https://pypi.org/project/pip/ )."
   ]
  },
  {
   "cell_type": "code",
   "execution_count": null,
   "metadata": {},
   "outputs": [],
   "source": [
    "# Em Ubuntu/Debian\n",
    "sudo apt-get install python3 python3-pip"
   ]
  },
  {
   "cell_type": "code",
   "execution_count": null,
   "metadata": {},
   "outputs": [],
   "source": [
    "# Em sistemas Arch Linux\n",
    "pacman -S python-virtualenvwrapper "
   ]
  },
  {
   "cell_type": "code",
   "execution_count": null,
   "metadata": {},
   "outputs": [],
   "source": [
    "# Em MacOS\n",
    "brew install python3"
   ]
  },
  {
   "cell_type": "code",
   "execution_count": null,
   "metadata": {},
   "outputs": [],
   "source": [
    "# Windows\n",
    "https://www.python.org/downloads/windows/\n"
   ]
  },
  {
   "cell_type": "markdown",
   "metadata": {},
   "source": [
    "Supondo que o Python 3 e o pip estejam instalados, instale o virtualenvwrapper e modifique o arquivo de inicialização da shell (terminal) de acordo com estas instruções: https://virtualenvwrapper.readthedocs.io/en/latest/install.html. Eu fiz o seguinte no meu sistema (Mac OS Sierra):"
   ]
  },
  {
   "cell_type": "code",
   "execution_count": null,
   "metadata": {},
   "outputs": [],
   "source": [
    "$ sudo pip install virtualenvwrapper\n",
    "$ echo \"export WORKON_HOME=$HOME/.virtualenvs\" >> $HOME/.bash_profile\n",
    "$ echo \"source /usr/local/bin/virtualenvwrapper.sh\" >> \" >> $HOME/.profile\n",
    "$ source ~/.bash_profile"
   ]
  },
  {
   "cell_type": "markdown",
   "metadata": {},
   "source": [
    "Neste momento, sempre que necessitar criar um novo ambiente virtual, utilize o seguinte como exemplo. Este ambiente virtual (virtualenv) será nomeado projeto1_venv e adicionaremos uma linha ao ficheiro $VIRTUAL_ENV/ bin/postactivate para que, ao ativar o ambiente virtual, o nosso diretório de trabalho atual seja alterado para o diretório do nosso projeto ~/caminho/para/o/diretório/do/código (supondo que tem um diretório onde vai guardar o seu código com o nome \"projeto1\" em ~/projeto1)."
   ]
  },
  {
   "cell_type": "markdown",
   "metadata": {},
   "source": [
    "## Criar novos ambientes virtuais de desenvolvimento (virtualenvs)"
   ]
  },
  {
   "cell_type": "code",
   "execution_count": null,
   "metadata": {},
   "outputs": [],
   "source": [
    "$ mkvirtualenv projeto1_venv -p python3 # Note que se especifica o intrepretador a utilizar\n",
    "(projeto1_venv) $ echo \"cd $HOME/projeto1\" >> $VIRTUAL_ENV/bin/postactivate"
   ]
  },
  {
   "cell_type": "markdown",
   "metadata": {},
   "source": [
    "Note que depois de criar o ambiente virtual \"projeto1_venv\", o virtualenv é automaticamente ativado (como poderá ver pelo prefixo (projeto1_venv) no seu terminal, bem como pela execução do comando \"which python\", que deve gerar um caminho para o interpretador Python pertencente ao ambiente)."
   ]
  },
  {
   "cell_type": "code",
   "execution_count": null,
   "metadata": {},
   "outputs": [],
   "source": [
    "Os passos seguintes são para instalar Jupyter e as suas dependências:"
   ]
  },
  {
   "cell_type": "code",
   "execution_count": null,
   "metadata": {},
   "outputs": [],
   "source": [
    "(projeto1_venv) $ pip install ipykernel\n",
    "(projeto1_venv) $ pip install jupyter_contrib_nbextensions\n",
    "(projeto1_venv) $ jupyter contrib nbextension install --sys-prefix  # muito importante\n",
    "(projeto1_venv) $ pip install jupyter_nbextensions_configurator\n",
    "(projeto1_venv) $ jupyter nbextensions_configurator enable --sys-prefix\n",
    "(projeto1_venv) $ python -m ipykernel install --user --name=projeto1_venv\n",
    "(projeto1_venv) $ pip install <tudo-o-que-necessitar>"
   ]
  },
  {
   "cell_type": "markdown",
   "metadata": {},
   "source": [
    "Note que para instalar jupyter_contrib_nbextension e o jupyter nbextensions_configurator, usa-se a opção --sys-prefix que configura essas extensões para utilização no ambiente virtual e não no  sistema global, que é o que se pretende isolar."
   ]
  }
 ],
 "metadata": {
  "kernelspec": {
   "display_name": "example",
   "language": "python",
   "name": "example"
  },
  "language_info": {
   "codemirror_mode": {
    "name": "ipython",
    "version": 3
   },
   "file_extension": ".py",
   "mimetype": "text/x-python",
   "name": "python",
   "nbconvert_exporter": "python",
   "pygments_lexer": "ipython3",
   "version": "3.6.6"
  },
  "toc": {
   "base_numbering": 1,
   "nav_menu": {},
   "number_sections": true,
   "sideBar": true,
   "skip_h1_title": false,
   "title_cell": "Table of Contents",
   "title_sidebar": "Contents",
   "toc_cell": false,
   "toc_position": {},
   "toc_section_display": true,
   "toc_window_display": true
  }
 },
 "nbformat": 4,
 "nbformat_minor": 2
}
